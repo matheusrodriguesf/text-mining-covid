{
 "cells": [
  {
   "cell_type": "markdown",
   "metadata": {},
   "source": [
    "# Análise exploratória de dados Tweet Covid19"
   ]
  },
  {
   "cell_type": "markdown",
   "metadata": {},
   "source": [
    "## 1. Instalação dos pacotes necessários para EDA"
   ]
  },
  {
   "cell_type": "code",
   "execution_count": 1,
   "metadata": {},
   "outputs": [],
   "source": [
    "# Executar esse bloco caso não tenha o pacote instalado\n",
    "# install.packages(\"tidyverse\")\n",
    "# install.packages(\"magrittr\")\n",
    "# install.packages(\"tm\")\n",
    "# install.packages(\"wordcloud\")"
   ]
  },
  {
   "cell_type": "markdown",
   "metadata": {},
   "source": [
    "## 2. Carregando os pacotes"
   ]
  },
  {
   "cell_type": "code",
   "execution_count": 2,
   "metadata": {},
   "outputs": [
    {
     "name": "stderr",
     "output_type": "stream",
     "text": [
      "Loading required package: RColorBrewer\n",
      "\n",
      "Loading required package: NLP\n",
      "\n",
      "── \u001b[1mAttaching packages\u001b[22m ─────────────────────────────────────── tidyverse 1.3.0 ──\n",
      "\n",
      "\u001b[32m✔\u001b[39m \u001b[34mggplot2\u001b[39m 3.3.2     \u001b[32m✔\u001b[39m \u001b[34mpurrr  \u001b[39m 0.3.4\n",
      "\u001b[32m✔\u001b[39m \u001b[34mtibble \u001b[39m 3.0.3     \u001b[32m✔\u001b[39m \u001b[34mdplyr  \u001b[39m 1.0.2\n",
      "\u001b[32m✔\u001b[39m \u001b[34mtidyr  \u001b[39m 1.1.2     \u001b[32m✔\u001b[39m \u001b[34mstringr\u001b[39m 1.4.0\n",
      "\u001b[32m✔\u001b[39m \u001b[34mreadr  \u001b[39m 1.3.1     \u001b[32m✔\u001b[39m \u001b[34mforcats\u001b[39m 0.5.0\n",
      "\n",
      "── \u001b[1mConflicts\u001b[22m ────────────────────────────────────────── tidyverse_conflicts() ──\n",
      "\u001b[31m✖\u001b[39m \u001b[34mggplot2\u001b[39m::\u001b[32mannotate()\u001b[39m masks \u001b[34mNLP\u001b[39m::annotate()\n",
      "\u001b[31m✖\u001b[39m \u001b[34mtidyr\u001b[39m::\u001b[32mextract()\u001b[39m    masks \u001b[34mmagrittr\u001b[39m::extract()\n",
      "\u001b[31m✖\u001b[39m \u001b[34mdplyr\u001b[39m::\u001b[32mfilter()\u001b[39m     masks \u001b[34mstats\u001b[39m::filter()\n",
      "\u001b[31m✖\u001b[39m \u001b[34mdplyr\u001b[39m::\u001b[32mlag()\u001b[39m        masks \u001b[34mstats\u001b[39m::lag()\n",
      "\u001b[31m✖\u001b[39m \u001b[34mpurrr\u001b[39m::\u001b[32mset_names()\u001b[39m  masks \u001b[34mmagrittr\u001b[39m::set_names()\n",
      "\n"
     ]
    }
   ],
   "source": [
    "library(wordcloud)\n",
    "library(magrittr)\n",
    "library(tm)\n",
    "library(tidyverse)\n",
    "library(tidyr)"
   ]
  },
  {
   "cell_type": "markdown",
   "metadata": {},
   "source": [
    "## 3. Leitura dos dados"
   ]
  },
  {
   "cell_type": "code",
   "execution_count": 19,
   "metadata": {},
   "outputs": [
    {
     "name": "stderr",
     "output_type": "stream",
     "text": [
      "Parsed with column specification:\n",
      "cols(\n",
      "  user_name = \u001b[31mcol_character()\u001b[39m,\n",
      "  user_location = \u001b[31mcol_character()\u001b[39m,\n",
      "  user_description = \u001b[31mcol_character()\u001b[39m,\n",
      "  user_created = \u001b[34mcol_datetime(format = \"\")\u001b[39m,\n",
      "  user_followers = \u001b[32mcol_double()\u001b[39m,\n",
      "  user_friends = \u001b[32mcol_double()\u001b[39m,\n",
      "  user_favourites = \u001b[32mcol_double()\u001b[39m,\n",
      "  user_verified = \u001b[33mcol_logical()\u001b[39m,\n",
      "  date = \u001b[34mcol_datetime(format = \"\")\u001b[39m,\n",
      "  text = \u001b[31mcol_character()\u001b[39m,\n",
      "  hashtags = \u001b[31mcol_character()\u001b[39m,\n",
      "  source = \u001b[31mcol_character()\u001b[39m,\n",
      "  is_retweet = \u001b[33mcol_logical()\u001b[39m\n",
      ")\n",
      "\n"
     ]
    }
   ],
   "source": [
    "covid <-read_csv('covid19_tweets.csv')"
   ]
  },
  {
   "cell_type": "code",
   "execution_count": 20,
   "metadata": {},
   "outputs": [
    {
     "data": {
      "text/html": [
       "<table>\n",
       "<caption>A tibble: 5 × 13</caption>\n",
       "<thead>\n",
       "\t<tr><th scope=col>user_name</th><th scope=col>user_location</th><th scope=col>user_description</th><th scope=col>user_created</th><th scope=col>user_followers</th><th scope=col>user_friends</th><th scope=col>user_favourites</th><th scope=col>user_verified</th><th scope=col>date</th><th scope=col>text</th><th scope=col>hashtags</th><th scope=col>source</th><th scope=col>is_retweet</th></tr>\n",
       "\t<tr><th scope=col>&lt;chr&gt;</th><th scope=col>&lt;chr&gt;</th><th scope=col>&lt;chr&gt;</th><th scope=col>&lt;dttm&gt;</th><th scope=col>&lt;dbl&gt;</th><th scope=col>&lt;dbl&gt;</th><th scope=col>&lt;dbl&gt;</th><th scope=col>&lt;lgl&gt;</th><th scope=col>&lt;dttm&gt;</th><th scope=col>&lt;chr&gt;</th><th scope=col>&lt;chr&gt;</th><th scope=col>&lt;chr&gt;</th><th scope=col>&lt;lgl&gt;</th></tr>\n",
       "</thead>\n",
       "<tbody>\n",
       "\t<tr><td>ᏉᎥ☻լꂅϮ        </td><td>astroworld         </td><td>wednesday addams as a disney princess keepin it [̲̅$̲̅(̲̅ιοο̲̅)̲̅$̲̅] 👸🏻💚♊️🧀🌵🌃🌙                                                                                       </td><td>2017-05-26 05:46:42</td><td>   624</td><td> 950</td><td>18775</td><td>FALSE</td><td>2020-07-25 12:27:21</td><td>If I smelled the scent of hand sanitizers today on someone in the past, I would think they were so intoxicated that… https://t.co/QZvYbrOgb0</td><td>NA                               </td><td>Twitter for iPhone </td><td>FALSE</td></tr>\n",
       "\t<tr><td><span style=white-space:pre-wrap>Tom Basile 🇺🇸  </span></td><td><span style=white-space:pre-wrap>New York, NY       </span></td><td>Husband, Father, Columnist &amp; Commentator. Author of Tough Sell: Fighting the Media War in Iraq. Bush Admin Alum. Newsmax Contributor. Fmr Exec Dir NYSGOP</td><td>2009-04-16 20:06:23</td><td><span style=white-space:pre-wrap>  2253</span></td><td>1677</td><td><span style=white-space:pre-wrap>   24</span></td><td> TRUE</td><td>2020-07-25 12:27:17</td><td>Hey @Yankees @YankeesPR and @MLB - wouldn't it have made more sense to have the players pay their respects to the A… https://t.co/1QvW0zgyPu</td><td><span style=white-space:pre-wrap>NA                               </span></td><td>Twitter for Android</td><td>FALSE</td></tr>\n",
       "\t<tr><td>Time4fisticuffs</td><td>Pewee Valley, KY   </td><td>#Christian #Catholic #Conservative #Reagan #Republican #Capitalist; Sports lover - #BBN #Cincinnati #Reds #Bengals #Trump2020                            </td><td>2009-02-28 18:57:41</td><td>  9275</td><td>9525</td><td> 7254</td><td>FALSE</td><td>2020-07-25 12:27:14</td><td>@diane3443 @wdunlap @realDonaldTrump Trump never once claimed #COVID19 was a hoax. We all claim that this effort to… https://t.co/Jkk8vHWHb3</td><td>['COVID19']                      </td><td>Twitter for Android</td><td>FALSE</td></tr>\n",
       "\t<tr><td>ethel mertz    </td><td>Stuck in the Middle</td><td>#Browns #Indians #ClevelandProud #[]_[] #Cavs #Resist                                                                                                    </td><td>2019-03-07 01:45:06</td><td>   197</td><td> 987</td><td> 1488</td><td>FALSE</td><td>2020-07-25 12:27:10</td><td>@brookbanktv The one gift #COVID19 has give me is an appreciation for the simple things that were always around me… https://t.co/Z0pOAlFXcW </td><td>['COVID19']                      </td><td>Twitter for iPhone </td><td>FALSE</td></tr>\n",
       "\t<tr><td><span style=white-space:pre-wrap>DIPR-J&amp;K       </span></td><td><span style=white-space:pre-wrap>Jammu and Kashmir  </span></td><td><span style=white-space:pre-wrap>🖊️Official Twitter handle of Department of Information and Public Relations, Govt of Jammu &amp; Kashmir                                                      </span></td><td>2017-02-12 06:45:15</td><td>101009</td><td> 168</td><td><span style=white-space:pre-wrap>  101</span></td><td>FALSE</td><td>2020-07-25 12:27:08</td><td>25 July : Media Bulletin on Novel #CoronaVirusUpdates #COVID19 \n",
       "@kansalrohit69 @DrSyedSehrish @airnewsalerts @ANI… https://t.co/MN0EEcsJHh </td><td>['CoronaVirusUpdates', 'COVID19']</td><td>Twitter for Android</td><td>FALSE</td></tr>\n",
       "</tbody>\n",
       "</table>\n"
      ],
      "text/latex": [
       "A tibble: 5 × 13\n",
       "\\begin{tabular}{lllllllllllll}\n",
       " user\\_name & user\\_location & user\\_description & user\\_created & user\\_followers & user\\_friends & user\\_favourites & user\\_verified & date & text & hashtags & source & is\\_retweet\\\\\n",
       " <chr> & <chr> & <chr> & <dttm> & <dbl> & <dbl> & <dbl> & <lgl> & <dttm> & <chr> & <chr> & <chr> & <lgl>\\\\\n",
       "\\hline\n",
       "\t ᏉᎥ☻լꂅϮ         & astroworld          & wednesday addams as a disney princess keepin it {[}̲̅\\$̲̅(̲̅ιοο̲̅)̲̅\\$̲̅{]} 👸🏻💚♊️🧀🌵🌃🌙                                                                                        & 2017-05-26 05:46:42 &    624 &  950 & 18775 & FALSE & 2020-07-25 12:27:21 & If I smelled the scent of hand sanitizers today on someone in the past, I would think they were so intoxicated that… https://t.co/QZvYbrOgb0 & NA                                & Twitter for iPhone  & FALSE\\\\\n",
       "\t Tom Basile 🇺🇸   & New York, NY        & Husband, Father, Columnist \\& Commentator. Author of Tough Sell: Fighting the Media War in Iraq. Bush Admin Alum. Newsmax Contributor. Fmr Exec Dir NYSGOP & 2009-04-16 20:06:23 &   2253 & 1677 &    24 &  TRUE & 2020-07-25 12:27:17 & Hey @Yankees @YankeesPR and @MLB - wouldn't it have made more sense to have the players pay their respects to the A… https://t.co/1QvW0zgyPu & NA                                & Twitter for Android & FALSE\\\\\n",
       "\t Time4fisticuffs & Pewee Valley, KY    & \\#Christian \\#Catholic \\#Conservative \\#Reagan \\#Republican \\#Capitalist; Sports lover - \\#BBN \\#Cincinnati \\#Reds \\#Bengals \\#Trump2020                             & 2009-02-28 18:57:41 &   9275 & 9525 &  7254 & FALSE & 2020-07-25 12:27:14 & @diane3443 @wdunlap @realDonaldTrump Trump never once claimed \\#COVID19 was a hoax. We all claim that this effort to… https://t.co/Jkk8vHWHb3 & {[}'COVID19'{]}                       & Twitter for Android & FALSE\\\\\n",
       "\t ethel mertz     & Stuck in the Middle & \\#Browns \\#Indians \\#ClevelandProud \\#{[}{]}\\_{[}{]} \\#Cavs \\#Resist                                                                                                     & 2019-03-07 01:45:06 &    197 &  987 &  1488 & FALSE & 2020-07-25 12:27:10 & @brookbanktv The one gift \\#COVID19 has give me is an appreciation for the simple things that were always around me… https://t.co/Z0pOAlFXcW  & {[}'COVID19'{]}                       & Twitter for iPhone  & FALSE\\\\\n",
       "\t DIPR-J\\&K        & Jammu and Kashmir   & 🖊️Official Twitter handle of Department of Information and Public Relations, Govt of Jammu \\& Kashmir                                                       & 2017-02-12 06:45:15 & 101009 &  168 &   101 & FALSE & 2020-07-25 12:27:08 & 25 July : Media Bulletin on Novel \\#CoronaVirusUpdates \\#COVID19 \n",
       "@kansalrohit69 @DrSyedSehrish @airnewsalerts @ANI… https://t.co/MN0EEcsJHh  & {[}'CoronaVirusUpdates', 'COVID19'{]} & Twitter for Android & FALSE\\\\\n",
       "\\end{tabular}\n"
      ],
      "text/markdown": [
       "\n",
       "A tibble: 5 × 13\n",
       "\n",
       "| user_name &lt;chr&gt; | user_location &lt;chr&gt; | user_description &lt;chr&gt; | user_created &lt;dttm&gt; | user_followers &lt;dbl&gt; | user_friends &lt;dbl&gt; | user_favourites &lt;dbl&gt; | user_verified &lt;lgl&gt; | date &lt;dttm&gt; | text &lt;chr&gt; | hashtags &lt;chr&gt; | source &lt;chr&gt; | is_retweet &lt;lgl&gt; |\n",
       "|---|---|---|---|---|---|---|---|---|---|---|---|---|\n",
       "| ᏉᎥ☻լꂅϮ         | astroworld          | wednesday addams as a disney princess keepin it [̲̅$̲̅(̲̅ιοο̲̅)̲̅$̲̅] 👸🏻💚♊️🧀🌵🌃🌙                                                                                        | 2017-05-26 05:46:42 |    624 |  950 | 18775 | FALSE | 2020-07-25 12:27:21 | If I smelled the scent of hand sanitizers today on someone in the past, I would think they were so intoxicated that… https://t.co/QZvYbrOgb0 | NA                                | Twitter for iPhone  | FALSE |\n",
       "| Tom Basile 🇺🇸   | New York, NY        | Husband, Father, Columnist &amp; Commentator. Author of Tough Sell: Fighting the Media War in Iraq. Bush Admin Alum. Newsmax Contributor. Fmr Exec Dir NYSGOP | 2009-04-16 20:06:23 |   2253 | 1677 |    24 |  TRUE | 2020-07-25 12:27:17 | Hey @Yankees @YankeesPR and @MLB - wouldn't it have made more sense to have the players pay their respects to the A… https://t.co/1QvW0zgyPu | NA                                | Twitter for Android | FALSE |\n",
       "| Time4fisticuffs | Pewee Valley, KY    | #Christian #Catholic #Conservative #Reagan #Republican #Capitalist; Sports lover - #BBN #Cincinnati #Reds #Bengals #Trump2020                             | 2009-02-28 18:57:41 |   9275 | 9525 |  7254 | FALSE | 2020-07-25 12:27:14 | @diane3443 @wdunlap @realDonaldTrump Trump never once claimed #COVID19 was a hoax. We all claim that this effort to… https://t.co/Jkk8vHWHb3 | ['COVID19']                       | Twitter for Android | FALSE |\n",
       "| ethel mertz     | Stuck in the Middle | #Browns #Indians #ClevelandProud #[]_[] #Cavs #Resist                                                                                                     | 2019-03-07 01:45:06 |    197 |  987 |  1488 | FALSE | 2020-07-25 12:27:10 | @brookbanktv The one gift #COVID19 has give me is an appreciation for the simple things that were always around me… https://t.co/Z0pOAlFXcW  | ['COVID19']                       | Twitter for iPhone  | FALSE |\n",
       "| DIPR-J&amp;K        | Jammu and Kashmir   | 🖊️Official Twitter handle of Department of Information and Public Relations, Govt of Jammu &amp; Kashmir                                                       | 2017-02-12 06:45:15 | 101009 |  168 |   101 | FALSE | 2020-07-25 12:27:08 | 25 July : Media Bulletin on Novel #CoronaVirusUpdates #COVID19 \n",
       "@kansalrohit69 @DrSyedSehrish @airnewsalerts @ANI… https://t.co/MN0EEcsJHh  | ['CoronaVirusUpdates', 'COVID19'] | Twitter for Android | FALSE |\n",
       "\n"
      ],
      "text/plain": [
       "  user_name       user_location      \n",
       "1 ᏉᎥ☻լꂅϮ         astroworld         \n",
       "2 Tom Basile 🇺🇸   New York, NY       \n",
       "3 Time4fisticuffs Pewee Valley, KY   \n",
       "4 ethel mertz     Stuck in the Middle\n",
       "5 DIPR-J&K        Jammu and Kashmir  \n",
       "  user_description                                                                                                                                         \n",
       "1 wednesday addams as a disney princess keepin it [̲̅$̲̅(̲̅ιοο̲̅)̲̅$̲̅] 👸🏻💚♊️🧀🌵🌃🌙                                                                                       \n",
       "2 Husband, Father, Columnist & Commentator. Author of Tough Sell: Fighting the Media War in Iraq. Bush Admin Alum. Newsmax Contributor. Fmr Exec Dir NYSGOP\n",
       "3 #Christian #Catholic #Conservative #Reagan #Republican #Capitalist; Sports lover - #BBN #Cincinnati #Reds #Bengals #Trump2020                            \n",
       "4 #Browns #Indians #ClevelandProud #[]_[] #Cavs #Resist                                                                                                    \n",
       "5 🖊️Official Twitter handle of Department of Information and Public Relations, Govt of Jammu & Kashmir                                                      \n",
       "  user_created        user_followers user_friends user_favourites user_verified\n",
       "1 2017-05-26 05:46:42    624          950         18775           FALSE        \n",
       "2 2009-04-16 20:06:23   2253         1677            24            TRUE        \n",
       "3 2009-02-28 18:57:41   9275         9525          7254           FALSE        \n",
       "4 2019-03-07 01:45:06    197          987          1488           FALSE        \n",
       "5 2017-02-12 06:45:15 101009          168           101           FALSE        \n",
       "  date               \n",
       "1 2020-07-25 12:27:21\n",
       "2 2020-07-25 12:27:17\n",
       "3 2020-07-25 12:27:14\n",
       "4 2020-07-25 12:27:10\n",
       "5 2020-07-25 12:27:08\n",
       "  text                                                                                                                                        \n",
       "1 If I smelled the scent of hand sanitizers today on someone in the past, I would think they were so intoxicated that… https://t.co/QZvYbrOgb0\n",
       "2 Hey @Yankees @YankeesPR and @MLB - wouldn't it have made more sense to have the players pay their respects to the A… https://t.co/1QvW0zgyPu\n",
       "3 @diane3443 @wdunlap @realDonaldTrump Trump never once claimed #COVID19 was a hoax. We all claim that this effort to… https://t.co/Jkk8vHWHb3\n",
       "4 @brookbanktv The one gift #COVID19 has give me is an appreciation for the simple things that were always around me… https://t.co/Z0pOAlFXcW \n",
       "5 25 July : Media Bulletin on Novel #CoronaVirusUpdates #COVID19 \\n@kansalrohit69 @DrSyedSehrish @airnewsalerts @ANI… https://t.co/MN0EEcsJHh \n",
       "  hashtags                          source              is_retweet\n",
       "1 NA                                Twitter for iPhone  FALSE     \n",
       "2 NA                                Twitter for Android FALSE     \n",
       "3 ['COVID19']                       Twitter for Android FALSE     \n",
       "4 ['COVID19']                       Twitter for iPhone  FALSE     \n",
       "5 ['CoronaVirusUpdates', 'COVID19'] Twitter for Android FALSE     "
      ]
     },
     "metadata": {},
     "output_type": "display_data"
    }
   ],
   "source": [
    "# Verificando as 5 primeiras linhas do objeto dataframe\n",
    "covid%>%head(5)"
   ]
  },
  {
   "cell_type": "code",
   "execution_count": 21,
   "metadata": {},
   "outputs": [
    {
     "data": {
      "text/html": [
       "<table>\n",
       "<caption>A tibble: 5 × 13</caption>\n",
       "<thead>\n",
       "\t<tr><th scope=col>user_name</th><th scope=col>user_location</th><th scope=col>user_description</th><th scope=col>user_created</th><th scope=col>user_followers</th><th scope=col>user_friends</th><th scope=col>user_favourites</th><th scope=col>user_verified</th><th scope=col>date</th><th scope=col>text</th><th scope=col>hashtags</th><th scope=col>source</th><th scope=col>is_retweet</th></tr>\n",
       "\t<tr><th scope=col>&lt;chr&gt;</th><th scope=col>&lt;chr&gt;</th><th scope=col>&lt;chr&gt;</th><th scope=col>&lt;dttm&gt;</th><th scope=col>&lt;dbl&gt;</th><th scope=col>&lt;dbl&gt;</th><th scope=col>&lt;dbl&gt;</th><th scope=col>&lt;lgl&gt;</th><th scope=col>&lt;dttm&gt;</th><th scope=col>&lt;chr&gt;</th><th scope=col>&lt;chr&gt;</th><th scope=col>&lt;chr&gt;</th><th scope=col>&lt;lgl&gt;</th></tr>\n",
       "</thead>\n",
       "<tbody>\n",
       "\t<tr><td>AJIMATI AbdulRahman O.</td><td>Ilorin, Nigeria           </td><td>Animal Scientist|| Muslim|| Real Madrid/Chelsea                                                                                                           </td><td>2013-12-30 18:59:19</td><td> 412</td><td>1609</td><td> 1062</td><td>FALSE</td><td>2020-08-29 19:44:21</td><td>Thanks @IamOhmai for nominating me for the @WHO #WearAMask challenge.\n",
       "\n",
       "I nominate @abdlbaasit_ @hvbxxb,… https://t.co/IegQDkKudT                </td><td>['WearAMask']</td><td>Twitter for Android</td><td>FALSE</td></tr>\n",
       "\t<tr><td>Jason                 </td><td>Ontario                   </td><td>When your cat has more baking soda than Ninja Turtles but your too punk to care. Gamer, Frisbee and sunshine these are a few of my favorite things. Metal!</td><td>2011-12-21 04:41:30</td><td> 150</td><td> 182</td><td> 7295</td><td>FALSE</td><td>2020-08-29 19:44:16</td><td>2020! The year of insanity! Lol! #COVID19 https://t.co/y48NP0yzgn                                                                                 </td><td>['COVID19']  </td><td>Twitter for Android</td><td>FALSE</td></tr>\n",
       "\t<tr><td>BEEHEMOTH ⏳           </td><td>🇨🇦 Canada                 </td><td>⚒️ The Architects of Free Trade ⚒️ Really Did Want a World Govt of Corporations https://t.co/oYU6xhIIh8 #NonPartisanDemocracy\n",
       "GAB/Parler: Bee@Beehemoth    </td><td>2016-07-13 17:21:59</td><td>1623</td><td>2160</td><td>98000</td><td>FALSE</td><td>2020-08-29 19:44:15</td><td>@CTVNews A powerful painting by Juan Lucena. It's a tribute to the grandparents who died of COVID 19 and the grandc… https://t.co/wnXbbyoCe2      </td><td>NA           </td><td>Twitter Web App    </td><td>FALSE</td></tr>\n",
       "\t<tr><td>Gary DelPonte         </td><td>New York City             </td><td>Global UX UI Visual Designer. StoryTeller, Musician. Nature Improvisation HealthCare Aeronautics Fashion Financial Entertainment Photography BridgeBuilder</td><td>2009-10-27 17:43:13</td><td>1338</td><td>1111</td><td>    0</td><td>FALSE</td><td>2020-08-29 19:44:14</td><td>More than 1,200 students test positive for #COVID19 at major university - ABC News https://t.co/6aNhSiF5gh                                        </td><td>['COVID19']  </td><td>Twitter for iPhone </td><td>FALSE</td></tr>\n",
       "\t<tr><td>TUKY II               </td><td>Aliwal North, South Africa</td><td>TOKELO SEKHOPA | TUKY II | LAST BORN | EISH TUKY | STROKE 5 MPAMA | TALL AND TINY | ® |@CassperNyovest number1 Fan                                        </td><td>2018-04-14 17:30:07</td><td>  97</td><td>1697</td><td>  566</td><td>FALSE</td><td>2020-08-29 19:44:08</td><td>I stop when I see a Stop\n",
       "\n",
       "@SABCNews\n",
       "@IzindabaNews24\n",
       "@dailysunsa\n",
       "@eNCA\n",
       "@AliwalNorth\n",
       "@Ambitiouz_Ent\n",
       "@Official_SABC1… https://t.co/ReG8pwZoN7</td><td>NA           </td><td>Twitter for Android</td><td>FALSE</td></tr>\n",
       "</tbody>\n",
       "</table>\n"
      ],
      "text/latex": [
       "A tibble: 5 × 13\n",
       "\\begin{tabular}{lllllllllllll}\n",
       " user\\_name & user\\_location & user\\_description & user\\_created & user\\_followers & user\\_friends & user\\_favourites & user\\_verified & date & text & hashtags & source & is\\_retweet\\\\\n",
       " <chr> & <chr> & <chr> & <dttm> & <dbl> & <dbl> & <dbl> & <lgl> & <dttm> & <chr> & <chr> & <chr> & <lgl>\\\\\n",
       "\\hline\n",
       "\t AJIMATI AbdulRahman O. & Ilorin, Nigeria            & Animal Scientist\\textbar{}\\textbar{} Muslim\\textbar{}\\textbar{} Real Madrid/Chelsea                                                                                                            & 2013-12-30 18:59:19 &  412 & 1609 &  1062 & FALSE & 2020-08-29 19:44:21 & Thanks @IamOhmai for nominating me for the @WHO \\#WearAMask challenge.\n",
       "\n",
       "I nominate @abdlbaasit\\_ @hvbxxb,… https://t.co/IegQDkKudT                 & {[}'WearAMask'{]} & Twitter for Android & FALSE\\\\\n",
       "\t Jason                  & Ontario                    & When your cat has more baking soda than Ninja Turtles but your too punk to care. Gamer, Frisbee and sunshine these are a few of my favorite things. Metal! & 2011-12-21 04:41:30 &  150 &  182 &  7295 & FALSE & 2020-08-29 19:44:16 & 2020! The year of insanity! Lol! \\#COVID19 https://t.co/y48NP0yzgn                                                                                  & {[}'COVID19'{]}   & Twitter for Android & FALSE\\\\\n",
       "\t BEEHEMOTH ⏳            & 🇨🇦 Canada                  & ⚒️ The Architects of Free Trade ⚒️ Really Did Want a World Govt of Corporations https://t.co/oYU6xhIIh8 \\#NonPartisanDemocracy\n",
       "GAB/Parler: Bee@Beehemoth     & 2016-07-13 17:21:59 & 1623 & 2160 & 98000 & FALSE & 2020-08-29 19:44:15 & @CTVNews A powerful painting by Juan Lucena. It's a tribute to the grandparents who died of COVID 19 and the grandc… https://t.co/wnXbbyoCe2       & NA            & Twitter Web App     & FALSE\\\\\n",
       "\t Gary DelPonte          & New York City              & Global UX UI Visual Designer. StoryTeller, Musician. Nature Improvisation HealthCare Aeronautics Fashion Financial Entertainment Photography BridgeBuilder & 2009-10-27 17:43:13 & 1338 & 1111 &     0 & FALSE & 2020-08-29 19:44:14 & More than 1,200 students test positive for \\#COVID19 at major university - ABC News https://t.co/6aNhSiF5gh                                         & {[}'COVID19'{]}   & Twitter for iPhone  & FALSE\\\\\n",
       "\t TUKY II                & Aliwal North, South Africa & TOKELO SEKHOPA \\textbar{} TUKY II \\textbar{} LAST BORN \\textbar{} EISH TUKY \\textbar{} STROKE 5 MPAMA \\textbar{} TALL AND TINY \\textbar{} ® \\textbar{}@CassperNyovest number1 Fan                                         & 2018-04-14 17:30:07 &   97 & 1697 &   566 & FALSE & 2020-08-29 19:44:08 & I stop when I see a Stop\n",
       "\n",
       "@SABCNews\n",
       "@IzindabaNews24\n",
       "@dailysunsa\n",
       "@eNCA\n",
       "@AliwalNorth\n",
       "@Ambitiouz\\_Ent\n",
       "@Official\\_SABC1… https://t.co/ReG8pwZoN7 & NA            & Twitter for Android & FALSE\\\\\n",
       "\\end{tabular}\n"
      ],
      "text/markdown": [
       "\n",
       "A tibble: 5 × 13\n",
       "\n",
       "| user_name &lt;chr&gt; | user_location &lt;chr&gt; | user_description &lt;chr&gt; | user_created &lt;dttm&gt; | user_followers &lt;dbl&gt; | user_friends &lt;dbl&gt; | user_favourites &lt;dbl&gt; | user_verified &lt;lgl&gt; | date &lt;dttm&gt; | text &lt;chr&gt; | hashtags &lt;chr&gt; | source &lt;chr&gt; | is_retweet &lt;lgl&gt; |\n",
       "|---|---|---|---|---|---|---|---|---|---|---|---|---|\n",
       "| AJIMATI AbdulRahman O. | Ilorin, Nigeria            | Animal Scientist|| Muslim|| Real Madrid/Chelsea                                                                                                            | 2013-12-30 18:59:19 |  412 | 1609 |  1062 | FALSE | 2020-08-29 19:44:21 | Thanks @IamOhmai for nominating me for the @WHO #WearAMask challenge.\n",
       "\n",
       "I nominate @abdlbaasit_ @hvbxxb,… https://t.co/IegQDkKudT                 | ['WearAMask'] | Twitter for Android | FALSE |\n",
       "| Jason                  | Ontario                    | When your cat has more baking soda than Ninja Turtles but your too punk to care. Gamer, Frisbee and sunshine these are a few of my favorite things. Metal! | 2011-12-21 04:41:30 |  150 |  182 |  7295 | FALSE | 2020-08-29 19:44:16 | 2020! The year of insanity! Lol! #COVID19 https://t.co/y48NP0yzgn                                                                                  | ['COVID19']   | Twitter for Android | FALSE |\n",
       "| BEEHEMOTH ⏳            | 🇨🇦 Canada                  | ⚒️ The Architects of Free Trade ⚒️ Really Did Want a World Govt of Corporations https://t.co/oYU6xhIIh8 #NonPartisanDemocracy\n",
       "GAB/Parler: Bee@Beehemoth     | 2016-07-13 17:21:59 | 1623 | 2160 | 98000 | FALSE | 2020-08-29 19:44:15 | @CTVNews A powerful painting by Juan Lucena. It's a tribute to the grandparents who died of COVID 19 and the grandc… https://t.co/wnXbbyoCe2       | NA            | Twitter Web App     | FALSE |\n",
       "| Gary DelPonte          | New York City              | Global UX UI Visual Designer. StoryTeller, Musician. Nature Improvisation HealthCare Aeronautics Fashion Financial Entertainment Photography BridgeBuilder | 2009-10-27 17:43:13 | 1338 | 1111 |     0 | FALSE | 2020-08-29 19:44:14 | More than 1,200 students test positive for #COVID19 at major university - ABC News https://t.co/6aNhSiF5gh                                         | ['COVID19']   | Twitter for iPhone  | FALSE |\n",
       "| TUKY II                | Aliwal North, South Africa | TOKELO SEKHOPA | TUKY II | LAST BORN | EISH TUKY | STROKE 5 MPAMA | TALL AND TINY | ® |@CassperNyovest number1 Fan                                         | 2018-04-14 17:30:07 |   97 | 1697 |   566 | FALSE | 2020-08-29 19:44:08 | I stop when I see a Stop\n",
       "\n",
       "@SABCNews\n",
       "@IzindabaNews24\n",
       "@dailysunsa\n",
       "@eNCA\n",
       "@AliwalNorth\n",
       "@Ambitiouz_Ent\n",
       "@Official_SABC1… https://t.co/ReG8pwZoN7 | NA            | Twitter for Android | FALSE |\n",
       "\n"
      ],
      "text/plain": [
       "  user_name              user_location             \n",
       "1 AJIMATI AbdulRahman O. Ilorin, Nigeria           \n",
       "2 Jason                  Ontario                   \n",
       "3 BEEHEMOTH ⏳            🇨🇦 Canada                 \n",
       "4 Gary DelPonte          New York City             \n",
       "5 TUKY II                Aliwal North, South Africa\n",
       "  user_description                                                                                                                                          \n",
       "1 Animal Scientist|| Muslim|| Real Madrid/Chelsea                                                                                                           \n",
       "2 When your cat has more baking soda than Ninja Turtles but your too punk to care. Gamer, Frisbee and sunshine these are a few of my favorite things. Metal!\n",
       "3 ⚒️ The Architects of Free Trade ⚒️ Really Did Want a World Govt of Corporations https://t.co/oYU6xhIIh8 #NonPartisanDemocracy\\nGAB/Parler: Bee@Beehemoth    \n",
       "4 Global UX UI Visual Designer. StoryTeller, Musician. Nature Improvisation HealthCare Aeronautics Fashion Financial Entertainment Photography BridgeBuilder\n",
       "5 TOKELO SEKHOPA | TUKY II | LAST BORN | EISH TUKY | STROKE 5 MPAMA | TALL AND TINY | ® |@CassperNyovest number1 Fan                                        \n",
       "  user_created        user_followers user_friends user_favourites user_verified\n",
       "1 2013-12-30 18:59:19  412           1609          1062           FALSE        \n",
       "2 2011-12-21 04:41:30  150            182          7295           FALSE        \n",
       "3 2016-07-13 17:21:59 1623           2160         98000           FALSE        \n",
       "4 2009-10-27 17:43:13 1338           1111             0           FALSE        \n",
       "5 2018-04-14 17:30:07   97           1697           566           FALSE        \n",
       "  date               \n",
       "1 2020-08-29 19:44:21\n",
       "2 2020-08-29 19:44:16\n",
       "3 2020-08-29 19:44:15\n",
       "4 2020-08-29 19:44:14\n",
       "5 2020-08-29 19:44:08\n",
       "  text                                                                                                                                              \n",
       "1 Thanks @IamOhmai for nominating me for the @WHO #WearAMask challenge.\\n\\nI nominate @abdlbaasit_ @hvbxxb,… https://t.co/IegQDkKudT                \n",
       "2 2020! The year of insanity! Lol! #COVID19 https://t.co/y48NP0yzgn                                                                                 \n",
       "3 @CTVNews A powerful painting by Juan Lucena. It's a tribute to the grandparents who died of COVID 19 and the grandc… https://t.co/wnXbbyoCe2      \n",
       "4 More than 1,200 students test positive for #COVID19 at major university - ABC News https://t.co/6aNhSiF5gh                                        \n",
       "5 I stop when I see a Stop\\n\\n@SABCNews\\n@IzindabaNews24\\n@dailysunsa\\n@eNCA\\n@AliwalNorth\\n@Ambitiouz_Ent\\n@Official_SABC1… https://t.co/ReG8pwZoN7\n",
       "  hashtags      source              is_retweet\n",
       "1 ['WearAMask'] Twitter for Android FALSE     \n",
       "2 ['COVID19']   Twitter for Android FALSE     \n",
       "3 NA            Twitter Web App     FALSE     \n",
       "4 ['COVID19']   Twitter for iPhone  FALSE     \n",
       "5 NA            Twitter for Android FALSE     "
      ]
     },
     "metadata": {},
     "output_type": "display_data"
    }
   ],
   "source": [
    "# Verificando as 5 últimas linhas do objeto dataframe\n",
    "covid%>%tail(5)"
   ]
  },
  {
   "cell_type": "markdown",
   "metadata": {},
   "source": [
    "## 4. Verificando tipos de dados"
   ]
  },
  {
   "cell_type": "code",
   "execution_count": 22,
   "metadata": {},
   "outputs": [
    {
     "name": "stdout",
     "output_type": "stream",
     "text": [
      "Rows: 179,108\n",
      "Columns: 13\n",
      "$ user_name        \u001b[3m\u001b[38;5;246m<chr>\u001b[39m\u001b[23m \"ᏉᎥ☻լꂅϮ\", \"Tom Basile 🇺🇸\", \"Time4fisticuffs\", \"ethel…\n",
      "$ user_location    \u001b[3m\u001b[38;5;246m<chr>\u001b[39m\u001b[23m \"astroworld\", \"New York, NY\", \"Pewee Valley, KY\", \"S…\n",
      "$ user_description \u001b[3m\u001b[38;5;246m<chr>\u001b[39m\u001b[23m \"wednesday addams as a disney princess keepin it [̲̅…\n",
      "$ user_created     \u001b[3m\u001b[38;5;246m<dttm>\u001b[39m\u001b[23m 2017-05-26 05:46:42, 2009-04-16 20:06:23, 2009-02-2…\n",
      "$ user_followers   \u001b[3m\u001b[38;5;246m<dbl>\u001b[39m\u001b[23m 624, 2253, 9275, 197, 101009, 1180, 79956, 608, 25, …\n",
      "$ user_friends     \u001b[3m\u001b[38;5;246m<dbl>\u001b[39m\u001b[23m 950, 1677, 9525, 987, 168, 1071, 54810, 355, 29, 342…\n",
      "$ user_favourites  \u001b[3m\u001b[38;5;246m<dbl>\u001b[39m\u001b[23m 18775, 24, 7254, 1488, 101, 1287, 3801, 95, 18, 2980…\n",
      "$ user_verified    \u001b[3m\u001b[38;5;246m<lgl>\u001b[39m\u001b[23m FALSE, TRUE, FALSE, FALSE, FALSE, FALSE, FALSE, FALS…\n",
      "$ date             \u001b[3m\u001b[38;5;246m<dttm>\u001b[39m\u001b[23m 2020-07-25 12:27:21, 2020-07-25 12:27:17, 2020-07-2…\n",
      "$ text             \u001b[3m\u001b[38;5;246m<chr>\u001b[39m\u001b[23m \"If I smelled the scent of hand sanitizers today on …\n",
      "$ hashtags         \u001b[3m\u001b[38;5;246m<chr>\u001b[39m\u001b[23m NA, NA, \"['COVID19']\", \"['COVID19']\", \"['CoronaVirus…\n",
      "$ source           \u001b[3m\u001b[38;5;246m<chr>\u001b[39m\u001b[23m \"Twitter for iPhone\", \"Twitter for Android\", \"Twitte…\n",
      "$ is_retweet       \u001b[3m\u001b[38;5;246m<lgl>\u001b[39m\u001b[23m FALSE, FALSE, FALSE, FALSE, FALSE, FALSE, FALSE, FAL…\n"
     ]
    }
   ],
   "source": [
    "glimpse(covid)"
   ]
  },
  {
   "cell_type": "markdown",
   "metadata": {},
   "source": [
    "## 5. Removendo colunas irrelevantes"
   ]
  },
  {
   "cell_type": "code",
   "execution_count": 23,
   "metadata": {},
   "outputs": [],
   "source": [
    "covid<- covid %>% select(c(user_location,date,text,source))"
   ]
  },
  {
   "cell_type": "code",
   "execution_count": 24,
   "metadata": {},
   "outputs": [
    {
     "data": {
      "text/html": [
       "<table>\n",
       "<caption>A tibble: 5 × 4</caption>\n",
       "<thead>\n",
       "\t<tr><th scope=col>user_location</th><th scope=col>date</th><th scope=col>text</th><th scope=col>source</th></tr>\n",
       "\t<tr><th scope=col>&lt;chr&gt;</th><th scope=col>&lt;dttm&gt;</th><th scope=col>&lt;chr&gt;</th><th scope=col>&lt;chr&gt;</th></tr>\n",
       "</thead>\n",
       "<tbody>\n",
       "\t<tr><td>astroworld         </td><td>2020-07-25 12:27:21</td><td>If I smelled the scent of hand sanitizers today on someone in the past, I would think they were so intoxicated that… https://t.co/QZvYbrOgb0</td><td>Twitter for iPhone </td></tr>\n",
       "\t<tr><td>New York, NY       </td><td>2020-07-25 12:27:17</td><td>Hey @Yankees @YankeesPR and @MLB - wouldn't it have made more sense to have the players pay their respects to the A… https://t.co/1QvW0zgyPu</td><td>Twitter for Android</td></tr>\n",
       "\t<tr><td>Pewee Valley, KY   </td><td>2020-07-25 12:27:14</td><td>@diane3443 @wdunlap @realDonaldTrump Trump never once claimed #COVID19 was a hoax. We all claim that this effort to… https://t.co/Jkk8vHWHb3</td><td>Twitter for Android</td></tr>\n",
       "\t<tr><td>Stuck in the Middle</td><td>2020-07-25 12:27:10</td><td>@brookbanktv The one gift #COVID19 has give me is an appreciation for the simple things that were always around me… https://t.co/Z0pOAlFXcW </td><td>Twitter for iPhone </td></tr>\n",
       "\t<tr><td>Jammu and Kashmir  </td><td>2020-07-25 12:27:08</td><td>25 July : Media Bulletin on Novel #CoronaVirusUpdates #COVID19 \n",
       "@kansalrohit69 @DrSyedSehrish @airnewsalerts @ANI… https://t.co/MN0EEcsJHh </td><td>Twitter for Android</td></tr>\n",
       "</tbody>\n",
       "</table>\n"
      ],
      "text/latex": [
       "A tibble: 5 × 4\n",
       "\\begin{tabular}{llll}\n",
       " user\\_location & date & text & source\\\\\n",
       " <chr> & <dttm> & <chr> & <chr>\\\\\n",
       "\\hline\n",
       "\t astroworld          & 2020-07-25 12:27:21 & If I smelled the scent of hand sanitizers today on someone in the past, I would think they were so intoxicated that… https://t.co/QZvYbrOgb0 & Twitter for iPhone \\\\\n",
       "\t New York, NY        & 2020-07-25 12:27:17 & Hey @Yankees @YankeesPR and @MLB - wouldn't it have made more sense to have the players pay their respects to the A… https://t.co/1QvW0zgyPu & Twitter for Android\\\\\n",
       "\t Pewee Valley, KY    & 2020-07-25 12:27:14 & @diane3443 @wdunlap @realDonaldTrump Trump never once claimed \\#COVID19 was a hoax. We all claim that this effort to… https://t.co/Jkk8vHWHb3 & Twitter for Android\\\\\n",
       "\t Stuck in the Middle & 2020-07-25 12:27:10 & @brookbanktv The one gift \\#COVID19 has give me is an appreciation for the simple things that were always around me… https://t.co/Z0pOAlFXcW  & Twitter for iPhone \\\\\n",
       "\t Jammu and Kashmir   & 2020-07-25 12:27:08 & 25 July : Media Bulletin on Novel \\#CoronaVirusUpdates \\#COVID19 \n",
       "@kansalrohit69 @DrSyedSehrish @airnewsalerts @ANI… https://t.co/MN0EEcsJHh  & Twitter for Android\\\\\n",
       "\\end{tabular}\n"
      ],
      "text/markdown": [
       "\n",
       "A tibble: 5 × 4\n",
       "\n",
       "| user_location &lt;chr&gt; | date &lt;dttm&gt; | text &lt;chr&gt; | source &lt;chr&gt; |\n",
       "|---|---|---|---|\n",
       "| astroworld          | 2020-07-25 12:27:21 | If I smelled the scent of hand sanitizers today on someone in the past, I would think they were so intoxicated that… https://t.co/QZvYbrOgb0 | Twitter for iPhone  |\n",
       "| New York, NY        | 2020-07-25 12:27:17 | Hey @Yankees @YankeesPR and @MLB - wouldn't it have made more sense to have the players pay their respects to the A… https://t.co/1QvW0zgyPu | Twitter for Android |\n",
       "| Pewee Valley, KY    | 2020-07-25 12:27:14 | @diane3443 @wdunlap @realDonaldTrump Trump never once claimed #COVID19 was a hoax. We all claim that this effort to… https://t.co/Jkk8vHWHb3 | Twitter for Android |\n",
       "| Stuck in the Middle | 2020-07-25 12:27:10 | @brookbanktv The one gift #COVID19 has give me is an appreciation for the simple things that were always around me… https://t.co/Z0pOAlFXcW  | Twitter for iPhone  |\n",
       "| Jammu and Kashmir   | 2020-07-25 12:27:08 | 25 July : Media Bulletin on Novel #CoronaVirusUpdates #COVID19 \n",
       "@kansalrohit69 @DrSyedSehrish @airnewsalerts @ANI… https://t.co/MN0EEcsJHh  | Twitter for Android |\n",
       "\n"
      ],
      "text/plain": [
       "  user_location       date               \n",
       "1 astroworld          2020-07-25 12:27:21\n",
       "2 New York, NY        2020-07-25 12:27:17\n",
       "3 Pewee Valley, KY    2020-07-25 12:27:14\n",
       "4 Stuck in the Middle 2020-07-25 12:27:10\n",
       "5 Jammu and Kashmir   2020-07-25 12:27:08\n",
       "  text                                                                                                                                        \n",
       "1 If I smelled the scent of hand sanitizers today on someone in the past, I would think they were so intoxicated that… https://t.co/QZvYbrOgb0\n",
       "2 Hey @Yankees @YankeesPR and @MLB - wouldn't it have made more sense to have the players pay their respects to the A… https://t.co/1QvW0zgyPu\n",
       "3 @diane3443 @wdunlap @realDonaldTrump Trump never once claimed #COVID19 was a hoax. We all claim that this effort to… https://t.co/Jkk8vHWHb3\n",
       "4 @brookbanktv The one gift #COVID19 has give me is an appreciation for the simple things that were always around me… https://t.co/Z0pOAlFXcW \n",
       "5 25 July : Media Bulletin on Novel #CoronaVirusUpdates #COVID19 \\n@kansalrohit69 @DrSyedSehrish @airnewsalerts @ANI… https://t.co/MN0EEcsJHh \n",
       "  source             \n",
       "1 Twitter for iPhone \n",
       "2 Twitter for Android\n",
       "3 Twitter for Android\n",
       "4 Twitter for iPhone \n",
       "5 Twitter for Android"
      ]
     },
     "metadata": {},
     "output_type": "display_data"
    }
   ],
   "source": [
    "covid %>%head(5)"
   ]
  },
  {
   "cell_type": "code",
   "execution_count": 25,
   "metadata": {},
   "outputs": [
    {
     "data": {
      "text/html": [
       "<table>\n",
       "<caption>A tibble: 5 × 4</caption>\n",
       "<thead>\n",
       "\t<tr><th scope=col>user_location</th><th scope=col>date</th><th scope=col>text</th><th scope=col>source</th></tr>\n",
       "\t<tr><th scope=col>&lt;chr&gt;</th><th scope=col>&lt;dttm&gt;</th><th scope=col>&lt;chr&gt;</th><th scope=col>&lt;chr&gt;</th></tr>\n",
       "</thead>\n",
       "<tbody>\n",
       "\t<tr><td>Ilorin, Nigeria           </td><td>2020-08-29 19:44:21</td><td>Thanks @IamOhmai for nominating me for the @WHO #WearAMask challenge.\n",
       "\n",
       "I nominate @abdlbaasit_ @hvbxxb,… https://t.co/IegQDkKudT                </td><td>Twitter for Android</td></tr>\n",
       "\t<tr><td>Ontario                   </td><td>2020-08-29 19:44:16</td><td>2020! The year of insanity! Lol! #COVID19 https://t.co/y48NP0yzgn                                                                                 </td><td>Twitter for Android</td></tr>\n",
       "\t<tr><td>🇨🇦 Canada                 </td><td>2020-08-29 19:44:15</td><td>@CTVNews A powerful painting by Juan Lucena. It's a tribute to the grandparents who died of COVID 19 and the grandc… https://t.co/wnXbbyoCe2      </td><td>Twitter Web App    </td></tr>\n",
       "\t<tr><td>New York City             </td><td>2020-08-29 19:44:14</td><td>More than 1,200 students test positive for #COVID19 at major university - ABC News https://t.co/6aNhSiF5gh                                        </td><td>Twitter for iPhone </td></tr>\n",
       "\t<tr><td>Aliwal North, South Africa</td><td>2020-08-29 19:44:08</td><td>I stop when I see a Stop\n",
       "\n",
       "@SABCNews\n",
       "@IzindabaNews24\n",
       "@dailysunsa\n",
       "@eNCA\n",
       "@AliwalNorth\n",
       "@Ambitiouz_Ent\n",
       "@Official_SABC1… https://t.co/ReG8pwZoN7</td><td>Twitter for Android</td></tr>\n",
       "</tbody>\n",
       "</table>\n"
      ],
      "text/latex": [
       "A tibble: 5 × 4\n",
       "\\begin{tabular}{llll}\n",
       " user\\_location & date & text & source\\\\\n",
       " <chr> & <dttm> & <chr> & <chr>\\\\\n",
       "\\hline\n",
       "\t Ilorin, Nigeria            & 2020-08-29 19:44:21 & Thanks @IamOhmai for nominating me for the @WHO \\#WearAMask challenge.\n",
       "\n",
       "I nominate @abdlbaasit\\_ @hvbxxb,… https://t.co/IegQDkKudT                 & Twitter for Android\\\\\n",
       "\t Ontario                    & 2020-08-29 19:44:16 & 2020! The year of insanity! Lol! \\#COVID19 https://t.co/y48NP0yzgn                                                                                  & Twitter for Android\\\\\n",
       "\t 🇨🇦 Canada                  & 2020-08-29 19:44:15 & @CTVNews A powerful painting by Juan Lucena. It's a tribute to the grandparents who died of COVID 19 and the grandc… https://t.co/wnXbbyoCe2       & Twitter Web App    \\\\\n",
       "\t New York City              & 2020-08-29 19:44:14 & More than 1,200 students test positive for \\#COVID19 at major university - ABC News https://t.co/6aNhSiF5gh                                         & Twitter for iPhone \\\\\n",
       "\t Aliwal North, South Africa & 2020-08-29 19:44:08 & I stop when I see a Stop\n",
       "\n",
       "@SABCNews\n",
       "@IzindabaNews24\n",
       "@dailysunsa\n",
       "@eNCA\n",
       "@AliwalNorth\n",
       "@Ambitiouz\\_Ent\n",
       "@Official\\_SABC1… https://t.co/ReG8pwZoN7 & Twitter for Android\\\\\n",
       "\\end{tabular}\n"
      ],
      "text/markdown": [
       "\n",
       "A tibble: 5 × 4\n",
       "\n",
       "| user_location &lt;chr&gt; | date &lt;dttm&gt; | text &lt;chr&gt; | source &lt;chr&gt; |\n",
       "|---|---|---|---|\n",
       "| Ilorin, Nigeria            | 2020-08-29 19:44:21 | Thanks @IamOhmai for nominating me for the @WHO #WearAMask challenge.\n",
       "\n",
       "I nominate @abdlbaasit_ @hvbxxb,… https://t.co/IegQDkKudT                 | Twitter for Android |\n",
       "| Ontario                    | 2020-08-29 19:44:16 | 2020! The year of insanity! Lol! #COVID19 https://t.co/y48NP0yzgn                                                                                  | Twitter for Android |\n",
       "| 🇨🇦 Canada                  | 2020-08-29 19:44:15 | @CTVNews A powerful painting by Juan Lucena. It's a tribute to the grandparents who died of COVID 19 and the grandc… https://t.co/wnXbbyoCe2       | Twitter Web App     |\n",
       "| New York City              | 2020-08-29 19:44:14 | More than 1,200 students test positive for #COVID19 at major university - ABC News https://t.co/6aNhSiF5gh                                         | Twitter for iPhone  |\n",
       "| Aliwal North, South Africa | 2020-08-29 19:44:08 | I stop when I see a Stop\n",
       "\n",
       "@SABCNews\n",
       "@IzindabaNews24\n",
       "@dailysunsa\n",
       "@eNCA\n",
       "@AliwalNorth\n",
       "@Ambitiouz_Ent\n",
       "@Official_SABC1… https://t.co/ReG8pwZoN7 | Twitter for Android |\n",
       "\n"
      ],
      "text/plain": [
       "  user_location              date               \n",
       "1 Ilorin, Nigeria            2020-08-29 19:44:21\n",
       "2 Ontario                    2020-08-29 19:44:16\n",
       "3 🇨🇦 Canada                  2020-08-29 19:44:15\n",
       "4 New York City              2020-08-29 19:44:14\n",
       "5 Aliwal North, South Africa 2020-08-29 19:44:08\n",
       "  text                                                                                                                                              \n",
       "1 Thanks @IamOhmai for nominating me for the @WHO #WearAMask challenge.\\n\\nI nominate @abdlbaasit_ @hvbxxb,… https://t.co/IegQDkKudT                \n",
       "2 2020! The year of insanity! Lol! #COVID19 https://t.co/y48NP0yzgn                                                                                 \n",
       "3 @CTVNews A powerful painting by Juan Lucena. It's a tribute to the grandparents who died of COVID 19 and the grandc… https://t.co/wnXbbyoCe2      \n",
       "4 More than 1,200 students test positive for #COVID19 at major university - ABC News https://t.co/6aNhSiF5gh                                        \n",
       "5 I stop when I see a Stop\\n\\n@SABCNews\\n@IzindabaNews24\\n@dailysunsa\\n@eNCA\\n@AliwalNorth\\n@Ambitiouz_Ent\\n@Official_SABC1… https://t.co/ReG8pwZoN7\n",
       "  source             \n",
       "1 Twitter for Android\n",
       "2 Twitter for Android\n",
       "3 Twitter Web App    \n",
       "4 Twitter for iPhone \n",
       "5 Twitter for Android"
      ]
     },
     "metadata": {},
     "output_type": "display_data"
    }
   ],
   "source": [
    "covid %>%tail(5)"
   ]
  },
  {
   "cell_type": "markdown",
   "metadata": {},
   "source": [
    "## 6. Renomeando as colunas"
   ]
  },
  {
   "cell_type": "code",
   "execution_count": 26,
   "metadata": {},
   "outputs": [],
   "source": [
    "covid<-covid %>%rename(localizacao = user_location,\n",
    "                data_hora_publicacao = date,\n",
    "                texto = text,\n",
    "                origem = source)"
   ]
  },
  {
   "cell_type": "code",
   "execution_count": 27,
   "metadata": {},
   "outputs": [
    {
     "data": {
      "text/html": [
       "<table>\n",
       "<caption>A tibble: 6 × 4</caption>\n",
       "<thead>\n",
       "\t<tr><th scope=col>localizacao</th><th scope=col>data_hora_publicacao</th><th scope=col>texto</th><th scope=col>origem</th></tr>\n",
       "\t<tr><th scope=col>&lt;chr&gt;</th><th scope=col>&lt;dttm&gt;</th><th scope=col>&lt;chr&gt;</th><th scope=col>&lt;chr&gt;</th></tr>\n",
       "</thead>\n",
       "<tbody>\n",
       "\t<tr><td>astroworld         </td><td>2020-07-25 12:27:21</td><td>If I smelled the scent of hand sanitizers today on someone in the past, I would think they were so intoxicated that… https://t.co/QZvYbrOgb0</td><td>Twitter for iPhone </td></tr>\n",
       "\t<tr><td>New York, NY       </td><td>2020-07-25 12:27:17</td><td>Hey @Yankees @YankeesPR and @MLB - wouldn't it have made more sense to have the players pay their respects to the A… https://t.co/1QvW0zgyPu</td><td>Twitter for Android</td></tr>\n",
       "\t<tr><td>Pewee Valley, KY   </td><td>2020-07-25 12:27:14</td><td>@diane3443 @wdunlap @realDonaldTrump Trump never once claimed #COVID19 was a hoax. We all claim that this effort to… https://t.co/Jkk8vHWHb3</td><td>Twitter for Android</td></tr>\n",
       "\t<tr><td>Stuck in the Middle</td><td>2020-07-25 12:27:10</td><td>@brookbanktv The one gift #COVID19 has give me is an appreciation for the simple things that were always around me… https://t.co/Z0pOAlFXcW </td><td>Twitter for iPhone </td></tr>\n",
       "\t<tr><td>Jammu and Kashmir  </td><td>2020-07-25 12:27:08</td><td>25 July : Media Bulletin on Novel #CoronaVirusUpdates #COVID19 \n",
       "@kansalrohit69 @DrSyedSehrish @airnewsalerts @ANI… https://t.co/MN0EEcsJHh </td><td>Twitter for Android</td></tr>\n",
       "\t<tr><td>Новоро́ссия         </td><td>2020-07-25 12:27:06</td><td>#coronavirus #covid19 deaths continue to rise. It's almost  as bad as it ever was.  Politicians and businesses want… https://t.co/hXMHooXX2C</td><td>Twitter Web App    </td></tr>\n",
       "</tbody>\n",
       "</table>\n"
      ],
      "text/latex": [
       "A tibble: 6 × 4\n",
       "\\begin{tabular}{llll}\n",
       " localizacao & data\\_hora\\_publicacao & texto & origem\\\\\n",
       " <chr> & <dttm> & <chr> & <chr>\\\\\n",
       "\\hline\n",
       "\t astroworld          & 2020-07-25 12:27:21 & If I smelled the scent of hand sanitizers today on someone in the past, I would think they were so intoxicated that… https://t.co/QZvYbrOgb0 & Twitter for iPhone \\\\\n",
       "\t New York, NY        & 2020-07-25 12:27:17 & Hey @Yankees @YankeesPR and @MLB - wouldn't it have made more sense to have the players pay their respects to the A… https://t.co/1QvW0zgyPu & Twitter for Android\\\\\n",
       "\t Pewee Valley, KY    & 2020-07-25 12:27:14 & @diane3443 @wdunlap @realDonaldTrump Trump never once claimed \\#COVID19 was a hoax. We all claim that this effort to… https://t.co/Jkk8vHWHb3 & Twitter for Android\\\\\n",
       "\t Stuck in the Middle & 2020-07-25 12:27:10 & @brookbanktv The one gift \\#COVID19 has give me is an appreciation for the simple things that were always around me… https://t.co/Z0pOAlFXcW  & Twitter for iPhone \\\\\n",
       "\t Jammu and Kashmir   & 2020-07-25 12:27:08 & 25 July : Media Bulletin on Novel \\#CoronaVirusUpdates \\#COVID19 \n",
       "@kansalrohit69 @DrSyedSehrish @airnewsalerts @ANI… https://t.co/MN0EEcsJHh  & Twitter for Android\\\\\n",
       "\t Новоро́ссия          & 2020-07-25 12:27:06 & \\#coronavirus \\#covid19 deaths continue to rise. It's almost  as bad as it ever was.  Politicians and businesses want… https://t.co/hXMHooXX2C & Twitter Web App    \\\\\n",
       "\\end{tabular}\n"
      ],
      "text/markdown": [
       "\n",
       "A tibble: 6 × 4\n",
       "\n",
       "| localizacao &lt;chr&gt; | data_hora_publicacao &lt;dttm&gt; | texto &lt;chr&gt; | origem &lt;chr&gt; |\n",
       "|---|---|---|---|\n",
       "| astroworld          | 2020-07-25 12:27:21 | If I smelled the scent of hand sanitizers today on someone in the past, I would think they were so intoxicated that… https://t.co/QZvYbrOgb0 | Twitter for iPhone  |\n",
       "| New York, NY        | 2020-07-25 12:27:17 | Hey @Yankees @YankeesPR and @MLB - wouldn't it have made more sense to have the players pay their respects to the A… https://t.co/1QvW0zgyPu | Twitter for Android |\n",
       "| Pewee Valley, KY    | 2020-07-25 12:27:14 | @diane3443 @wdunlap @realDonaldTrump Trump never once claimed #COVID19 was a hoax. We all claim that this effort to… https://t.co/Jkk8vHWHb3 | Twitter for Android |\n",
       "| Stuck in the Middle | 2020-07-25 12:27:10 | @brookbanktv The one gift #COVID19 has give me is an appreciation for the simple things that were always around me… https://t.co/Z0pOAlFXcW  | Twitter for iPhone  |\n",
       "| Jammu and Kashmir   | 2020-07-25 12:27:08 | 25 July : Media Bulletin on Novel #CoronaVirusUpdates #COVID19 \n",
       "@kansalrohit69 @DrSyedSehrish @airnewsalerts @ANI… https://t.co/MN0EEcsJHh  | Twitter for Android |\n",
       "| Новоро́ссия          | 2020-07-25 12:27:06 | #coronavirus #covid19 deaths continue to rise. It's almost  as bad as it ever was.  Politicians and businesses want… https://t.co/hXMHooXX2C | Twitter Web App     |\n",
       "\n"
      ],
      "text/plain": [
       "  localizacao         data_hora_publicacao\n",
       "1 astroworld          2020-07-25 12:27:21 \n",
       "2 New York, NY        2020-07-25 12:27:17 \n",
       "3 Pewee Valley, KY    2020-07-25 12:27:14 \n",
       "4 Stuck in the Middle 2020-07-25 12:27:10 \n",
       "5 Jammu and Kashmir   2020-07-25 12:27:08 \n",
       "6 Новоро́ссия          2020-07-25 12:27:06 \n",
       "  texto                                                                                                                                       \n",
       "1 If I smelled the scent of hand sanitizers today on someone in the past, I would think they were so intoxicated that… https://t.co/QZvYbrOgb0\n",
       "2 Hey @Yankees @YankeesPR and @MLB - wouldn't it have made more sense to have the players pay their respects to the A… https://t.co/1QvW0zgyPu\n",
       "3 @diane3443 @wdunlap @realDonaldTrump Trump never once claimed #COVID19 was a hoax. We all claim that this effort to… https://t.co/Jkk8vHWHb3\n",
       "4 @brookbanktv The one gift #COVID19 has give me is an appreciation for the simple things that were always around me… https://t.co/Z0pOAlFXcW \n",
       "5 25 July : Media Bulletin on Novel #CoronaVirusUpdates #COVID19 \\n@kansalrohit69 @DrSyedSehrish @airnewsalerts @ANI… https://t.co/MN0EEcsJHh \n",
       "6 #coronavirus #covid19 deaths continue to rise. It's almost  as bad as it ever was.  Politicians and businesses want… https://t.co/hXMHooXX2C\n",
       "  origem             \n",
       "1 Twitter for iPhone \n",
       "2 Twitter for Android\n",
       "3 Twitter for Android\n",
       "4 Twitter for iPhone \n",
       "5 Twitter for Android\n",
       "6 Twitter Web App    "
      ]
     },
     "metadata": {},
     "output_type": "display_data"
    }
   ],
   "source": [
    "covid%>%head()"
   ]
  },
  {
   "cell_type": "code",
   "execution_count": 28,
   "metadata": {},
   "outputs": [
    {
     "data": {
      "text/html": [
       "<table>\n",
       "<caption>A tibble: 6 × 4</caption>\n",
       "<thead>\n",
       "\t<tr><th scope=col>localizacao</th><th scope=col>data_hora_publicacao</th><th scope=col>texto</th><th scope=col>origem</th></tr>\n",
       "\t<tr><th scope=col>&lt;chr&gt;</th><th scope=col>&lt;dttm&gt;</th><th scope=col>&lt;chr&gt;</th><th scope=col>&lt;chr&gt;</th></tr>\n",
       "</thead>\n",
       "<tbody>\n",
       "\t<tr><td>T.O.                      </td><td>2020-08-29 19:44:23</td><td>we have reached 25mil cases of #covid19, worldwide. oof.\n",
       "https://t.co/iQPfMBUXdc                                                                 </td><td>Twitter Web App    </td></tr>\n",
       "\t<tr><td>Ilorin, Nigeria           </td><td>2020-08-29 19:44:21</td><td>Thanks @IamOhmai for nominating me for the @WHO #WearAMask challenge.\n",
       "\n",
       "I nominate @abdlbaasit_ @hvbxxb,… https://t.co/IegQDkKudT                </td><td>Twitter for Android</td></tr>\n",
       "\t<tr><td>Ontario                   </td><td>2020-08-29 19:44:16</td><td>2020! The year of insanity! Lol! #COVID19 https://t.co/y48NP0yzgn                                                                                 </td><td>Twitter for Android</td></tr>\n",
       "\t<tr><td>🇨🇦 Canada                 </td><td>2020-08-29 19:44:15</td><td>@CTVNews A powerful painting by Juan Lucena. It's a tribute to the grandparents who died of COVID 19 and the grandc… https://t.co/wnXbbyoCe2      </td><td>Twitter Web App    </td></tr>\n",
       "\t<tr><td>New York City             </td><td>2020-08-29 19:44:14</td><td>More than 1,200 students test positive for #COVID19 at major university - ABC News https://t.co/6aNhSiF5gh                                        </td><td>Twitter for iPhone </td></tr>\n",
       "\t<tr><td>Aliwal North, South Africa</td><td>2020-08-29 19:44:08</td><td>I stop when I see a Stop\n",
       "\n",
       "@SABCNews\n",
       "@IzindabaNews24\n",
       "@dailysunsa\n",
       "@eNCA\n",
       "@AliwalNorth\n",
       "@Ambitiouz_Ent\n",
       "@Official_SABC1… https://t.co/ReG8pwZoN7</td><td>Twitter for Android</td></tr>\n",
       "</tbody>\n",
       "</table>\n"
      ],
      "text/latex": [
       "A tibble: 6 × 4\n",
       "\\begin{tabular}{llll}\n",
       " localizacao & data\\_hora\\_publicacao & texto & origem\\\\\n",
       " <chr> & <dttm> & <chr> & <chr>\\\\\n",
       "\\hline\n",
       "\t T.O.                       & 2020-08-29 19:44:23 & we have reached 25mil cases of \\#covid19, worldwide. oof.\n",
       "https://t.co/iQPfMBUXdc                                                                  & Twitter Web App    \\\\\n",
       "\t Ilorin, Nigeria            & 2020-08-29 19:44:21 & Thanks @IamOhmai for nominating me for the @WHO \\#WearAMask challenge.\n",
       "\n",
       "I nominate @abdlbaasit\\_ @hvbxxb,… https://t.co/IegQDkKudT                 & Twitter for Android\\\\\n",
       "\t Ontario                    & 2020-08-29 19:44:16 & 2020! The year of insanity! Lol! \\#COVID19 https://t.co/y48NP0yzgn                                                                                  & Twitter for Android\\\\\n",
       "\t 🇨🇦 Canada                  & 2020-08-29 19:44:15 & @CTVNews A powerful painting by Juan Lucena. It's a tribute to the grandparents who died of COVID 19 and the grandc… https://t.co/wnXbbyoCe2       & Twitter Web App    \\\\\n",
       "\t New York City              & 2020-08-29 19:44:14 & More than 1,200 students test positive for \\#COVID19 at major university - ABC News https://t.co/6aNhSiF5gh                                         & Twitter for iPhone \\\\\n",
       "\t Aliwal North, South Africa & 2020-08-29 19:44:08 & I stop when I see a Stop\n",
       "\n",
       "@SABCNews\n",
       "@IzindabaNews24\n",
       "@dailysunsa\n",
       "@eNCA\n",
       "@AliwalNorth\n",
       "@Ambitiouz\\_Ent\n",
       "@Official\\_SABC1… https://t.co/ReG8pwZoN7 & Twitter for Android\\\\\n",
       "\\end{tabular}\n"
      ],
      "text/markdown": [
       "\n",
       "A tibble: 6 × 4\n",
       "\n",
       "| localizacao &lt;chr&gt; | data_hora_publicacao &lt;dttm&gt; | texto &lt;chr&gt; | origem &lt;chr&gt; |\n",
       "|---|---|---|---|\n",
       "| T.O.                       | 2020-08-29 19:44:23 | we have reached 25mil cases of #covid19, worldwide. oof.\n",
       "https://t.co/iQPfMBUXdc                                                                  | Twitter Web App     |\n",
       "| Ilorin, Nigeria            | 2020-08-29 19:44:21 | Thanks @IamOhmai for nominating me for the @WHO #WearAMask challenge.\n",
       "\n",
       "I nominate @abdlbaasit_ @hvbxxb,… https://t.co/IegQDkKudT                 | Twitter for Android |\n",
       "| Ontario                    | 2020-08-29 19:44:16 | 2020! The year of insanity! Lol! #COVID19 https://t.co/y48NP0yzgn                                                                                  | Twitter for Android |\n",
       "| 🇨🇦 Canada                  | 2020-08-29 19:44:15 | @CTVNews A powerful painting by Juan Lucena. It's a tribute to the grandparents who died of COVID 19 and the grandc… https://t.co/wnXbbyoCe2       | Twitter Web App     |\n",
       "| New York City              | 2020-08-29 19:44:14 | More than 1,200 students test positive for #COVID19 at major university - ABC News https://t.co/6aNhSiF5gh                                         | Twitter for iPhone  |\n",
       "| Aliwal North, South Africa | 2020-08-29 19:44:08 | I stop when I see a Stop\n",
       "\n",
       "@SABCNews\n",
       "@IzindabaNews24\n",
       "@dailysunsa\n",
       "@eNCA\n",
       "@AliwalNorth\n",
       "@Ambitiouz_Ent\n",
       "@Official_SABC1… https://t.co/ReG8pwZoN7 | Twitter for Android |\n",
       "\n"
      ],
      "text/plain": [
       "  localizacao                data_hora_publicacao\n",
       "1 T.O.                       2020-08-29 19:44:23 \n",
       "2 Ilorin, Nigeria            2020-08-29 19:44:21 \n",
       "3 Ontario                    2020-08-29 19:44:16 \n",
       "4 🇨🇦 Canada                  2020-08-29 19:44:15 \n",
       "5 New York City              2020-08-29 19:44:14 \n",
       "6 Aliwal North, South Africa 2020-08-29 19:44:08 \n",
       "  texto                                                                                                                                             \n",
       "1 we have reached 25mil cases of #covid19, worldwide. oof.\\nhttps://t.co/iQPfMBUXdc                                                                 \n",
       "2 Thanks @IamOhmai for nominating me for the @WHO #WearAMask challenge.\\n\\nI nominate @abdlbaasit_ @hvbxxb,… https://t.co/IegQDkKudT                \n",
       "3 2020! The year of insanity! Lol! #COVID19 https://t.co/y48NP0yzgn                                                                                 \n",
       "4 @CTVNews A powerful painting by Juan Lucena. It's a tribute to the grandparents who died of COVID 19 and the grandc… https://t.co/wnXbbyoCe2      \n",
       "5 More than 1,200 students test positive for #COVID19 at major university - ABC News https://t.co/6aNhSiF5gh                                        \n",
       "6 I stop when I see a Stop\\n\\n@SABCNews\\n@IzindabaNews24\\n@dailysunsa\\n@eNCA\\n@AliwalNorth\\n@Ambitiouz_Ent\\n@Official_SABC1… https://t.co/ReG8pwZoN7\n",
       "  origem             \n",
       "1 Twitter Web App    \n",
       "2 Twitter for Android\n",
       "3 Twitter for Android\n",
       "4 Twitter Web App    \n",
       "5 Twitter for iPhone \n",
       "6 Twitter for Android"
      ]
     },
     "metadata": {},
     "output_type": "display_data"
    }
   ],
   "source": [
    "covid%>%tail()"
   ]
  },
  {
   "cell_type": "code",
   "execution_count": 38,
   "metadata": {},
   "outputs": [
    {
     "data": {
      "text/html": [
       "<table>\n",
       "<caption>A tibble: 10 × 2</caption>\n",
       "<thead>\n",
       "\t<tr><th scope=col>origem</th><th scope=col>n</th></tr>\n",
       "\t<tr><th scope=col>&lt;chr&gt;</th><th scope=col>&lt;int&gt;</th></tr>\n",
       "</thead>\n",
       "<tbody>\n",
       "\t<tr><td>Twitter Web App    </td><td>56891</td></tr>\n",
       "\t<tr><td>Twitter for Android</td><td>40179</td></tr>\n",
       "\t<tr><td>Twitter for iPhone </td><td>35472</td></tr>\n",
       "\t<tr><td>TweetDeck          </td><td> 8543</td></tr>\n",
       "\t<tr><td>Hootsuite Inc.     </td><td> 7321</td></tr>\n",
       "\t<tr><td>Twitter for iPad   </td><td> 4336</td></tr>\n",
       "\t<tr><td>Buffer             </td><td> 2728</td></tr>\n",
       "\t<tr><td>Sprout Social      </td><td> 1833</td></tr>\n",
       "\t<tr><td>Instagram          </td><td> 1759</td></tr>\n",
       "\t<tr><td>IFTTT              </td><td> 1545</td></tr>\n",
       "</tbody>\n",
       "</table>\n"
      ],
      "text/latex": [
       "A tibble: 10 × 2\n",
       "\\begin{tabular}{ll}\n",
       " origem & n\\\\\n",
       " <chr> & <int>\\\\\n",
       "\\hline\n",
       "\t Twitter Web App     & 56891\\\\\n",
       "\t Twitter for Android & 40179\\\\\n",
       "\t Twitter for iPhone  & 35472\\\\\n",
       "\t TweetDeck           &  8543\\\\\n",
       "\t Hootsuite Inc.      &  7321\\\\\n",
       "\t Twitter for iPad    &  4336\\\\\n",
       "\t Buffer              &  2728\\\\\n",
       "\t Sprout Social       &  1833\\\\\n",
       "\t Instagram           &  1759\\\\\n",
       "\t IFTTT               &  1545\\\\\n",
       "\\end{tabular}\n"
      ],
      "text/markdown": [
       "\n",
       "A tibble: 10 × 2\n",
       "\n",
       "| origem &lt;chr&gt; | n &lt;int&gt; |\n",
       "|---|---|\n",
       "| Twitter Web App     | 56891 |\n",
       "| Twitter for Android | 40179 |\n",
       "| Twitter for iPhone  | 35472 |\n",
       "| TweetDeck           |  8543 |\n",
       "| Hootsuite Inc.      |  7321 |\n",
       "| Twitter for iPad    |  4336 |\n",
       "| Buffer              |  2728 |\n",
       "| Sprout Social       |  1833 |\n",
       "| Instagram           |  1759 |\n",
       "| IFTTT               |  1545 |\n",
       "\n"
      ],
      "text/plain": [
       "   origem              n    \n",
       "1  Twitter Web App     56891\n",
       "2  Twitter for Android 40179\n",
       "3  Twitter for iPhone  35472\n",
       "4  TweetDeck            8543\n",
       "5  Hootsuite Inc.       7321\n",
       "6  Twitter for iPad     4336\n",
       "7  Buffer               2728\n",
       "8  Sprout Social        1833\n",
       "9  Instagram            1759\n",
       "10 IFTTT                1545"
      ]
     },
     "metadata": {},
     "output_type": "display_data"
    }
   ],
   "source": [
    "covid %>%count(origem,sort = TRUE)%>% head(10)"
   ]
  },
  {
   "cell_type": "code",
   "execution_count": 39,
   "metadata": {},
   "outputs": [
    {
     "data": {
      "text/html": [
       "<table>\n",
       "<caption>A tibble: 10 × 2</caption>\n",
       "<thead>\n",
       "\t<tr><th scope=col>localizacao</th><th scope=col>n</th></tr>\n",
       "\t<tr><th scope=col>&lt;chr&gt;</th><th scope=col>&lt;int&gt;</th></tr>\n",
       "</thead>\n",
       "<tbody>\n",
       "\t<tr><td>NA              </td><td>36804</td></tr>\n",
       "\t<tr><td>India           </td><td> 3803</td></tr>\n",
       "\t<tr><td>United States   </td><td> 2470</td></tr>\n",
       "\t<tr><td>New Delhi, India</td><td> 1729</td></tr>\n",
       "\t<tr><td>Mumbai, India   </td><td> 1403</td></tr>\n",
       "\t<tr><td>Washington, DC  </td><td> 1373</td></tr>\n",
       "\t<tr><td>London, England </td><td> 1272</td></tr>\n",
       "\t<tr><td>United Kingdom  </td><td> 1226</td></tr>\n",
       "\t<tr><td>London          </td><td> 1135</td></tr>\n",
       "\t<tr><td>New York, NY    </td><td> 1098</td></tr>\n",
       "</tbody>\n",
       "</table>\n"
      ],
      "text/latex": [
       "A tibble: 10 × 2\n",
       "\\begin{tabular}{ll}\n",
       " localizacao & n\\\\\n",
       " <chr> & <int>\\\\\n",
       "\\hline\n",
       "\t NA               & 36804\\\\\n",
       "\t India            &  3803\\\\\n",
       "\t United States    &  2470\\\\\n",
       "\t New Delhi, India &  1729\\\\\n",
       "\t Mumbai, India    &  1403\\\\\n",
       "\t Washington, DC   &  1373\\\\\n",
       "\t London, England  &  1272\\\\\n",
       "\t United Kingdom   &  1226\\\\\n",
       "\t London           &  1135\\\\\n",
       "\t New York, NY     &  1098\\\\\n",
       "\\end{tabular}\n"
      ],
      "text/markdown": [
       "\n",
       "A tibble: 10 × 2\n",
       "\n",
       "| localizacao &lt;chr&gt; | n &lt;int&gt; |\n",
       "|---|---|\n",
       "| NA               | 36804 |\n",
       "| India            |  3803 |\n",
       "| United States    |  2470 |\n",
       "| New Delhi, India |  1729 |\n",
       "| Mumbai, India    |  1403 |\n",
       "| Washington, DC   |  1373 |\n",
       "| London, England  |  1272 |\n",
       "| United Kingdom   |  1226 |\n",
       "| London           |  1135 |\n",
       "| New York, NY     |  1098 |\n",
       "\n"
      ],
      "text/plain": [
       "   localizacao      n    \n",
       "1  NA               36804\n",
       "2  India             3803\n",
       "3  United States     2470\n",
       "4  New Delhi, India  1729\n",
       "5  Mumbai, India     1403\n",
       "6  Washington, DC    1373\n",
       "7  London, England   1272\n",
       "8  United Kingdom    1226\n",
       "9  London            1135\n",
       "10 New York, NY      1098"
      ]
     },
     "metadata": {},
     "output_type": "display_data"
    }
   ],
   "source": [
    "covid %>%count(localizacao, sort = TRUE)%>% head(10)"
   ]
  },
  {
   "cell_type": "code",
   "execution_count": null,
   "metadata": {},
   "outputs": [],
   "source": []
  }
 ],
 "metadata": {
  "kernelspec": {
   "display_name": "R",
   "language": "R",
   "name": "ir"
  },
  "language_info": {
   "codemirror_mode": "r",
   "file_extension": ".r",
   "mimetype": "text/x-r-source",
   "name": "R",
   "pygments_lexer": "r",
   "version": "3.6.2"
  }
 },
 "nbformat": 4,
 "nbformat_minor": 4
}
