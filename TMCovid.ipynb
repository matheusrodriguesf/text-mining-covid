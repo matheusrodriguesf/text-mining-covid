{
 "cells": [
  {
   "cell_type": "markdown",
   "metadata": {},
   "source": [
    "# Análise exploratória de dados Pub Med e Tweet Covid19"
   ]
  },
  {
   "cell_type": "markdown",
   "metadata": {},
   "source": [
    "## Instalação dos pacotes necessários para EDA"
   ]
  },
  {
   "cell_type": "code",
   "execution_count": null,
   "metadata": {},
   "outputs": [],
   "source": [
    "# Executar esse bloco caso não tenha o pacote instalado\n",
    "# install.packages(\"tidyverse\")\n",
    "# install.packages(\"magrittr\")\n",
    "# install.packages(\"tm\")\n",
    "# install.packages(\"wordcloud\")"
   ]
  },
  {
   "cell_type": "markdown",
   "metadata": {},
   "source": [
    "## Carregando os pacotes"
   ]
  },
  {
   "cell_type": "code",
   "execution_count": 1,
   "metadata": {},
   "outputs": [
    {
     "name": "stderr",
     "output_type": "stream",
     "text": [
      "Loading required package: RColorBrewer\n",
      "\n",
      "Loading required package: NLP\n",
      "\n",
      "── \u001b[1mAttaching packages\u001b[22m ─────────────────────────────────────── tidyverse 1.3.0 ──\n",
      "\n",
      "\u001b[32m✔\u001b[39m \u001b[34mggplot2\u001b[39m 3.3.2     \u001b[32m✔\u001b[39m \u001b[34mpurrr  \u001b[39m 0.3.4\n",
      "\u001b[32m✔\u001b[39m \u001b[34mtibble \u001b[39m 3.0.3     \u001b[32m✔\u001b[39m \u001b[34mdplyr  \u001b[39m 1.0.2\n",
      "\u001b[32m✔\u001b[39m \u001b[34mtidyr  \u001b[39m 1.1.2     \u001b[32m✔\u001b[39m \u001b[34mstringr\u001b[39m 1.4.0\n",
      "\u001b[32m✔\u001b[39m \u001b[34mreadr  \u001b[39m 1.3.1     \u001b[32m✔\u001b[39m \u001b[34mforcats\u001b[39m 0.5.0\n",
      "\n",
      "── \u001b[1mConflicts\u001b[22m ────────────────────────────────────────── tidyverse_conflicts() ──\n",
      "\u001b[31m✖\u001b[39m \u001b[34mggplot2\u001b[39m::\u001b[32mannotate()\u001b[39m masks \u001b[34mNLP\u001b[39m::annotate()\n",
      "\u001b[31m✖\u001b[39m \u001b[34mtidyr\u001b[39m::\u001b[32mextract()\u001b[39m    masks \u001b[34mmagrittr\u001b[39m::extract()\n",
      "\u001b[31m✖\u001b[39m \u001b[34mdplyr\u001b[39m::\u001b[32mfilter()\u001b[39m     masks \u001b[34mstats\u001b[39m::filter()\n",
      "\u001b[31m✖\u001b[39m \u001b[34mdplyr\u001b[39m::\u001b[32mlag()\u001b[39m        masks \u001b[34mstats\u001b[39m::lag()\n",
      "\u001b[31m✖\u001b[39m \u001b[34mpurrr\u001b[39m::\u001b[32mset_names()\u001b[39m  masks \u001b[34mmagrittr\u001b[39m::set_names()\n",
      "\n"
     ]
    }
   ],
   "source": [
    "library(wordcloud)\n",
    "library(magrittr)\n",
    "library(tm)\n",
    "library(tidyverse)\n",
    "library(tidyr)\n",
    "library(cluster)"
   ]
  },
  {
   "cell_type": "markdown",
   "metadata": {},
   "source": [
    "## Leitura dos dados Pub Med"
   ]
  },
  {
   "cell_type": "code",
   "execution_count": null,
   "metadata": {},
   "outputs": [],
   "source": [
    "# Leitura do arquivo por linha\n",
    "covid <- readLines(\"PM-COVID-4064-TM.txt\")"
   ]
  },
  {
   "cell_type": "code",
   "execution_count": null,
   "metadata": {},
   "outputs": [],
   "source": [
    "# Leitura do arquivo por DF\n",
    "covid_df <- read.delim(\"PM-COVID-4064-TM.txt\", header = FALSE, sep = \"\\n\")\n",
    "covid_df$doc_id <- seq.int(nrow(covid_df))\n",
    "covid_df <- covid_df[,c(2,1)]\n",
    "colnames(covid_df) <- c(\"doc_id\", \"text\")"
   ]
  },
  {
   "cell_type": "code",
   "execution_count": null,
   "metadata": {},
   "outputs": [],
   "source": [
    "covid_source <- VectorSource(covid)\n",
    "coviddf_source <- DataframeSource(covid_df)"
   ]
  },
  {
   "cell_type": "code",
   "execution_count": null,
   "metadata": {},
   "outputs": [],
   "source": [
    "covid_corpus <- VCorpus(covid_source)\n",
    "coviddf_corpus <- VCorpus(coviddf_source)"
   ]
  },
  {
   "cell_type": "code",
   "execution_count": null,
   "metadata": {},
   "outputs": [],
   "source": [
    "print(covid_corpus)\n",
    "print(coviddf_corpus)\n",
    "covid_corpus[[1]]\n",
    "covid_corpus[[1]]$content"
   ]
  },
  {
   "cell_type": "markdown",
   "metadata": {},
   "source": [
    "## Limpeza dos dados Pub Med"
   ]
  },
  {
   "cell_type": "code",
   "execution_count": null,
   "metadata": {
    "scrolled": true
   },
   "outputs": [],
   "source": [
    "# Lista de stopwords en, pt e es\n",
    "stopwords(\"en\"); stopwords(\"pt\"); stopwords(\"es\")"
   ]
  },
  {
   "cell_type": "code",
   "execution_count": 2,
   "metadata": {},
   "outputs": [],
   "source": [
    "new_stops <- c(\"COVID\", \"the\", \"The\", stopwords(\"en\"))"
   ]
  },
  {
   "cell_type": "markdown",
   "metadata": {},
   "source": [
    "## Aplicando a limpeza e normalização dos dados em toda base Pub Med"
   ]
  },
  {
   "cell_type": "code",
   "execution_count": null,
   "metadata": {},
   "outputs": [],
   "source": [
    "covid_clean <- tm_map(covid_corpus, removeWords, words = c(new_stops))\n",
    "covid_clean <- tm_map(covid_clean, removePunctuation)\n",
    "covid_clean[[1]]$content\n",
    "covid_clean <- tm_map(covid_clean, stripWhitespace)"
   ]
  },
  {
   "cell_type": "markdown",
   "metadata": {},
   "source": [
    "## Frequência dos Termos Pub Med "
   ]
  },
  {
   "cell_type": "code",
   "execution_count": null,
   "metadata": {},
   "outputs": [],
   "source": [
    "covid_dtm <- DocumentTermMatrix(covid_clean)\n",
    "covid_dtm\n",
    "covid_m1 <- as.matrix(covid_dtm)"
   ]
  },
  {
   "cell_type": "code",
   "execution_count": null,
   "metadata": {},
   "outputs": [],
   "source": [
    "covid_tdm <- TermDocumentMatrix(covid_clean)\n",
    "covid_tdm\n",
    "covid_m2 <- as.matrix(covid_tdm)"
   ]
  },
  {
   "cell_type": "code",
   "execution_count": null,
   "metadata": {},
   "outputs": [],
   "source": [
    "covid_m1[1:10, 1000:1010]\n",
    "covid_m2[1000:1010, 1:10]"
   ]
  },
  {
   "cell_type": "code",
   "execution_count": null,
   "metadata": {},
   "outputs": [],
   "source": [
    "term_frequency_covid <- rowSums(covid_m2)\n",
    "term_frequency_covid <- sort(term_frequency_covid, decreasing = TRUE)\n",
    "head(term_frequency_covid, 100) \n",
    "term_frequency_covid[100:200]"
   ]
  },
  {
   "cell_type": "markdown",
   "metadata": {},
   "source": [
    "## Visualização de Dados Pub Med"
   ]
  },
  {
   "cell_type": "code",
   "execution_count": null,
   "metadata": {},
   "outputs": [],
   "source": [
    "term <- names(term_frequency_covid)\n",
    "num <- term_frequency_covid\n",
    "word_freqs <- data.frame(term, num)\n",
    "wordcloud(word_freqs$term, word_freqs$num, max.words = 100, colors = \"red\")"
   ]
  },
  {
   "cell_type": "code",
   "execution_count": null,
   "metadata": {},
   "outputs": [],
   "source": [
    "freq <- sort(colSums(as.matrix(covid_dtm)), decreasing=TRUE)   \n",
    "barplot(freq[1:10],col=\"lightgreen\",las=2)"
   ]
  },
  {
   "cell_type": "code",
   "execution_count": null,
   "metadata": {},
   "outputs": [],
   "source": [
    "dtmss <- removeSparseTerms(covid_dtm, 0.80)   \n",
    "dtmss   \n",
    "d <- dist(t(dtmss), method=\"euclidian\")   \n",
    "fit <- hclust(d=d, method=\"complete\")\n",
    "fit \n",
    "plot(fit, hang=1) \n",
    "groups <- cutree(fit, k=6)   \n",
    "rect.hclust(fit, k=6, border=\"red\")"
   ]
  },
  {
   "cell_type": "code",
   "execution_count": null,
   "metadata": {},
   "outputs": [],
   "source": [
    "d <- dist(t(dtmss), method=\"euclidian\")   \n",
    "kfit <- kmeans(d, 2)   \n",
    "clusplot(as.matrix(d), kfit$cluster, color=T, shade=T, labels=2, lines=0)"
   ]
  },
  {
   "cell_type": "code",
   "execution_count": null,
   "metadata": {},
   "outputs": [],
   "source": [
    "set.seed(1234)\n",
    "wordcloud(words = word_freqs$term, freq = word_freqs$num, min.freq = 1,\n",
    "          max.words=200, random.order=FALSE, rot.per=0.35, \n",
    "          colors=brewer.pal(8, \"Dark2\"))"
   ]
  },
  {
   "cell_type": "markdown",
   "metadata": {},
   "source": [
    "## Leitura dos dados Tweet Covid19"
   ]
  },
  {
   "cell_type": "code",
   "execution_count": 3,
   "metadata": {},
   "outputs": [
    {
     "name": "stderr",
     "output_type": "stream",
     "text": [
      "Parsed with column specification:\n",
      "cols(\n",
      "  user_name = \u001b[31mcol_character()\u001b[39m,\n",
      "  user_location = \u001b[31mcol_character()\u001b[39m,\n",
      "  user_description = \u001b[31mcol_character()\u001b[39m,\n",
      "  user_created = \u001b[34mcol_datetime(format = \"\")\u001b[39m,\n",
      "  user_followers = \u001b[32mcol_double()\u001b[39m,\n",
      "  user_friends = \u001b[32mcol_double()\u001b[39m,\n",
      "  user_favourites = \u001b[32mcol_double()\u001b[39m,\n",
      "  user_verified = \u001b[33mcol_logical()\u001b[39m,\n",
      "  date = \u001b[34mcol_datetime(format = \"\")\u001b[39m,\n",
      "  text = \u001b[31mcol_character()\u001b[39m,\n",
      "  hashtags = \u001b[31mcol_character()\u001b[39m,\n",
      "  source = \u001b[31mcol_character()\u001b[39m,\n",
      "  is_retweet = \u001b[33mcol_logical()\u001b[39m\n",
      ")\n",
      "\n"
     ]
    }
   ],
   "source": [
    "tweets_covid <-read_csv('covid19_tweets.csv')"
   ]
  },
  {
   "cell_type": "code",
   "execution_count": 4,
   "metadata": {},
   "outputs": [
    {
     "name": "stdout",
     "output_type": "stream",
     "text": [
      "Rows: 179,108\n",
      "Columns: 13\n",
      "$ user_name        \u001b[3m\u001b[38;5;246m<chr>\u001b[39m\u001b[23m \"ᏉᎥ☻լꂅϮ\", \"Tom Basile 🇺🇸\", \"Time4fisticuffs\", \"ethel…\n",
      "$ user_location    \u001b[3m\u001b[38;5;246m<chr>\u001b[39m\u001b[23m \"astroworld\", \"New York, NY\", \"Pewee Valley, KY\", \"S…\n",
      "$ user_description \u001b[3m\u001b[38;5;246m<chr>\u001b[39m\u001b[23m \"wednesday addams as a disney princess keepin it [̲̅…\n",
      "$ user_created     \u001b[3m\u001b[38;5;246m<dttm>\u001b[39m\u001b[23m 2017-05-26 05:46:42, 2009-04-16 20:06:23, 2009-02-2…\n",
      "$ user_followers   \u001b[3m\u001b[38;5;246m<dbl>\u001b[39m\u001b[23m 624, 2253, 9275, 197, 101009, 1180, 79956, 608, 25, …\n",
      "$ user_friends     \u001b[3m\u001b[38;5;246m<dbl>\u001b[39m\u001b[23m 950, 1677, 9525, 987, 168, 1071, 54810, 355, 29, 342…\n",
      "$ user_favourites  \u001b[3m\u001b[38;5;246m<dbl>\u001b[39m\u001b[23m 18775, 24, 7254, 1488, 101, 1287, 3801, 95, 18, 2980…\n",
      "$ user_verified    \u001b[3m\u001b[38;5;246m<lgl>\u001b[39m\u001b[23m FALSE, TRUE, FALSE, FALSE, FALSE, FALSE, FALSE, FALS…\n",
      "$ date             \u001b[3m\u001b[38;5;246m<dttm>\u001b[39m\u001b[23m 2020-07-25 12:27:21, 2020-07-25 12:27:17, 2020-07-2…\n",
      "$ text             \u001b[3m\u001b[38;5;246m<chr>\u001b[39m\u001b[23m \"If I smelled the scent of hand sanitizers today on …\n",
      "$ hashtags         \u001b[3m\u001b[38;5;246m<chr>\u001b[39m\u001b[23m NA, NA, \"['COVID19']\", \"['COVID19']\", \"['CoronaVirus…\n",
      "$ source           \u001b[3m\u001b[38;5;246m<chr>\u001b[39m\u001b[23m \"Twitter for iPhone\", \"Twitter for Android\", \"Twitte…\n",
      "$ is_retweet       \u001b[3m\u001b[38;5;246m<lgl>\u001b[39m\u001b[23m FALSE, FALSE, FALSE, FALSE, FALSE, FALSE, FALSE, FAL…\n"
     ]
    }
   ],
   "source": [
    "glimpse(tweets_covid)"
   ]
  },
  {
   "cell_type": "code",
   "execution_count": 5,
   "metadata": {},
   "outputs": [],
   "source": [
    "tweets_covid<-tweets_covid %>%select(c(user_location, date, text, source))"
   ]
  },
  {
   "cell_type": "code",
   "execution_count": 7,
   "metadata": {},
   "outputs": [
    {
     "data": {
      "text/html": [
       "<table>\n",
       "<caption>A tibble: 5 × 4</caption>\n",
       "<thead>\n",
       "\t<tr><th scope=col>user_location</th><th scope=col>date</th><th scope=col>text</th><th scope=col>source</th></tr>\n",
       "\t<tr><th scope=col>&lt;chr&gt;</th><th scope=col>&lt;dttm&gt;</th><th scope=col>&lt;chr&gt;</th><th scope=col>&lt;chr&gt;</th></tr>\n",
       "</thead>\n",
       "<tbody>\n",
       "\t<tr><td>astroworld         </td><td>2020-07-25 12:27:21</td><td>If I smelled the scent of hand sanitizers today on someone in the past, I would think they were so intoxicated that… https://t.co/QZvYbrOgb0</td><td>Twitter for iPhone </td></tr>\n",
       "\t<tr><td>New York, NY       </td><td>2020-07-25 12:27:17</td><td>Hey @Yankees @YankeesPR and @MLB - wouldn't it have made more sense to have the players pay their respects to the A… https://t.co/1QvW0zgyPu</td><td>Twitter for Android</td></tr>\n",
       "\t<tr><td>Pewee Valley, KY   </td><td>2020-07-25 12:27:14</td><td>@diane3443 @wdunlap @realDonaldTrump Trump never once claimed #COVID19 was a hoax. We all claim that this effort to… https://t.co/Jkk8vHWHb3</td><td>Twitter for Android</td></tr>\n",
       "\t<tr><td>Stuck in the Middle</td><td>2020-07-25 12:27:10</td><td>@brookbanktv The one gift #COVID19 has give me is an appreciation for the simple things that were always around me… https://t.co/Z0pOAlFXcW </td><td>Twitter for iPhone </td></tr>\n",
       "\t<tr><td>Jammu and Kashmir  </td><td>2020-07-25 12:27:08</td><td>25 July : Media Bulletin on Novel #CoronaVirusUpdates #COVID19 \n",
       "@kansalrohit69 @DrSyedSehrish @airnewsalerts @ANI… https://t.co/MN0EEcsJHh </td><td>Twitter for Android</td></tr>\n",
       "</tbody>\n",
       "</table>\n"
      ],
      "text/latex": [
       "A tibble: 5 × 4\n",
       "\\begin{tabular}{llll}\n",
       " user\\_location & date & text & source\\\\\n",
       " <chr> & <dttm> & <chr> & <chr>\\\\\n",
       "\\hline\n",
       "\t astroworld          & 2020-07-25 12:27:21 & If I smelled the scent of hand sanitizers today on someone in the past, I would think they were so intoxicated that… https://t.co/QZvYbrOgb0 & Twitter for iPhone \\\\\n",
       "\t New York, NY        & 2020-07-25 12:27:17 & Hey @Yankees @YankeesPR and @MLB - wouldn't it have made more sense to have the players pay their respects to the A… https://t.co/1QvW0zgyPu & Twitter for Android\\\\\n",
       "\t Pewee Valley, KY    & 2020-07-25 12:27:14 & @diane3443 @wdunlap @realDonaldTrump Trump never once claimed \\#COVID19 was a hoax. We all claim that this effort to… https://t.co/Jkk8vHWHb3 & Twitter for Android\\\\\n",
       "\t Stuck in the Middle & 2020-07-25 12:27:10 & @brookbanktv The one gift \\#COVID19 has give me is an appreciation for the simple things that were always around me… https://t.co/Z0pOAlFXcW  & Twitter for iPhone \\\\\n",
       "\t Jammu and Kashmir   & 2020-07-25 12:27:08 & 25 July : Media Bulletin on Novel \\#CoronaVirusUpdates \\#COVID19 \n",
       "@kansalrohit69 @DrSyedSehrish @airnewsalerts @ANI… https://t.co/MN0EEcsJHh  & Twitter for Android\\\\\n",
       "\\end{tabular}\n"
      ],
      "text/markdown": [
       "\n",
       "A tibble: 5 × 4\n",
       "\n",
       "| user_location &lt;chr&gt; | date &lt;dttm&gt; | text &lt;chr&gt; | source &lt;chr&gt; |\n",
       "|---|---|---|---|\n",
       "| astroworld          | 2020-07-25 12:27:21 | If I smelled the scent of hand sanitizers today on someone in the past, I would think they were so intoxicated that… https://t.co/QZvYbrOgb0 | Twitter for iPhone  |\n",
       "| New York, NY        | 2020-07-25 12:27:17 | Hey @Yankees @YankeesPR and @MLB - wouldn't it have made more sense to have the players pay their respects to the A… https://t.co/1QvW0zgyPu | Twitter for Android |\n",
       "| Pewee Valley, KY    | 2020-07-25 12:27:14 | @diane3443 @wdunlap @realDonaldTrump Trump never once claimed #COVID19 was a hoax. We all claim that this effort to… https://t.co/Jkk8vHWHb3 | Twitter for Android |\n",
       "| Stuck in the Middle | 2020-07-25 12:27:10 | @brookbanktv The one gift #COVID19 has give me is an appreciation for the simple things that were always around me… https://t.co/Z0pOAlFXcW  | Twitter for iPhone  |\n",
       "| Jammu and Kashmir   | 2020-07-25 12:27:08 | 25 July : Media Bulletin on Novel #CoronaVirusUpdates #COVID19 \n",
       "@kansalrohit69 @DrSyedSehrish @airnewsalerts @ANI… https://t.co/MN0EEcsJHh  | Twitter for Android |\n",
       "\n"
      ],
      "text/plain": [
       "  user_location       date               \n",
       "1 astroworld          2020-07-25 12:27:21\n",
       "2 New York, NY        2020-07-25 12:27:17\n",
       "3 Pewee Valley, KY    2020-07-25 12:27:14\n",
       "4 Stuck in the Middle 2020-07-25 12:27:10\n",
       "5 Jammu and Kashmir   2020-07-25 12:27:08\n",
       "  text                                                                                                                                        \n",
       "1 If I smelled the scent of hand sanitizers today on someone in the past, I would think they were so intoxicated that… https://t.co/QZvYbrOgb0\n",
       "2 Hey @Yankees @YankeesPR and @MLB - wouldn't it have made more sense to have the players pay their respects to the A… https://t.co/1QvW0zgyPu\n",
       "3 @diane3443 @wdunlap @realDonaldTrump Trump never once claimed #COVID19 was a hoax. We all claim that this effort to… https://t.co/Jkk8vHWHb3\n",
       "4 @brookbanktv The one gift #COVID19 has give me is an appreciation for the simple things that were always around me… https://t.co/Z0pOAlFXcW \n",
       "5 25 July : Media Bulletin on Novel #CoronaVirusUpdates #COVID19 \\n@kansalrohit69 @DrSyedSehrish @airnewsalerts @ANI… https://t.co/MN0EEcsJHh \n",
       "  source             \n",
       "1 Twitter for iPhone \n",
       "2 Twitter for Android\n",
       "3 Twitter for Android\n",
       "4 Twitter for iPhone \n",
       "5 Twitter for Android"
      ]
     },
     "metadata": {},
     "output_type": "display_data"
    }
   ],
   "source": [
    "tweets_covid%>%head(5)"
   ]
  },
  {
   "cell_type": "code",
   "execution_count": 8,
   "metadata": {},
   "outputs": [
    {
     "data": {
      "text/html": [
       "<table>\n",
       "<caption>A tibble: 5 × 4</caption>\n",
       "<thead>\n",
       "\t<tr><th scope=col>user_location</th><th scope=col>date</th><th scope=col>text</th><th scope=col>source</th></tr>\n",
       "\t<tr><th scope=col>&lt;chr&gt;</th><th scope=col>&lt;dttm&gt;</th><th scope=col>&lt;chr&gt;</th><th scope=col>&lt;chr&gt;</th></tr>\n",
       "</thead>\n",
       "<tbody>\n",
       "\t<tr><td>Ilorin, Nigeria           </td><td>2020-08-29 19:44:21</td><td>Thanks @IamOhmai for nominating me for the @WHO #WearAMask challenge.\n",
       "\n",
       "I nominate @abdlbaasit_ @hvbxxb,… https://t.co/IegQDkKudT                </td><td>Twitter for Android</td></tr>\n",
       "\t<tr><td>Ontario                   </td><td>2020-08-29 19:44:16</td><td>2020! The year of insanity! Lol! #COVID19 https://t.co/y48NP0yzgn                                                                                 </td><td>Twitter for Android</td></tr>\n",
       "\t<tr><td>🇨🇦 Canada                 </td><td>2020-08-29 19:44:15</td><td>@CTVNews A powerful painting by Juan Lucena. It's a tribute to the grandparents who died of COVID 19 and the grandc… https://t.co/wnXbbyoCe2      </td><td>Twitter Web App    </td></tr>\n",
       "\t<tr><td>New York City             </td><td>2020-08-29 19:44:14</td><td>More than 1,200 students test positive for #COVID19 at major university - ABC News https://t.co/6aNhSiF5gh                                        </td><td>Twitter for iPhone </td></tr>\n",
       "\t<tr><td>Aliwal North, South Africa</td><td>2020-08-29 19:44:08</td><td>I stop when I see a Stop\n",
       "\n",
       "@SABCNews\n",
       "@IzindabaNews24\n",
       "@dailysunsa\n",
       "@eNCA\n",
       "@AliwalNorth\n",
       "@Ambitiouz_Ent\n",
       "@Official_SABC1… https://t.co/ReG8pwZoN7</td><td>Twitter for Android</td></tr>\n",
       "</tbody>\n",
       "</table>\n"
      ],
      "text/latex": [
       "A tibble: 5 × 4\n",
       "\\begin{tabular}{llll}\n",
       " user\\_location & date & text & source\\\\\n",
       " <chr> & <dttm> & <chr> & <chr>\\\\\n",
       "\\hline\n",
       "\t Ilorin, Nigeria            & 2020-08-29 19:44:21 & Thanks @IamOhmai for nominating me for the @WHO \\#WearAMask challenge.\n",
       "\n",
       "I nominate @abdlbaasit\\_ @hvbxxb,… https://t.co/IegQDkKudT                 & Twitter for Android\\\\\n",
       "\t Ontario                    & 2020-08-29 19:44:16 & 2020! The year of insanity! Lol! \\#COVID19 https://t.co/y48NP0yzgn                                                                                  & Twitter for Android\\\\\n",
       "\t 🇨🇦 Canada                  & 2020-08-29 19:44:15 & @CTVNews A powerful painting by Juan Lucena. It's a tribute to the grandparents who died of COVID 19 and the grandc… https://t.co/wnXbbyoCe2       & Twitter Web App    \\\\\n",
       "\t New York City              & 2020-08-29 19:44:14 & More than 1,200 students test positive for \\#COVID19 at major university - ABC News https://t.co/6aNhSiF5gh                                         & Twitter for iPhone \\\\\n",
       "\t Aliwal North, South Africa & 2020-08-29 19:44:08 & I stop when I see a Stop\n",
       "\n",
       "@SABCNews\n",
       "@IzindabaNews24\n",
       "@dailysunsa\n",
       "@eNCA\n",
       "@AliwalNorth\n",
       "@Ambitiouz\\_Ent\n",
       "@Official\\_SABC1… https://t.co/ReG8pwZoN7 & Twitter for Android\\\\\n",
       "\\end{tabular}\n"
      ],
      "text/markdown": [
       "\n",
       "A tibble: 5 × 4\n",
       "\n",
       "| user_location &lt;chr&gt; | date &lt;dttm&gt; | text &lt;chr&gt; | source &lt;chr&gt; |\n",
       "|---|---|---|---|\n",
       "| Ilorin, Nigeria            | 2020-08-29 19:44:21 | Thanks @IamOhmai for nominating me for the @WHO #WearAMask challenge.\n",
       "\n",
       "I nominate @abdlbaasit_ @hvbxxb,… https://t.co/IegQDkKudT                 | Twitter for Android |\n",
       "| Ontario                    | 2020-08-29 19:44:16 | 2020! The year of insanity! Lol! #COVID19 https://t.co/y48NP0yzgn                                                                                  | Twitter for Android |\n",
       "| 🇨🇦 Canada                  | 2020-08-29 19:44:15 | @CTVNews A powerful painting by Juan Lucena. It's a tribute to the grandparents who died of COVID 19 and the grandc… https://t.co/wnXbbyoCe2       | Twitter Web App     |\n",
       "| New York City              | 2020-08-29 19:44:14 | More than 1,200 students test positive for #COVID19 at major university - ABC News https://t.co/6aNhSiF5gh                                         | Twitter for iPhone  |\n",
       "| Aliwal North, South Africa | 2020-08-29 19:44:08 | I stop when I see a Stop\n",
       "\n",
       "@SABCNews\n",
       "@IzindabaNews24\n",
       "@dailysunsa\n",
       "@eNCA\n",
       "@AliwalNorth\n",
       "@Ambitiouz_Ent\n",
       "@Official_SABC1… https://t.co/ReG8pwZoN7 | Twitter for Android |\n",
       "\n"
      ],
      "text/plain": [
       "  user_location              date               \n",
       "1 Ilorin, Nigeria            2020-08-29 19:44:21\n",
       "2 Ontario                    2020-08-29 19:44:16\n",
       "3 🇨🇦 Canada                  2020-08-29 19:44:15\n",
       "4 New York City              2020-08-29 19:44:14\n",
       "5 Aliwal North, South Africa 2020-08-29 19:44:08\n",
       "  text                                                                                                                                              \n",
       "1 Thanks @IamOhmai for nominating me for the @WHO #WearAMask challenge.\\n\\nI nominate @abdlbaasit_ @hvbxxb,… https://t.co/IegQDkKudT                \n",
       "2 2020! The year of insanity! Lol! #COVID19 https://t.co/y48NP0yzgn                                                                                 \n",
       "3 @CTVNews A powerful painting by Juan Lucena. It's a tribute to the grandparents who died of COVID 19 and the grandc… https://t.co/wnXbbyoCe2      \n",
       "4 More than 1,200 students test positive for #COVID19 at major university - ABC News https://t.co/6aNhSiF5gh                                        \n",
       "5 I stop when I see a Stop\\n\\n@SABCNews\\n@IzindabaNews24\\n@dailysunsa\\n@eNCA\\n@AliwalNorth\\n@Ambitiouz_Ent\\n@Official_SABC1… https://t.co/ReG8pwZoN7\n",
       "  source             \n",
       "1 Twitter for Android\n",
       "2 Twitter for Android\n",
       "3 Twitter Web App    \n",
       "4 Twitter for iPhone \n",
       "5 Twitter for Android"
      ]
     },
     "metadata": {},
     "output_type": "display_data"
    }
   ],
   "source": [
    "tweets_covid%>%tail(5)"
   ]
  },
  {
   "cell_type": "code",
   "execution_count": 9,
   "metadata": {},
   "outputs": [],
   "source": [
    "tweets_covid<-head(tweets_covid,10000)"
   ]
  },
  {
   "cell_type": "code",
   "execution_count": 10,
   "metadata": {},
   "outputs": [],
   "source": [
    "# definindo a fonte texto tweets\n",
    "tweets_covid_source <- VectorSource(tweets_covid$text)\n",
    "# transformando em corpus texto tweets\n",
    "tweets_covid_corpus <- VCorpus(tweets_covid_source)"
   ]
  },
  {
   "cell_type": "code",
   "execution_count": 11,
   "metadata": {},
   "outputs": [
    {
     "name": "stdout",
     "output_type": "stream",
     "text": [
      "<<VCorpus>>\n",
      "Metadata:  corpus specific: 0, document level (indexed): 0\n",
      "Content:  documents: 10000\n"
     ]
    },
    {
     "data": {
      "text/plain": [
       "<<PlainTextDocument>>\n",
       "Metadata:  7\n",
       "Content:  chars: 140"
      ]
     },
     "metadata": {},
     "output_type": "display_data"
    },
    {
     "data": {
      "text/html": [
       "'If I smelled the scent of hand sanitizers today on someone in the past, I would think they were so intoxicated that… https://t.co/QZvYbrOgb0'"
      ],
      "text/latex": [
       "'If I smelled the scent of hand sanitizers today on someone in the past, I would think they were so intoxicated that… https://t.co/QZvYbrOgb0'"
      ],
      "text/markdown": [
       "'If I smelled the scent of hand sanitizers today on someone in the past, I would think they were so intoxicated that… https://t.co/QZvYbrOgb0'"
      ],
      "text/plain": [
       "[1] \"If I smelled the scent of hand sanitizers today on someone in the past, I would think they were so intoxicated that… https://t.co/QZvYbrOgb0\""
      ]
     },
     "metadata": {},
     "output_type": "display_data"
    }
   ],
   "source": [
    "print(tweets_covid_corpus)\n",
    "tweets_covid_corpus[[1]]\n",
    "tweets_covid_corpus[[1]]$content"
   ]
  },
  {
   "cell_type": "markdown",
   "metadata": {},
   "source": [
    "## Aplicando a limpeza e normalização dos dados em toda base Pub Med"
   ]
  },
  {
   "cell_type": "code",
   "execution_count": 12,
   "metadata": {},
   "outputs": [
    {
     "data": {
      "text/html": [
       "'If I smelled scent hand sanitizers today someone past I think intoxicated … '"
      ],
      "text/latex": [
       "'If I smelled scent hand sanitizers today someone past I think intoxicated … '"
      ],
      "text/markdown": [
       "'If I smelled scent hand sanitizers today someone past I think intoxicated … '"
      ],
      "text/plain": [
       "[1] \"If I smelled scent hand sanitizers today someone past I think intoxicated … \""
      ]
     },
     "metadata": {},
     "output_type": "display_data"
    }
   ],
   "source": [
    "remover_https_url <-function(texto)gsub(\"https.*\",\"\",  texto)\n",
    "remover_http_url <-function(texto)gsub(\"http.*\",\"\",  texto)\n",
    "remover_barra <-function(texto)gsub(\"/\", \"\", texto)\n",
    "remover_barras <-function(texto)gsub(\"\\\\|\", \"\", texto)\n",
    "remover_arroba <-function(texto)gsub(\"@\", \"\", texto)\n",
    "tweets_covid_corpus <-tm_map(tweets_covid_corpus, content_transformer(remover_https_url))\n",
    "tweets_covid_corpus <-tm_map(tweets_covid_corpus, content_transformer(remover_http_url))\n",
    "tweets_covid_corpus <-tm_map(tweets_covid_corpus, content_transformer(remover_barra))\n",
    "tweets_covid_corpus <-tm_map(tweets_covid_corpus, content_transformer(remover_barras))\n",
    "tweets_covid_corpus <-tm_map(tweets_covid_corpus, content_transformer(remover_arroba))                                                        \n",
    "tweets_covid_corpus <-tm_map(tweets_covid_corpus, content_transformer(removePunctuation))\n",
    "tweets_covid_corpus <-tm_map(tweets_covid_corpus, content_transformer(removeNumbers))\n",
    "tweets_covid_corpus <-tm_map(tweets_covid_corpus, removeWords, words = c(new_stops))\n",
    "tweets_covid_corpus <-tm_map(tweets_covid_corpus, content_transformer(stripWhitespace))\n",
    "tweets_covid_corpus[[1]]$content"
   ]
  },
  {
   "cell_type": "code",
   "execution_count": 13,
   "metadata": {},
   "outputs": [
    {
     "data": {
      "text/plain": [
       "<<DocumentTermMatrix (documents: 10000, terms: 22058)>>\n",
       "Non-/sparse entries: 95603/220484397\n",
       "Sparsity           : 100%\n",
       "Maximal term length: 58\n",
       "Weighting          : term frequency (tf)"
      ]
     },
     "metadata": {},
     "output_type": "display_data"
    }
   ],
   "source": [
    "tweet_covid_dtm <- DocumentTermMatrix(tweets_covid_corpus)\n",
    "tweet_covid_dtm\n",
    "tweet_covid_m1 <- as.matrix(tweet_covid_dtm)"
   ]
  },
  {
   "cell_type": "code",
   "execution_count": 14,
   "metadata": {},
   "outputs": [
    {
     "data": {
      "text/plain": [
       "<<TermDocumentMatrix (terms: 22058, documents: 10000)>>\n",
       "Non-/sparse entries: 95603/220484397\n",
       "Sparsity           : 100%\n",
       "Maximal term length: 58\n",
       "Weighting          : term frequency (tf)"
      ]
     },
     "metadata": {},
     "output_type": "display_data"
    }
   ],
   "source": [
    "tweet_covid_tdm <- TermDocumentMatrix(tweets_covid_corpus)\n",
    "tweet_covid_tdm\n",
    "tweet_covid_m2 <- as.matrix(tweet_covid_tdm)"
   ]
  },
  {
   "cell_type": "code",
   "execution_count": 15,
   "metadata": {},
   "outputs": [
    {
     "data": {
      "text/html": [
       "<table>\n",
       "<caption>A matrix: 10 × 11 of type dbl</caption>\n",
       "<thead>\n",
       "\t<tr><th></th><th scope=col>agenda</th><th scope=col>agenormalized</th><th scope=col>agent</th><th scope=col>agentphil</th><th scope=col>agents</th><th scope=col>agerelated</th><th scope=col>ages</th><th scope=col>aggravate</th><th scope=col>aggression</th><th scope=col>aggressively</th><th scope=col>aggressively…</th></tr>\n",
       "</thead>\n",
       "<tbody>\n",
       "\t<tr><th scope=row>1</th><td>0</td><td>0</td><td>0</td><td>0</td><td>0</td><td>0</td><td>0</td><td>0</td><td>0</td><td>0</td><td>0</td></tr>\n",
       "\t<tr><th scope=row>2</th><td>0</td><td>0</td><td>0</td><td>0</td><td>0</td><td>0</td><td>0</td><td>0</td><td>0</td><td>0</td><td>0</td></tr>\n",
       "\t<tr><th scope=row>3</th><td>0</td><td>0</td><td>0</td><td>0</td><td>0</td><td>0</td><td>0</td><td>0</td><td>0</td><td>0</td><td>0</td></tr>\n",
       "\t<tr><th scope=row>4</th><td>0</td><td>0</td><td>0</td><td>0</td><td>0</td><td>0</td><td>0</td><td>0</td><td>0</td><td>0</td><td>0</td></tr>\n",
       "\t<tr><th scope=row>5</th><td>0</td><td>0</td><td>0</td><td>0</td><td>0</td><td>0</td><td>0</td><td>0</td><td>0</td><td>0</td><td>0</td></tr>\n",
       "\t<tr><th scope=row>6</th><td>0</td><td>0</td><td>0</td><td>0</td><td>0</td><td>0</td><td>0</td><td>0</td><td>0</td><td>0</td><td>0</td></tr>\n",
       "\t<tr><th scope=row>7</th><td>0</td><td>0</td><td>0</td><td>0</td><td>0</td><td>0</td><td>0</td><td>0</td><td>0</td><td>0</td><td>0</td></tr>\n",
       "\t<tr><th scope=row>8</th><td>0</td><td>0</td><td>0</td><td>0</td><td>0</td><td>0</td><td>0</td><td>0</td><td>0</td><td>0</td><td>0</td></tr>\n",
       "\t<tr><th scope=row>9</th><td>0</td><td>0</td><td>0</td><td>0</td><td>0</td><td>0</td><td>0</td><td>0</td><td>0</td><td>0</td><td>0</td></tr>\n",
       "\t<tr><th scope=row>10</th><td>0</td><td>0</td><td>0</td><td>0</td><td>0</td><td>0</td><td>0</td><td>0</td><td>0</td><td>0</td><td>0</td></tr>\n",
       "</tbody>\n",
       "</table>\n"
      ],
      "text/latex": [
       "A matrix: 10 × 11 of type dbl\n",
       "\\begin{tabular}{r|lllllllllll}\n",
       "  & agenda & agenormalized & agent & agentphil & agents & agerelated & ages & aggravate & aggression & aggressively & aggressively…\\\\\n",
       "\\hline\n",
       "\t1 & 0 & 0 & 0 & 0 & 0 & 0 & 0 & 0 & 0 & 0 & 0\\\\\n",
       "\t2 & 0 & 0 & 0 & 0 & 0 & 0 & 0 & 0 & 0 & 0 & 0\\\\\n",
       "\t3 & 0 & 0 & 0 & 0 & 0 & 0 & 0 & 0 & 0 & 0 & 0\\\\\n",
       "\t4 & 0 & 0 & 0 & 0 & 0 & 0 & 0 & 0 & 0 & 0 & 0\\\\\n",
       "\t5 & 0 & 0 & 0 & 0 & 0 & 0 & 0 & 0 & 0 & 0 & 0\\\\\n",
       "\t6 & 0 & 0 & 0 & 0 & 0 & 0 & 0 & 0 & 0 & 0 & 0\\\\\n",
       "\t7 & 0 & 0 & 0 & 0 & 0 & 0 & 0 & 0 & 0 & 0 & 0\\\\\n",
       "\t8 & 0 & 0 & 0 & 0 & 0 & 0 & 0 & 0 & 0 & 0 & 0\\\\\n",
       "\t9 & 0 & 0 & 0 & 0 & 0 & 0 & 0 & 0 & 0 & 0 & 0\\\\\n",
       "\t10 & 0 & 0 & 0 & 0 & 0 & 0 & 0 & 0 & 0 & 0 & 0\\\\\n",
       "\\end{tabular}\n"
      ],
      "text/markdown": [
       "\n",
       "A matrix: 10 × 11 of type dbl\n",
       "\n",
       "| <!--/--> | agenda | agenormalized | agent | agentphil | agents | agerelated | ages | aggravate | aggression | aggressively | aggressively… |\n",
       "|---|---|---|---|---|---|---|---|---|---|---|---|\n",
       "| 1 | 0 | 0 | 0 | 0 | 0 | 0 | 0 | 0 | 0 | 0 | 0 |\n",
       "| 2 | 0 | 0 | 0 | 0 | 0 | 0 | 0 | 0 | 0 | 0 | 0 |\n",
       "| 3 | 0 | 0 | 0 | 0 | 0 | 0 | 0 | 0 | 0 | 0 | 0 |\n",
       "| 4 | 0 | 0 | 0 | 0 | 0 | 0 | 0 | 0 | 0 | 0 | 0 |\n",
       "| 5 | 0 | 0 | 0 | 0 | 0 | 0 | 0 | 0 | 0 | 0 | 0 |\n",
       "| 6 | 0 | 0 | 0 | 0 | 0 | 0 | 0 | 0 | 0 | 0 | 0 |\n",
       "| 7 | 0 | 0 | 0 | 0 | 0 | 0 | 0 | 0 | 0 | 0 | 0 |\n",
       "| 8 | 0 | 0 | 0 | 0 | 0 | 0 | 0 | 0 | 0 | 0 | 0 |\n",
       "| 9 | 0 | 0 | 0 | 0 | 0 | 0 | 0 | 0 | 0 | 0 | 0 |\n",
       "| 10 | 0 | 0 | 0 | 0 | 0 | 0 | 0 | 0 | 0 | 0 | 0 |\n",
       "\n"
      ],
      "text/plain": [
       "    Terms\n",
       "Docs agenda agenormalized agent agentphil agents agerelated ages aggravate\n",
       "  1  0      0             0     0         0      0          0    0        \n",
       "  2  0      0             0     0         0      0          0    0        \n",
       "  3  0      0             0     0         0      0          0    0        \n",
       "  4  0      0             0     0         0      0          0    0        \n",
       "  5  0      0             0     0         0      0          0    0        \n",
       "  6  0      0             0     0         0      0          0    0        \n",
       "  7  0      0             0     0         0      0          0    0        \n",
       "  8  0      0             0     0         0      0          0    0        \n",
       "  9  0      0             0     0         0      0          0    0        \n",
       "  10 0      0             0     0         0      0          0    0        \n",
       "    Terms\n",
       "Docs aggression aggressively aggressively…\n",
       "  1  0          0            0            \n",
       "  2  0          0            0            \n",
       "  3  0          0            0            \n",
       "  4  0          0            0            \n",
       "  5  0          0            0            \n",
       "  6  0          0            0            \n",
       "  7  0          0            0            \n",
       "  8  0          0            0            \n",
       "  9  0          0            0            \n",
       "  10 0          0            0            "
      ]
     },
     "metadata": {},
     "output_type": "display_data"
    },
    {
     "data": {
      "text/html": [
       "<table>\n",
       "<caption>A matrix: 11 × 10 of type dbl</caption>\n",
       "<thead>\n",
       "\t<tr><th></th><th scope=col>1</th><th scope=col>2</th><th scope=col>3</th><th scope=col>4</th><th scope=col>5</th><th scope=col>6</th><th scope=col>7</th><th scope=col>8</th><th scope=col>9</th><th scope=col>10</th></tr>\n",
       "</thead>\n",
       "<tbody>\n",
       "\t<tr><th scope=row>agenda</th><td>0</td><td>0</td><td>0</td><td>0</td><td>0</td><td>0</td><td>0</td><td>0</td><td>0</td><td>0</td></tr>\n",
       "\t<tr><th scope=row>agenormalized</th><td>0</td><td>0</td><td>0</td><td>0</td><td>0</td><td>0</td><td>0</td><td>0</td><td>0</td><td>0</td></tr>\n",
       "\t<tr><th scope=row>agent</th><td>0</td><td>0</td><td>0</td><td>0</td><td>0</td><td>0</td><td>0</td><td>0</td><td>0</td><td>0</td></tr>\n",
       "\t<tr><th scope=row>agentphil</th><td>0</td><td>0</td><td>0</td><td>0</td><td>0</td><td>0</td><td>0</td><td>0</td><td>0</td><td>0</td></tr>\n",
       "\t<tr><th scope=row>agents</th><td>0</td><td>0</td><td>0</td><td>0</td><td>0</td><td>0</td><td>0</td><td>0</td><td>0</td><td>0</td></tr>\n",
       "\t<tr><th scope=row>agerelated</th><td>0</td><td>0</td><td>0</td><td>0</td><td>0</td><td>0</td><td>0</td><td>0</td><td>0</td><td>0</td></tr>\n",
       "\t<tr><th scope=row>ages</th><td>0</td><td>0</td><td>0</td><td>0</td><td>0</td><td>0</td><td>0</td><td>0</td><td>0</td><td>0</td></tr>\n",
       "\t<tr><th scope=row>aggravate</th><td>0</td><td>0</td><td>0</td><td>0</td><td>0</td><td>0</td><td>0</td><td>0</td><td>0</td><td>0</td></tr>\n",
       "\t<tr><th scope=row>aggression</th><td>0</td><td>0</td><td>0</td><td>0</td><td>0</td><td>0</td><td>0</td><td>0</td><td>0</td><td>0</td></tr>\n",
       "\t<tr><th scope=row>aggressively</th><td>0</td><td>0</td><td>0</td><td>0</td><td>0</td><td>0</td><td>0</td><td>0</td><td>0</td><td>0</td></tr>\n",
       "\t<tr><th scope=row>aggressively…</th><td>0</td><td>0</td><td>0</td><td>0</td><td>0</td><td>0</td><td>0</td><td>0</td><td>0</td><td>0</td></tr>\n",
       "</tbody>\n",
       "</table>\n"
      ],
      "text/latex": [
       "A matrix: 11 × 10 of type dbl\n",
       "\\begin{tabular}{r|llllllllll}\n",
       "  & 1 & 2 & 3 & 4 & 5 & 6 & 7 & 8 & 9 & 10\\\\\n",
       "\\hline\n",
       "\tagenda & 0 & 0 & 0 & 0 & 0 & 0 & 0 & 0 & 0 & 0\\\\\n",
       "\tagenormalized & 0 & 0 & 0 & 0 & 0 & 0 & 0 & 0 & 0 & 0\\\\\n",
       "\tagent & 0 & 0 & 0 & 0 & 0 & 0 & 0 & 0 & 0 & 0\\\\\n",
       "\tagentphil & 0 & 0 & 0 & 0 & 0 & 0 & 0 & 0 & 0 & 0\\\\\n",
       "\tagents & 0 & 0 & 0 & 0 & 0 & 0 & 0 & 0 & 0 & 0\\\\\n",
       "\tagerelated & 0 & 0 & 0 & 0 & 0 & 0 & 0 & 0 & 0 & 0\\\\\n",
       "\tages & 0 & 0 & 0 & 0 & 0 & 0 & 0 & 0 & 0 & 0\\\\\n",
       "\taggravate & 0 & 0 & 0 & 0 & 0 & 0 & 0 & 0 & 0 & 0\\\\\n",
       "\taggression & 0 & 0 & 0 & 0 & 0 & 0 & 0 & 0 & 0 & 0\\\\\n",
       "\taggressively & 0 & 0 & 0 & 0 & 0 & 0 & 0 & 0 & 0 & 0\\\\\n",
       "\taggressively… & 0 & 0 & 0 & 0 & 0 & 0 & 0 & 0 & 0 & 0\\\\\n",
       "\\end{tabular}\n"
      ],
      "text/markdown": [
       "\n",
       "A matrix: 11 × 10 of type dbl\n",
       "\n",
       "| <!--/--> | 1 | 2 | 3 | 4 | 5 | 6 | 7 | 8 | 9 | 10 |\n",
       "|---|---|---|---|---|---|---|---|---|---|---|\n",
       "| agenda | 0 | 0 | 0 | 0 | 0 | 0 | 0 | 0 | 0 | 0 |\n",
       "| agenormalized | 0 | 0 | 0 | 0 | 0 | 0 | 0 | 0 | 0 | 0 |\n",
       "| agent | 0 | 0 | 0 | 0 | 0 | 0 | 0 | 0 | 0 | 0 |\n",
       "| agentphil | 0 | 0 | 0 | 0 | 0 | 0 | 0 | 0 | 0 | 0 |\n",
       "| agents | 0 | 0 | 0 | 0 | 0 | 0 | 0 | 0 | 0 | 0 |\n",
       "| agerelated | 0 | 0 | 0 | 0 | 0 | 0 | 0 | 0 | 0 | 0 |\n",
       "| ages | 0 | 0 | 0 | 0 | 0 | 0 | 0 | 0 | 0 | 0 |\n",
       "| aggravate | 0 | 0 | 0 | 0 | 0 | 0 | 0 | 0 | 0 | 0 |\n",
       "| aggression | 0 | 0 | 0 | 0 | 0 | 0 | 0 | 0 | 0 | 0 |\n",
       "| aggressively | 0 | 0 | 0 | 0 | 0 | 0 | 0 | 0 | 0 | 0 |\n",
       "| aggressively… | 0 | 0 | 0 | 0 | 0 | 0 | 0 | 0 | 0 | 0 |\n",
       "\n"
      ],
      "text/plain": [
       "               Docs\n",
       "Terms           1 2 3 4 5 6 7 8 9 10\n",
       "  agenda        0 0 0 0 0 0 0 0 0 0 \n",
       "  agenormalized 0 0 0 0 0 0 0 0 0 0 \n",
       "  agent         0 0 0 0 0 0 0 0 0 0 \n",
       "  agentphil     0 0 0 0 0 0 0 0 0 0 \n",
       "  agents        0 0 0 0 0 0 0 0 0 0 \n",
       "  agerelated    0 0 0 0 0 0 0 0 0 0 \n",
       "  ages          0 0 0 0 0 0 0 0 0 0 \n",
       "  aggravate     0 0 0 0 0 0 0 0 0 0 \n",
       "  aggression    0 0 0 0 0 0 0 0 0 0 \n",
       "  aggressively  0 0 0 0 0 0 0 0 0 0 \n",
       "  aggressively… 0 0 0 0 0 0 0 0 0 0 "
      ]
     },
     "metadata": {},
     "output_type": "display_data"
    }
   ],
   "source": [
    "tweet_covid_m1[1:10, 1000:1010]\n",
    "tweet_covid_m2[1000:1010, 1:10]"
   ]
  },
  {
   "cell_type": "code",
   "execution_count": 17,
   "metadata": {},
   "outputs": [
    {
     "data": {
      "text/html": [
       "<style>\n",
       ".dl-inline {width: auto; margin:0; padding: 0}\n",
       ".dl-inline>dt, .dl-inline>dd {float: none; width: auto; display: inline-block}\n",
       ".dl-inline>dt::after {content: \":\\0020\"; padding-right: .5ex}\n",
       ".dl-inline>dt:not(:first-of-type) {padding-left: .5ex}\n",
       "</style><dl class=dl-inline><dt>covid</dt><dd>1438</dd><dt>cases</dt><dd>1225</dd><dt>new</dt><dd>836</dd><dt>coronavirus</dt><dd>793</dd><dt>amp</dt><dd>595</dd><dt>people</dt><dd>488</dd><dt>will</dt><dd>484</dd><dt>positive</dt><dd>466</dd><dt>pandemic</dt><dd>369</dd><dt>can</dt><dd>364</dd><dt>now</dt><dd>327</dd><dt>deaths</dt><dd>318</dd><dt>health</dt><dd>316</dd><dt>help</dt><dd>288</dd><dt>total</dt><dd>278</dd><dt>get</dt><dd>268</dd><dt>one</dt><dd>264</dd><dt>just</dt><dd>261</dd><dt>july</dt><dd>260</dd><dt>this</dt><dd>257</dd><dt>mask</dt><dd>235</dd><dt>today</dt><dd>234</dd><dt>daily</dt><dd>227</dd><dt>even</dt><dd>220</dd><dt>day</dt><dd>216</dd><dt>spread</dt><dd>214</dd><dt>tests</dt><dd>213</dd><dt>lockdown</dt><dd>212</dd><dt>need</dt><dd>211</dd><dt>risk</dt><dd>209</dd><dt>like</dt><dd>207</dd><dt>tested</dt><dd>195</dd><dt>masks</dt><dd>192</dd><dt>number</dt><dd>182</dd><dt>time</dt><dd>182</dd><dt>india</dt><dd>177</dd><dt>patients</dt><dd>176</dd><dt>many</dt><dd>173</dd><dt>symptoms</dt><dd>172</dd><dt>government</dt><dd>171</dd><dt>first</dt><dd>170</dd><dt>how</dt><dd>165</dd><dt>reported</dt><dd>164</dd><dt>world</dt><dd>164</dd><dt>last</dt><dd>158</dd><dt>back</dt><dd>153</dd><dt>good</dt><dd>151</dd><dt>know</dt><dd>148</dd><dt>virus</dt><dd>148</dd><dt>dont</dt><dd>147</dd><dt>please</dt><dd>144</dd><dt>you</dt><dd>144</dd><dt>still</dt><dd>142</dd><dt>update</dt><dd>142</dd><dt>wear</dt><dd>140</dd><dt>country</dt><dd>139</dd><dt>days</dt><dd>139</dd><dt>news</dt><dd>138</dd><dt>see</dt><dd>135</dd><dt>slow</dt><dd>134</dd><dt>take</dt><dd>134</dd><dt>says</dt><dd>133</dd><dt>due</dt><dd>132</dd><dt>face</dt><dd>131</dd><dt>realdonaldtrump</dt><dd>131</dd><dt>confirmed</dt><dd>129</dd><dt>vaccine</dt><dd>129</dd><dt>care</dt><dd>128</dd><dt>identify</dt><dd>127</dd><dt>minister</dt><dd>127</dd><dt>testing</dt><dd>127</dd><dt>hospital</dt><dd>125</dd><dt>what</dt><dd>125</dd><dt>home</dt><dd>124</dd><dt>well</dt><dd>124</dd><dt>work</dt><dd>123</dd><dt>corona</dt><dd>122</dd><dt>death</dt><dd>122</dd><dt>global</dt><dd>122</dd><dt>pradesh</dt><dd>121</dd><dt>going</dt><dd>120</dd><dt>read</dt><dd>120</dd><dt>want</dt><dd>119</dd><dt>sooner</dt><dd>118</dd><dt>state</dt><dd>118</dd><dt>test</dt><dd>118</dd><dt>selfreporting</dt><dd>117</dd><dt>safe</dt><dd>116</dd><dt>reports</dt><dd>115</dd><dt>may</dt><dd>114</dd><dt>for</dt><dd>113</dd><dt>since</dt><dd>113</dd><dt>make</dt><dd>111</dd><dt>chief</dt><dd>109</dd><dt>madhya</dt><dd>109</dd><dt>social</dt><dd>106</dd><dt>stay</dt><dd>106</dd><dt>don’t</dt><dd>105</dd><dt>its</dt><dd>105</dd><dt>latest</dt><dd>104</dd></dl>\n"
      ],
      "text/latex": [
       "\\begin{description*}\n",
       "\\item[covid] 1438\n",
       "\\item[cases] 1225\n",
       "\\item[new] 836\n",
       "\\item[coronavirus] 793\n",
       "\\item[amp] 595\n",
       "\\item[people] 488\n",
       "\\item[will] 484\n",
       "\\item[positive] 466\n",
       "\\item[pandemic] 369\n",
       "\\item[can] 364\n",
       "\\item[now] 327\n",
       "\\item[deaths] 318\n",
       "\\item[health] 316\n",
       "\\item[help] 288\n",
       "\\item[total] 278\n",
       "\\item[get] 268\n",
       "\\item[one] 264\n",
       "\\item[just] 261\n",
       "\\item[july] 260\n",
       "\\item[this] 257\n",
       "\\item[mask] 235\n",
       "\\item[today] 234\n",
       "\\item[daily] 227\n",
       "\\item[even] 220\n",
       "\\item[day] 216\n",
       "\\item[spread] 214\n",
       "\\item[tests] 213\n",
       "\\item[lockdown] 212\n",
       "\\item[need] 211\n",
       "\\item[risk] 209\n",
       "\\item[like] 207\n",
       "\\item[tested] 195\n",
       "\\item[masks] 192\n",
       "\\item[number] 182\n",
       "\\item[time] 182\n",
       "\\item[india] 177\n",
       "\\item[patients] 176\n",
       "\\item[many] 173\n",
       "\\item[symptoms] 172\n",
       "\\item[government] 171\n",
       "\\item[first] 170\n",
       "\\item[how] 165\n",
       "\\item[reported] 164\n",
       "\\item[world] 164\n",
       "\\item[last] 158\n",
       "\\item[back] 153\n",
       "\\item[good] 151\n",
       "\\item[know] 148\n",
       "\\item[virus] 148\n",
       "\\item[dont] 147\n",
       "\\item[please] 144\n",
       "\\item[you] 144\n",
       "\\item[still] 142\n",
       "\\item[update] 142\n",
       "\\item[wear] 140\n",
       "\\item[country] 139\n",
       "\\item[days] 139\n",
       "\\item[news] 138\n",
       "\\item[see] 135\n",
       "\\item[slow] 134\n",
       "\\item[take] 134\n",
       "\\item[says] 133\n",
       "\\item[due] 132\n",
       "\\item[face] 131\n",
       "\\item[realdonaldtrump] 131\n",
       "\\item[confirmed] 129\n",
       "\\item[vaccine] 129\n",
       "\\item[care] 128\n",
       "\\item[identify] 127\n",
       "\\item[minister] 127\n",
       "\\item[testing] 127\n",
       "\\item[hospital] 125\n",
       "\\item[what] 125\n",
       "\\item[home] 124\n",
       "\\item[well] 124\n",
       "\\item[work] 123\n",
       "\\item[corona] 122\n",
       "\\item[death] 122\n",
       "\\item[global] 122\n",
       "\\item[pradesh] 121\n",
       "\\item[going] 120\n",
       "\\item[read] 120\n",
       "\\item[want] 119\n",
       "\\item[sooner] 118\n",
       "\\item[state] 118\n",
       "\\item[test] 118\n",
       "\\item[selfreporting] 117\n",
       "\\item[safe] 116\n",
       "\\item[reports] 115\n",
       "\\item[may] 114\n",
       "\\item[for] 113\n",
       "\\item[since] 113\n",
       "\\item[make] 111\n",
       "\\item[chief] 109\n",
       "\\item[madhya] 109\n",
       "\\item[social] 106\n",
       "\\item[stay] 106\n",
       "\\item[don’t] 105\n",
       "\\item[its] 105\n",
       "\\item[latest] 104\n",
       "\\end{description*}\n"
      ],
      "text/markdown": [
       "covid\n",
       ":   1438cases\n",
       ":   1225new\n",
       ":   836coronavirus\n",
       ":   793amp\n",
       ":   595people\n",
       ":   488will\n",
       ":   484positive\n",
       ":   466pandemic\n",
       ":   369can\n",
       ":   364now\n",
       ":   327deaths\n",
       ":   318health\n",
       ":   316help\n",
       ":   288total\n",
       ":   278get\n",
       ":   268one\n",
       ":   264just\n",
       ":   261july\n",
       ":   260this\n",
       ":   257mask\n",
       ":   235today\n",
       ":   234daily\n",
       ":   227even\n",
       ":   220day\n",
       ":   216spread\n",
       ":   214tests\n",
       ":   213lockdown\n",
       ":   212need\n",
       ":   211risk\n",
       ":   209like\n",
       ":   207tested\n",
       ":   195masks\n",
       ":   192number\n",
       ":   182time\n",
       ":   182india\n",
       ":   177patients\n",
       ":   176many\n",
       ":   173symptoms\n",
       ":   172government\n",
       ":   171first\n",
       ":   170how\n",
       ":   165reported\n",
       ":   164world\n",
       ":   164last\n",
       ":   158back\n",
       ":   153good\n",
       ":   151know\n",
       ":   148virus\n",
       ":   148dont\n",
       ":   147please\n",
       ":   144you\n",
       ":   144still\n",
       ":   142update\n",
       ":   142wear\n",
       ":   140country\n",
       ":   139days\n",
       ":   139news\n",
       ":   138see\n",
       ":   135slow\n",
       ":   134take\n",
       ":   134says\n",
       ":   133due\n",
       ":   132face\n",
       ":   131realdonaldtrump\n",
       ":   131confirmed\n",
       ":   129vaccine\n",
       ":   129care\n",
       ":   128identify\n",
       ":   127minister\n",
       ":   127testing\n",
       ":   127hospital\n",
       ":   125what\n",
       ":   125home\n",
       ":   124well\n",
       ":   124work\n",
       ":   123corona\n",
       ":   122death\n",
       ":   122global\n",
       ":   122pradesh\n",
       ":   121going\n",
       ":   120read\n",
       ":   120want\n",
       ":   119sooner\n",
       ":   118state\n",
       ":   118test\n",
       ":   118selfreporting\n",
       ":   117safe\n",
       ":   116reports\n",
       ":   115may\n",
       ":   114for\n",
       ":   113since\n",
       ":   113make\n",
       ":   111chief\n",
       ":   109madhya\n",
       ":   109social\n",
       ":   106stay\n",
       ":   106don’t\n",
       ":   105its\n",
       ":   105latest\n",
       ":   104\n",
       "\n"
      ],
      "text/plain": [
       "          covid           cases             new     coronavirus             amp \n",
       "           1438            1225             836             793             595 \n",
       "         people            will        positive        pandemic             can \n",
       "            488             484             466             369             364 \n",
       "            now          deaths          health            help           total \n",
       "            327             318             316             288             278 \n",
       "            get             one            just            july            this \n",
       "            268             264             261             260             257 \n",
       "           mask           today           daily            even             day \n",
       "            235             234             227             220             216 \n",
       "         spread           tests        lockdown            need            risk \n",
       "            214             213             212             211             209 \n",
       "           like          tested           masks          number            time \n",
       "            207             195             192             182             182 \n",
       "          india        patients            many        symptoms      government \n",
       "            177             176             173             172             171 \n",
       "          first             how        reported           world            last \n",
       "            170             165             164             164             158 \n",
       "           back            good            know           virus            dont \n",
       "            153             151             148             148             147 \n",
       "         please             you           still          update            wear \n",
       "            144             144             142             142             140 \n",
       "        country            days            news             see            slow \n",
       "            139             139             138             135             134 \n",
       "           take            says             due            face realdonaldtrump \n",
       "            134             133             132             131             131 \n",
       "      confirmed         vaccine            care        identify        minister \n",
       "            129             129             128             127             127 \n",
       "        testing        hospital            what            home            well \n",
       "            127             125             125             124             124 \n",
       "           work          corona           death          global         pradesh \n",
       "            123             122             122             122             121 \n",
       "          going            read            want          sooner           state \n",
       "            120             120             119             118             118 \n",
       "           test   selfreporting            safe         reports             may \n",
       "            118             117             116             115             114 \n",
       "            for           since            make           chief          madhya \n",
       "            113             113             111             109             109 \n",
       "         social            stay           don’t             its          latest \n",
       "            106             106             105             105             104 "
      ]
     },
     "metadata": {},
     "output_type": "display_data"
    },
    {
     "data": {
      "text/html": [
       "<style>\n",
       ".dl-inline {width: auto; margin:0; padding: 0}\n",
       ".dl-inline>dt, .dl-inline>dd {float: none; width: auto; display: inline-block}\n",
       ".dl-inline>dt::after {content: \":\\0020\"; padding-right: .5ex}\n",
       ".dl-inline>dt:not(:first-of-type) {padding-left: .5ex}\n",
       "</style><dl class=dl-inline><dt>latest</dt><dd>104</dd><dt>trump</dt><dd>104</dd><dt>public</dt><dd>103</dd><dt>crisis</dt><dd>102</dd><dt>keep</dt><dd>102</dd><dt>why</dt><dd>101</dd><dt>life</dt><dd>100</dd><dt>support</dt><dd>100</dd><dt>hours</dt><dd>99</dd><dt>not</dt><dd>99</dd><dt>our</dt><dd>99</dd><dt>with</dt><dd>98</dd><dt>fight</dt><dd>96</dd><dt>case</dt><dd>95</dd><dt>data</dt><dd>95</dd><dt>great</dt><dd>95</dd><dt>said</dt><dd>95</dd><dt>another</dt><dd>94</dd><dt>who</dt><dd>94</dd><dt>think</dt><dd>92</dd><dt>rise</dt><dd>91</dd><dt>year</dt><dd>91</dd><dt>active</dt><dd>90</dd><dt>best</dt><dd>90</dd><dt>free</dt><dd>90</dd><dt>million</dt><dd>90</dd><dt>police</dt><dd>90</dd><dt>check</dt><dd>89</dd><dt>recovered</dt><dd>89</dd><dt>way</dt><dd>89</dd><dt>around</dt><dd>88</dd><dt>also</dt><dd>87</dd><dt>recovery</dt><dd>87</dd><dt>chouhanshivraj</dt><dd>86</dd><dt>every</dt><dd>86</dd><dt>per</dt><dd>86</dd><dt>right</dt><dd>86</dd><dt>singh</dt><dd>86</dd><dt>live</dt><dd>85</dd><dt>across</dt><dd>84</dd><dt>and</dt><dd>84</dd><dt>high</dt><dd>84</dd><dt>more</dt><dd>84</dd><dt>rate</dt><dd>84</dd><dt>situation</dt><dd>84</dd><dt>much</dt><dd>83</dd><dt>but</dt><dd>82</dd><dt>everyone</dt><dd>82</dd><dt>business</dt><dd>81</dd><dt>children</dt><dd>81</dd><dt>must</dt><dd>79</dd><dt>taking</dt><dd>79</dd><dt>countries</dt><dd>78</dd><dt>response</dt><dd>78</dd><dt>shivraj</dt><dd>78</dd><dt>week</dt><dd>78</dd><dt>wearing</dt><dd>77</dd><dt>your</dt><dd>77</dd><dt>report</dt><dd>76</dd><dt>there</dt><dd>76</dd><dt>impact</dt><dd>75</dd><dt>months</dt><dd>74</dd><dt>shivrajsinghchouhan</dt><dd>74</dd><dt>states</dt><dd>74</dd><dt>video</dt><dd>74</dd><dt>love</dt><dd>73</dd><dt>school</dt><dd>72</dd><dt>are</dt><dd>71</dd><dt>better</dt><dd>71</dd><dt>chouhan</dt><dd>71</dd><dt>saturday</dt><dd>71</dd><dt>weekend</dt><dd>71</dd><dt>blood</dt><dd>70</dd><dt>look</dt><dd>70</dd><dt>really</dt><dd>70</dd><dt>they</dt><dd>70</dd><dt>workers</dt><dd>70</dd><dt>continue</dt><dd>69</dd><dt>family</dt><dd>69</dd><dt>kids</dt><dd>69</dd><dt>students</dt><dd>69</dd><dt>when</dt><dd>69</dd><dt>amid</dt><dd>68</dd><dt>man</dt><dd>68</dd><dt>died</dt><dd>67</dd><dt>follow</dt><dd>67</dd><dt>local</dt><dd>67</dd><dt>recoveries</dt><dd>67</dd><dt>stop</dt><dd>67</dd><dt>gmt</dt><dd>66</dd><dt>long</dt><dd>66</dd><dt>plasma</dt><dd>66</dd><dt>record</dt><dd>66</dd><dt>breaking</dt><dd>65</dd><dt>coronaviruspandemic</dt><dd>65</dd><dt>join</dt><dd>65</dd><dt>next</dt><dd>65</dd><dt>two</dt><dd>65</dd><dt>working</dt><dd>65</dd><dt>protect</dt><dd>64</dd><dt>borisjohnson</dt><dd>63</dd></dl>\n"
      ],
      "text/latex": [
       "\\begin{description*}\n",
       "\\item[latest] 104\n",
       "\\item[trump] 104\n",
       "\\item[public] 103\n",
       "\\item[crisis] 102\n",
       "\\item[keep] 102\n",
       "\\item[why] 101\n",
       "\\item[life] 100\n",
       "\\item[support] 100\n",
       "\\item[hours] 99\n",
       "\\item[not] 99\n",
       "\\item[our] 99\n",
       "\\item[with] 98\n",
       "\\item[fight] 96\n",
       "\\item[case] 95\n",
       "\\item[data] 95\n",
       "\\item[great] 95\n",
       "\\item[said] 95\n",
       "\\item[another] 94\n",
       "\\item[who] 94\n",
       "\\item[think] 92\n",
       "\\item[rise] 91\n",
       "\\item[year] 91\n",
       "\\item[active] 90\n",
       "\\item[best] 90\n",
       "\\item[free] 90\n",
       "\\item[million] 90\n",
       "\\item[police] 90\n",
       "\\item[check] 89\n",
       "\\item[recovered] 89\n",
       "\\item[way] 89\n",
       "\\item[around] 88\n",
       "\\item[also] 87\n",
       "\\item[recovery] 87\n",
       "\\item[chouhanshivraj] 86\n",
       "\\item[every] 86\n",
       "\\item[per] 86\n",
       "\\item[right] 86\n",
       "\\item[singh] 86\n",
       "\\item[live] 85\n",
       "\\item[across] 84\n",
       "\\item[and] 84\n",
       "\\item[high] 84\n",
       "\\item[more] 84\n",
       "\\item[rate] 84\n",
       "\\item[situation] 84\n",
       "\\item[much] 83\n",
       "\\item[but] 82\n",
       "\\item[everyone] 82\n",
       "\\item[business] 81\n",
       "\\item[children] 81\n",
       "\\item[must] 79\n",
       "\\item[taking] 79\n",
       "\\item[countries] 78\n",
       "\\item[response] 78\n",
       "\\item[shivraj] 78\n",
       "\\item[week] 78\n",
       "\\item[wearing] 77\n",
       "\\item[your] 77\n",
       "\\item[report] 76\n",
       "\\item[there] 76\n",
       "\\item[impact] 75\n",
       "\\item[months] 74\n",
       "\\item[shivrajsinghchouhan] 74\n",
       "\\item[states] 74\n",
       "\\item[video] 74\n",
       "\\item[love] 73\n",
       "\\item[school] 72\n",
       "\\item[are] 71\n",
       "\\item[better] 71\n",
       "\\item[chouhan] 71\n",
       "\\item[saturday] 71\n",
       "\\item[weekend] 71\n",
       "\\item[blood] 70\n",
       "\\item[look] 70\n",
       "\\item[really] 70\n",
       "\\item[they] 70\n",
       "\\item[workers] 70\n",
       "\\item[continue] 69\n",
       "\\item[family] 69\n",
       "\\item[kids] 69\n",
       "\\item[students] 69\n",
       "\\item[when] 69\n",
       "\\item[amid] 68\n",
       "\\item[man] 68\n",
       "\\item[died] 67\n",
       "\\item[follow] 67\n",
       "\\item[local] 67\n",
       "\\item[recoveries] 67\n",
       "\\item[stop] 67\n",
       "\\item[gmt] 66\n",
       "\\item[long] 66\n",
       "\\item[plasma] 66\n",
       "\\item[record] 66\n",
       "\\item[breaking] 65\n",
       "\\item[coronaviruspandemic] 65\n",
       "\\item[join] 65\n",
       "\\item[next] 65\n",
       "\\item[two] 65\n",
       "\\item[working] 65\n",
       "\\item[protect] 64\n",
       "\\item[borisjohnson] 63\n",
       "\\end{description*}\n"
      ],
      "text/markdown": [
       "latest\n",
       ":   104trump\n",
       ":   104public\n",
       ":   103crisis\n",
       ":   102keep\n",
       ":   102why\n",
       ":   101life\n",
       ":   100support\n",
       ":   100hours\n",
       ":   99not\n",
       ":   99our\n",
       ":   99with\n",
       ":   98fight\n",
       ":   96case\n",
       ":   95data\n",
       ":   95great\n",
       ":   95said\n",
       ":   95another\n",
       ":   94who\n",
       ":   94think\n",
       ":   92rise\n",
       ":   91year\n",
       ":   91active\n",
       ":   90best\n",
       ":   90free\n",
       ":   90million\n",
       ":   90police\n",
       ":   90check\n",
       ":   89recovered\n",
       ":   89way\n",
       ":   89around\n",
       ":   88also\n",
       ":   87recovery\n",
       ":   87chouhanshivraj\n",
       ":   86every\n",
       ":   86per\n",
       ":   86right\n",
       ":   86singh\n",
       ":   86live\n",
       ":   85across\n",
       ":   84and\n",
       ":   84high\n",
       ":   84more\n",
       ":   84rate\n",
       ":   84situation\n",
       ":   84much\n",
       ":   83but\n",
       ":   82everyone\n",
       ":   82business\n",
       ":   81children\n",
       ":   81must\n",
       ":   79taking\n",
       ":   79countries\n",
       ":   78response\n",
       ":   78shivraj\n",
       ":   78week\n",
       ":   78wearing\n",
       ":   77your\n",
       ":   77report\n",
       ":   76there\n",
       ":   76impact\n",
       ":   75months\n",
       ":   74shivrajsinghchouhan\n",
       ":   74states\n",
       ":   74video\n",
       ":   74love\n",
       ":   73school\n",
       ":   72are\n",
       ":   71better\n",
       ":   71chouhan\n",
       ":   71saturday\n",
       ":   71weekend\n",
       ":   71blood\n",
       ":   70look\n",
       ":   70really\n",
       ":   70they\n",
       ":   70workers\n",
       ":   70continue\n",
       ":   69family\n",
       ":   69kids\n",
       ":   69students\n",
       ":   69when\n",
       ":   69amid\n",
       ":   68man\n",
       ":   68died\n",
       ":   67follow\n",
       ":   67local\n",
       ":   67recoveries\n",
       ":   67stop\n",
       ":   67gmt\n",
       ":   66long\n",
       ":   66plasma\n",
       ":   66record\n",
       ":   66breaking\n",
       ":   65coronaviruspandemic\n",
       ":   65join\n",
       ":   65next\n",
       ":   65two\n",
       ":   65working\n",
       ":   65protect\n",
       ":   64borisjohnson\n",
       ":   63\n",
       "\n"
      ],
      "text/plain": [
       "             latest               trump              public              crisis \n",
       "                104                 104                 103                 102 \n",
       "               keep                 why                life             support \n",
       "                102                 101                 100                 100 \n",
       "              hours                 not                 our                with \n",
       "                 99                  99                  99                  98 \n",
       "              fight                case                data               great \n",
       "                 96                  95                  95                  95 \n",
       "               said             another                 who               think \n",
       "                 95                  94                  94                  92 \n",
       "               rise                year              active                best \n",
       "                 91                  91                  90                  90 \n",
       "               free             million              police               check \n",
       "                 90                  90                  90                  89 \n",
       "          recovered                 way              around                also \n",
       "                 89                  89                  88                  87 \n",
       "           recovery      chouhanshivraj               every                 per \n",
       "                 87                  86                  86                  86 \n",
       "              right               singh                live              across \n",
       "                 86                  86                  85                  84 \n",
       "                and                high                more                rate \n",
       "                 84                  84                  84                  84 \n",
       "          situation                much                 but            everyone \n",
       "                 84                  83                  82                  82 \n",
       "           business            children                must              taking \n",
       "                 81                  81                  79                  79 \n",
       "          countries            response             shivraj                week \n",
       "                 78                  78                  78                  78 \n",
       "            wearing                your              report               there \n",
       "                 77                  77                  76                  76 \n",
       "             impact              months shivrajsinghchouhan              states \n",
       "                 75                  74                  74                  74 \n",
       "              video                love              school                 are \n",
       "                 74                  73                  72                  71 \n",
       "             better             chouhan            saturday             weekend \n",
       "                 71                  71                  71                  71 \n",
       "              blood                look              really                they \n",
       "                 70                  70                  70                  70 \n",
       "            workers            continue              family                kids \n",
       "                 70                  69                  69                  69 \n",
       "           students                when                amid                 man \n",
       "                 69                  69                  68                  68 \n",
       "               died              follow               local          recoveries \n",
       "                 67                  67                  67                  67 \n",
       "               stop                 gmt                long              plasma \n",
       "                 67                  66                  66                  66 \n",
       "             record            breaking coronaviruspandemic                join \n",
       "                 66                  65                  65                  65 \n",
       "               next                 two             working             protect \n",
       "                 65                  65                  65                  64 \n",
       "       borisjohnson \n",
       "                 63 "
      ]
     },
     "metadata": {},
     "output_type": "display_data"
    }
   ],
   "source": [
    "term_frequency_tweet_covid <- rowSums(tweet_covid_m2)\n",
    "term_frequency_tweet_covid <- sort(term_frequency_tweet_covid, decreasing = TRUE)\n",
    "head(term_frequency_tweet_covid, 100) \n",
    "term_frequency_tweet_covid[100:200]"
   ]
  },
  {
   "cell_type": "code",
   "execution_count": 18,
   "metadata": {},
   "outputs": [
    {
     "data": {
      "image/png": "[encoded data removed]",
      "text/plain": [
       "plot without title"
      ]
     },
     "metadata": {
      "image/png": {
       "height": 420,
       "width": 420
      }
     },
     "output_type": "display_data"
    }
   ],
   "source": [
    "term <- names(term_frequency_tweet_covid)\n",
    "num <- term_frequency_tweet_covid\n",
    "word_freqs <- data.frame(term, num)\n",
    "wordcloud(word_freqs$term, word_freqs$num, max.words = 100, colors = \"red\")"
   ]
  },
  {
   "cell_type": "code",
   "execution_count": null,
   "metadata": {},
   "outputs": [],
   "source": [
    "freq <- sort(colSums(as.matrix(covid_dtm)), decreasing=TRUE)   \n",
    "barplot(freq[1:10],col=\"lightgreen\",las=2)"
   ]
  },
  {
   "cell_type": "code",
   "execution_count": null,
   "metadata": {},
   "outputs": [],
   "source": [
    "dtmss <- removeSparseTerms(covid_dtm, 0.80)   \n",
    "dtmss   \n",
    "d <- dist(t(dtmss), method=\"euclidian\")   \n",
    "fit <- hclust(d=d, method=\"complete\")\n",
    "fit \n",
    "plot(fit, hang=1) \n",
    "groups <- cutree(fit, k=6)   \n",
    "rect.hclust(fit, k=6, border=\"red\")"
   ]
  },
  {
   "cell_type": "code",
   "execution_count": null,
   "metadata": {},
   "outputs": [],
   "source": [
    "d <- dist(t(dtmss), method=\"euclidian\")   \n",
    "kfit <- kmeans(d, 2)   \n",
    "clusplot(as.matrix(d), kfit$cluster, color=T, shade=T, labels=2, lines=0)"
   ]
  },
  {
   "cell_type": "code",
   "execution_count": null,
   "metadata": {},
   "outputs": [],
   "source": [
    "set.seed(1234)\n",
    "wordcloud(words = word_freqs$term, freq = word_freqs$num, min.freq = 1,\n",
    "          max.words=200, random.order=FALSE, rot.per=0.35, \n",
    "          colors=brewer.pal(8, \"Dark2\"))"
   ]
  }
 ],
 "metadata": {
  "kernelspec": {
   "display_name": "R",
   "language": "R",
   "name": "ir"
  },
  "language_info": {
   "codemirror_mode": "r",
   "file_extension": ".r",
   "mimetype": "text/x-r-source",
   "name": "R",
   "pygments_lexer": "r",
   "version": "3.6.2"
  }
 },
 "nbformat": 4,
 "nbformat_minor": 4
}
