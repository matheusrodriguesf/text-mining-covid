{
 "cells": [
  {
   "cell_type": "markdown",
   "metadata": {},
   "source": [
    "# Análise exploratória de dados Pub Med e Tweet Covid19"
   ]
  },
  {
   "cell_type": "markdown",
   "metadata": {},
   "source": [
    "## Instalação dos pacotes necessários para EDA"
   ]
  },
  {
   "cell_type": "code",
   "execution_count": null,
   "metadata": {},
   "outputs": [],
   "source": [
    "# Executar esse bloco caso não tenha o pacote instalado\n",
    "# install.packages(\"tidyverse\")\n",
    "# install.packages(\"magrittr\")\n",
    "# install.packages(\"tm\")\n",
    "# install.packages(\"wordcloud\")"
   ]
  },
  {
   "cell_type": "markdown",
   "metadata": {},
   "source": [
    "## Carregando os pacotes"
   ]
  },
  {
   "cell_type": "code",
   "execution_count": 1,
   "metadata": {},
   "outputs": [
    {
     "name": "stderr",
     "output_type": "stream",
     "text": [
      "Loading required package: RColorBrewer\n",
      "\n",
      "Loading required package: NLP\n",
      "\n",
      "── \u001b[1mAttaching packages\u001b[22m ─────────────────────────────────────── tidyverse 1.3.0 ──\n",
      "\n",
      "\u001b[32m✔\u001b[39m \u001b[34mggplot2\u001b[39m 3.3.2     \u001b[32m✔\u001b[39m \u001b[34mpurrr  \u001b[39m 0.3.4\n",
      "\u001b[32m✔\u001b[39m \u001b[34mtibble \u001b[39m 3.0.3     \u001b[32m✔\u001b[39m \u001b[34mdplyr  \u001b[39m 1.0.2\n",
      "\u001b[32m✔\u001b[39m \u001b[34mtidyr  \u001b[39m 1.1.2     \u001b[32m✔\u001b[39m \u001b[34mstringr\u001b[39m 1.4.0\n",
      "\u001b[32m✔\u001b[39m \u001b[34mreadr  \u001b[39m 1.3.1     \u001b[32m✔\u001b[39m \u001b[34mforcats\u001b[39m 0.5.0\n",
      "\n",
      "── \u001b[1mConflicts\u001b[22m ────────────────────────────────────────── tidyverse_conflicts() ──\n",
      "\u001b[31m✖\u001b[39m \u001b[34mggplot2\u001b[39m::\u001b[32mannotate()\u001b[39m masks \u001b[34mNLP\u001b[39m::annotate()\n",
      "\u001b[31m✖\u001b[39m \u001b[34mtidyr\u001b[39m::\u001b[32mextract()\u001b[39m    masks \u001b[34mmagrittr\u001b[39m::extract()\n",
      "\u001b[31m✖\u001b[39m \u001b[34mdplyr\u001b[39m::\u001b[32mfilter()\u001b[39m     masks \u001b[34mstats\u001b[39m::filter()\n",
      "\u001b[31m✖\u001b[39m \u001b[34mdplyr\u001b[39m::\u001b[32mlag()\u001b[39m        masks \u001b[34mstats\u001b[39m::lag()\n",
      "\u001b[31m✖\u001b[39m \u001b[34mpurrr\u001b[39m::\u001b[32mset_names()\u001b[39m  masks \u001b[34mmagrittr\u001b[39m::set_names()\n",
      "\n"
     ]
    }
   ],
   "source": [
    "library(wordcloud)\n",
    "library(magrittr)\n",
    "library(tm)\n",
    "library(tidyverse)\n",
    "library(tidyr)\n",
    "library(cluster)"
   ]
  },
  {
   "cell_type": "markdown",
   "metadata": {},
   "source": [
    "## Leitura dos dados Pub Med"
   ]
  },
  {
   "cell_type": "code",
   "execution_count": null,
   "metadata": {},
   "outputs": [],
   "source": [
    "# Leitura do arquivo por linha\n",
    "covid <- readLines(\"PM-COVID-4064-TM.txt\")"
   ]
  },
  {
   "cell_type": "code",
   "execution_count": null,
   "metadata": {},
   "outputs": [],
   "source": [
    "# Leitura do arquivo por DF\n",
    "covid_df <- read.delim(\"PM-COVID-4064-TM.txt\", header = FALSE, sep = \"\\n\")\n",
    "covid_df$doc_id <- seq.int(nrow(covid_df))\n",
    "covid_df <- covid_df[,c(2,1)]\n",
    "colnames(covid_df) <- c(\"doc_id\", \"text\")"
   ]
  },
  {
   "cell_type": "code",
   "execution_count": null,
   "metadata": {},
   "outputs": [],
   "source": [
    "covid_source <- VectorSource(covid)\n",
    "coviddf_source <- DataframeSource(covid_df)"
   ]
  },
  {
   "cell_type": "code",
   "execution_count": null,
   "metadata": {},
   "outputs": [],
   "source": [
    "covid_corpus <- VCorpus(covid_source)\n",
    "coviddf_corpus <- VCorpus(coviddf_source)"
   ]
  },
  {
   "cell_type": "code",
   "execution_count": null,
   "metadata": {},
   "outputs": [],
   "source": [
    "print(covid_corpus)\n",
    "print(coviddf_corpus)\n",
    "covid_corpus[[1]]\n",
    "covid_corpus[[1]]$content"
   ]
  },
  {
   "cell_type": "markdown",
   "metadata": {},
   "source": [
    "## Limpeza dos dados Pub Med"
   ]
  },
  {
   "cell_type": "code",
   "execution_count": null,
   "metadata": {},
   "outputs": [],
   "source": [
    "# Exemplo\n",
    "tolower(covid_corpus[[1]]$content)\n",
    "toupper(covid_corpus[[1]]$content)\n",
    "removePunctuation(covid_corpus[[1]]$content)\n",
    "removeNumbers(covid_corpus[[1]]$content)\n",
    "stripWhitespace(covid_corpus[[1]]$content)"
   ]
  },
  {
   "cell_type": "code",
   "execution_count": null,
   "metadata": {
    "scrolled": true
   },
   "outputs": [],
   "source": [
    "# Lista de stopwords en, pt e es\n",
    "stopwords(\"en\"); stopwords(\"pt\"); stopwords(\"es\")"
   ]
  },
  {
   "cell_type": "code",
   "execution_count": 60,
   "metadata": {},
   "outputs": [],
   "source": [
    "new_stops <- c(\"COVID\", \"the\", \"The\", stopwords(\"en\"))"
   ]
  },
  {
   "cell_type": "code",
   "execution_count": null,
   "metadata": {},
   "outputs": [],
   "source": [
    "# Exemplo\n",
    "removeWords(covid_corpus[[1]]$content, stopwords(\"en\")) %>% stripWhitespace()\n",
    "removeWords(covid_corpus[[1]]$content, new_stops) %>% stripWhitespace()"
   ]
  },
  {
   "cell_type": "markdown",
   "metadata": {},
   "source": [
    "## Aplicando a limpeza e normalização dos dados em toda base Pub Med"
   ]
  },
  {
   "cell_type": "code",
   "execution_count": null,
   "metadata": {},
   "outputs": [],
   "source": [
    "covid_clean <- tm_map(covid_corpus, removeWords, words = c(new_stops))\n",
    "covid_clean <- tm_map(covid_clean, removePunctuation)\n",
    "covid_clean[[1]]$content\n",
    "covid_clean <- tm_map(covid_clean, stripWhitespace)"
   ]
  },
  {
   "cell_type": "markdown",
   "metadata": {},
   "source": [
    "## Frequência dos Termos Pub Med "
   ]
  },
  {
   "cell_type": "code",
   "execution_count": null,
   "metadata": {},
   "outputs": [],
   "source": [
    "covid_dtm <- DocumentTermMatrix(covid_clean)\n",
    "covid_dtm\n",
    "covid_m1 <- as.matrix(covid_dtm)"
   ]
  },
  {
   "cell_type": "code",
   "execution_count": null,
   "metadata": {},
   "outputs": [],
   "source": [
    "covid_tdm <- TermDocumentMatrix(covid_clean)\n",
    "covid_tdm\n",
    "covid_m2 <- as.matrix(covid_tdm)"
   ]
  },
  {
   "cell_type": "code",
   "execution_count": null,
   "metadata": {},
   "outputs": [],
   "source": [
    "covid_m1[1:10, 1000:1010]\n",
    "covid_m2[1000:1010, 1:10]"
   ]
  },
  {
   "cell_type": "code",
   "execution_count": null,
   "metadata": {},
   "outputs": [],
   "source": [
    "term_frequency_covid <- rowSums(covid_m2)\n",
    "term_frequency_covid <- sort(term_frequency_covid, decreasing = TRUE)\n",
    "head(term_frequency_covid, 100) \n",
    "term_frequency_covid[100:200]"
   ]
  },
  {
   "cell_type": "markdown",
   "metadata": {},
   "source": [
    "## Visualização de Dados Pub Med"
   ]
  },
  {
   "cell_type": "code",
   "execution_count": null,
   "metadata": {},
   "outputs": [],
   "source": [
    "term <- names(term_frequency_covid)\n",
    "num <- term_frequency_covid\n",
    "word_freqs <- data.frame(term, num)\n",
    "wordcloud(word_freqs$term, word_freqs$num, max.words = 100, colors = \"red\")"
   ]
  },
  {
   "cell_type": "code",
   "execution_count": null,
   "metadata": {},
   "outputs": [],
   "source": [
    "freq <- sort(colSums(as.matrix(covid_dtm)), decreasing=TRUE)   \n",
    "barplot(freq[1:10],col=\"lightgreen\",las=2)"
   ]
  },
  {
   "cell_type": "code",
   "execution_count": null,
   "metadata": {},
   "outputs": [],
   "source": [
    "dtmss <- removeSparseTerms(covid_dtm, 0.80)   \n",
    "dtmss   \n",
    "d <- dist(t(dtmss), method=\"euclidian\")   \n",
    "fit <- hclust(d=d, method=\"complete\")\n",
    "fit \n",
    "plot(fit, hang=1) \n",
    "groups <- cutree(fit, k=6)   \n",
    "rect.hclust(fit, k=6, border=\"red\")"
   ]
  },
  {
   "cell_type": "code",
   "execution_count": null,
   "metadata": {},
   "outputs": [],
   "source": [
    "d <- dist(t(dtmss), method=\"euclidian\")   \n",
    "kfit <- kmeans(d, 2)   \n",
    "clusplot(as.matrix(d), kfit$cluster, color=T, shade=T, labels=2, lines=0)"
   ]
  },
  {
   "cell_type": "code",
   "execution_count": null,
   "metadata": {},
   "outputs": [],
   "source": [
    "set.seed(1234)\n",
    "wordcloud(words = word_freqs$term, freq = word_freqs$num, min.freq = 1,\n",
    "          max.words=200, random.order=FALSE, rot.per=0.35, \n",
    "          colors=brewer.pal(8, \"Dark2\"))"
   ]
  },
  {
   "cell_type": "markdown",
   "metadata": {},
   "source": [
    "## Leitura dos dados Tweet Covid19"
   ]
  },
  {
   "cell_type": "code",
   "execution_count": 43,
   "metadata": {},
   "outputs": [
    {
     "name": "stderr",
     "output_type": "stream",
     "text": [
      "Parsed with column specification:\n",
      "cols(\n",
      "  user_name = \u001b[31mcol_character()\u001b[39m,\n",
      "  user_location = \u001b[31mcol_character()\u001b[39m,\n",
      "  user_description = \u001b[31mcol_character()\u001b[39m,\n",
      "  user_created = \u001b[34mcol_datetime(format = \"\")\u001b[39m,\n",
      "  user_followers = \u001b[32mcol_double()\u001b[39m,\n",
      "  user_friends = \u001b[32mcol_double()\u001b[39m,\n",
      "  user_favourites = \u001b[32mcol_double()\u001b[39m,\n",
      "  user_verified = \u001b[33mcol_logical()\u001b[39m,\n",
      "  date = \u001b[34mcol_datetime(format = \"\")\u001b[39m,\n",
      "  text = \u001b[31mcol_character()\u001b[39m,\n",
      "  hashtags = \u001b[31mcol_character()\u001b[39m,\n",
      "  source = \u001b[31mcol_character()\u001b[39m,\n",
      "  is_retweet = \u001b[33mcol_logical()\u001b[39m\n",
      ")\n",
      "\n"
     ]
    }
   ],
   "source": [
    "tweets_covid <-read_csv('covid19_tweets.csv')"
   ]
  },
  {
   "cell_type": "code",
   "execution_count": 44,
   "metadata": {},
   "outputs": [
    {
     "name": "stdout",
     "output_type": "stream",
     "text": [
      "Rows: 179,108\n",
      "Columns: 13\n",
      "$ user_name        \u001b[3m\u001b[38;5;246m<chr>\u001b[39m\u001b[23m \"ᏉᎥ☻լꂅϮ\", \"Tom Basile 🇺🇸\", \"Time4fisticuffs\", \"ethel…\n",
      "$ user_location    \u001b[3m\u001b[38;5;246m<chr>\u001b[39m\u001b[23m \"astroworld\", \"New York, NY\", \"Pewee Valley, KY\", \"S…\n",
      "$ user_description \u001b[3m\u001b[38;5;246m<chr>\u001b[39m\u001b[23m \"wednesday addams as a disney princess keepin it [̲̅…\n",
      "$ user_created     \u001b[3m\u001b[38;5;246m<dttm>\u001b[39m\u001b[23m 2017-05-26 05:46:42, 2009-04-16 20:06:23, 2009-02-2…\n",
      "$ user_followers   \u001b[3m\u001b[38;5;246m<dbl>\u001b[39m\u001b[23m 624, 2253, 9275, 197, 101009, 1180, 79956, 608, 25, …\n",
      "$ user_friends     \u001b[3m\u001b[38;5;246m<dbl>\u001b[39m\u001b[23m 950, 1677, 9525, 987, 168, 1071, 54810, 355, 29, 342…\n",
      "$ user_favourites  \u001b[3m\u001b[38;5;246m<dbl>\u001b[39m\u001b[23m 18775, 24, 7254, 1488, 101, 1287, 3801, 95, 18, 2980…\n",
      "$ user_verified    \u001b[3m\u001b[38;5;246m<lgl>\u001b[39m\u001b[23m FALSE, TRUE, FALSE, FALSE, FALSE, FALSE, FALSE, FALS…\n",
      "$ date             \u001b[3m\u001b[38;5;246m<dttm>\u001b[39m\u001b[23m 2020-07-25 12:27:21, 2020-07-25 12:27:17, 2020-07-2…\n",
      "$ text             \u001b[3m\u001b[38;5;246m<chr>\u001b[39m\u001b[23m \"If I smelled the scent of hand sanitizers today on …\n",
      "$ hashtags         \u001b[3m\u001b[38;5;246m<chr>\u001b[39m\u001b[23m NA, NA, \"['COVID19']\", \"['COVID19']\", \"['CoronaVirus…\n",
      "$ source           \u001b[3m\u001b[38;5;246m<chr>\u001b[39m\u001b[23m \"Twitter for iPhone\", \"Twitter for Android\", \"Twitte…\n",
      "$ is_retweet       \u001b[3m\u001b[38;5;246m<lgl>\u001b[39m\u001b[23m FALSE, FALSE, FALSE, FALSE, FALSE, FALSE, FALSE, FAL…\n"
     ]
    }
   ],
   "source": [
    "glimpse(tweets_covid)"
   ]
  },
  {
   "cell_type": "code",
   "execution_count": 45,
   "metadata": {},
   "outputs": [],
   "source": [
    "tweets_covid<-tweets_covid %>%select(c(user_location, date, text, source))"
   ]
  },
  {
   "cell_type": "code",
   "execution_count": 46,
   "metadata": {},
   "outputs": [
    {
     "data": {
      "text/html": [
       "<table>\n",
       "<caption>A tibble: 5 × 4</caption>\n",
       "<thead>\n",
       "\t<tr><th scope=col>user_location</th><th scope=col>date</th><th scope=col>text</th><th scope=col>source</th></tr>\n",
       "\t<tr><th scope=col>&lt;chr&gt;</th><th scope=col>&lt;dttm&gt;</th><th scope=col>&lt;chr&gt;</th><th scope=col>&lt;chr&gt;</th></tr>\n",
       "</thead>\n",
       "<tbody>\n",
       "\t<tr><td>astroworld         </td><td>2020-07-25 12:27:21</td><td>If I smelled the scent of hand sanitizers today on someone in the past, I would think they were so intoxicated that… https://t.co/QZvYbrOgb0</td><td>Twitter for iPhone </td></tr>\n",
       "\t<tr><td>New York, NY       </td><td>2020-07-25 12:27:17</td><td>Hey @Yankees @YankeesPR and @MLB - wouldn't it have made more sense to have the players pay their respects to the A… https://t.co/1QvW0zgyPu</td><td>Twitter for Android</td></tr>\n",
       "\t<tr><td>Pewee Valley, KY   </td><td>2020-07-25 12:27:14</td><td>@diane3443 @wdunlap @realDonaldTrump Trump never once claimed #COVID19 was a hoax. We all claim that this effort to… https://t.co/Jkk8vHWHb3</td><td>Twitter for Android</td></tr>\n",
       "\t<tr><td>Stuck in the Middle</td><td>2020-07-25 12:27:10</td><td>@brookbanktv The one gift #COVID19 has give me is an appreciation for the simple things that were always around me… https://t.co/Z0pOAlFXcW </td><td>Twitter for iPhone </td></tr>\n",
       "\t<tr><td>Jammu and Kashmir  </td><td>2020-07-25 12:27:08</td><td>25 July : Media Bulletin on Novel #CoronaVirusUpdates #COVID19 \n",
       "@kansalrohit69 @DrSyedSehrish @airnewsalerts @ANI… https://t.co/MN0EEcsJHh </td><td>Twitter for Android</td></tr>\n",
       "</tbody>\n",
       "</table>\n"
      ],
      "text/latex": [
       "A tibble: 5 × 4\n",
       "\\begin{tabular}{llll}\n",
       " user\\_location & date & text & source\\\\\n",
       " <chr> & <dttm> & <chr> & <chr>\\\\\n",
       "\\hline\n",
       "\t astroworld          & 2020-07-25 12:27:21 & If I smelled the scent of hand sanitizers today on someone in the past, I would think they were so intoxicated that… https://t.co/QZvYbrOgb0 & Twitter for iPhone \\\\\n",
       "\t New York, NY        & 2020-07-25 12:27:17 & Hey @Yankees @YankeesPR and @MLB - wouldn't it have made more sense to have the players pay their respects to the A… https://t.co/1QvW0zgyPu & Twitter for Android\\\\\n",
       "\t Pewee Valley, KY    & 2020-07-25 12:27:14 & @diane3443 @wdunlap @realDonaldTrump Trump never once claimed \\#COVID19 was a hoax. We all claim that this effort to… https://t.co/Jkk8vHWHb3 & Twitter for Android\\\\\n",
       "\t Stuck in the Middle & 2020-07-25 12:27:10 & @brookbanktv The one gift \\#COVID19 has give me is an appreciation for the simple things that were always around me… https://t.co/Z0pOAlFXcW  & Twitter for iPhone \\\\\n",
       "\t Jammu and Kashmir   & 2020-07-25 12:27:08 & 25 July : Media Bulletin on Novel \\#CoronaVirusUpdates \\#COVID19 \n",
       "@kansalrohit69 @DrSyedSehrish @airnewsalerts @ANI… https://t.co/MN0EEcsJHh  & Twitter for Android\\\\\n",
       "\\end{tabular}\n"
      ],
      "text/markdown": [
       "\n",
       "A tibble: 5 × 4\n",
       "\n",
       "| user_location &lt;chr&gt; | date &lt;dttm&gt; | text &lt;chr&gt; | source &lt;chr&gt; |\n",
       "|---|---|---|---|\n",
       "| astroworld          | 2020-07-25 12:27:21 | If I smelled the scent of hand sanitizers today on someone in the past, I would think they were so intoxicated that… https://t.co/QZvYbrOgb0 | Twitter for iPhone  |\n",
       "| New York, NY        | 2020-07-25 12:27:17 | Hey @Yankees @YankeesPR and @MLB - wouldn't it have made more sense to have the players pay their respects to the A… https://t.co/1QvW0zgyPu | Twitter for Android |\n",
       "| Pewee Valley, KY    | 2020-07-25 12:27:14 | @diane3443 @wdunlap @realDonaldTrump Trump never once claimed #COVID19 was a hoax. We all claim that this effort to… https://t.co/Jkk8vHWHb3 | Twitter for Android |\n",
       "| Stuck in the Middle | 2020-07-25 12:27:10 | @brookbanktv The one gift #COVID19 has give me is an appreciation for the simple things that were always around me… https://t.co/Z0pOAlFXcW  | Twitter for iPhone  |\n",
       "| Jammu and Kashmir   | 2020-07-25 12:27:08 | 25 July : Media Bulletin on Novel #CoronaVirusUpdates #COVID19 \n",
       "@kansalrohit69 @DrSyedSehrish @airnewsalerts @ANI… https://t.co/MN0EEcsJHh  | Twitter for Android |\n",
       "\n"
      ],
      "text/plain": [
       "  user_location       date               \n",
       "1 astroworld          2020-07-25 12:27:21\n",
       "2 New York, NY        2020-07-25 12:27:17\n",
       "3 Pewee Valley, KY    2020-07-25 12:27:14\n",
       "4 Stuck in the Middle 2020-07-25 12:27:10\n",
       "5 Jammu and Kashmir   2020-07-25 12:27:08\n",
       "  text                                                                                                                                        \n",
       "1 If I smelled the scent of hand sanitizers today on someone in the past, I would think they were so intoxicated that… https://t.co/QZvYbrOgb0\n",
       "2 Hey @Yankees @YankeesPR and @MLB - wouldn't it have made more sense to have the players pay their respects to the A… https://t.co/1QvW0zgyPu\n",
       "3 @diane3443 @wdunlap @realDonaldTrump Trump never once claimed #COVID19 was a hoax. We all claim that this effort to… https://t.co/Jkk8vHWHb3\n",
       "4 @brookbanktv The one gift #COVID19 has give me is an appreciation for the simple things that were always around me… https://t.co/Z0pOAlFXcW \n",
       "5 25 July : Media Bulletin on Novel #CoronaVirusUpdates #COVID19 \\n@kansalrohit69 @DrSyedSehrish @airnewsalerts @ANI… https://t.co/MN0EEcsJHh \n",
       "  source             \n",
       "1 Twitter for iPhone \n",
       "2 Twitter for Android\n",
       "3 Twitter for Android\n",
       "4 Twitter for iPhone \n",
       "5 Twitter for Android"
      ]
     },
     "metadata": {},
     "output_type": "display_data"
    }
   ],
   "source": [
    "tweets_covid%>%head(5)"
   ]
  },
  {
   "cell_type": "code",
   "execution_count": 47,
   "metadata": {},
   "outputs": [
    {
     "data": {
      "text/html": [
       "<table>\n",
       "<caption>A tibble: 5 × 4</caption>\n",
       "<thead>\n",
       "\t<tr><th scope=col>user_location</th><th scope=col>date</th><th scope=col>text</th><th scope=col>source</th></tr>\n",
       "\t<tr><th scope=col>&lt;chr&gt;</th><th scope=col>&lt;dttm&gt;</th><th scope=col>&lt;chr&gt;</th><th scope=col>&lt;chr&gt;</th></tr>\n",
       "</thead>\n",
       "<tbody>\n",
       "\t<tr><td>Ilorin, Nigeria           </td><td>2020-08-29 19:44:21</td><td>Thanks @IamOhmai for nominating me for the @WHO #WearAMask challenge.\n",
       "\n",
       "I nominate @abdlbaasit_ @hvbxxb,… https://t.co/IegQDkKudT                </td><td>Twitter for Android</td></tr>\n",
       "\t<tr><td>Ontario                   </td><td>2020-08-29 19:44:16</td><td>2020! The year of insanity! Lol! #COVID19 https://t.co/y48NP0yzgn                                                                                 </td><td>Twitter for Android</td></tr>\n",
       "\t<tr><td>🇨🇦 Canada                 </td><td>2020-08-29 19:44:15</td><td>@CTVNews A powerful painting by Juan Lucena. It's a tribute to the grandparents who died of COVID 19 and the grandc… https://t.co/wnXbbyoCe2      </td><td>Twitter Web App    </td></tr>\n",
       "\t<tr><td>New York City             </td><td>2020-08-29 19:44:14</td><td>More than 1,200 students test positive for #COVID19 at major university - ABC News https://t.co/6aNhSiF5gh                                        </td><td>Twitter for iPhone </td></tr>\n",
       "\t<tr><td>Aliwal North, South Africa</td><td>2020-08-29 19:44:08</td><td>I stop when I see a Stop\n",
       "\n",
       "@SABCNews\n",
       "@IzindabaNews24\n",
       "@dailysunsa\n",
       "@eNCA\n",
       "@AliwalNorth\n",
       "@Ambitiouz_Ent\n",
       "@Official_SABC1… https://t.co/ReG8pwZoN7</td><td>Twitter for Android</td></tr>\n",
       "</tbody>\n",
       "</table>\n"
      ],
      "text/latex": [
       "A tibble: 5 × 4\n",
       "\\begin{tabular}{llll}\n",
       " user\\_location & date & text & source\\\\\n",
       " <chr> & <dttm> & <chr> & <chr>\\\\\n",
       "\\hline\n",
       "\t Ilorin, Nigeria            & 2020-08-29 19:44:21 & Thanks @IamOhmai for nominating me for the @WHO \\#WearAMask challenge.\n",
       "\n",
       "I nominate @abdlbaasit\\_ @hvbxxb,… https://t.co/IegQDkKudT                 & Twitter for Android\\\\\n",
       "\t Ontario                    & 2020-08-29 19:44:16 & 2020! The year of insanity! Lol! \\#COVID19 https://t.co/y48NP0yzgn                                                                                  & Twitter for Android\\\\\n",
       "\t 🇨🇦 Canada                  & 2020-08-29 19:44:15 & @CTVNews A powerful painting by Juan Lucena. It's a tribute to the grandparents who died of COVID 19 and the grandc… https://t.co/wnXbbyoCe2       & Twitter Web App    \\\\\n",
       "\t New York City              & 2020-08-29 19:44:14 & More than 1,200 students test positive for \\#COVID19 at major university - ABC News https://t.co/6aNhSiF5gh                                         & Twitter for iPhone \\\\\n",
       "\t Aliwal North, South Africa & 2020-08-29 19:44:08 & I stop when I see a Stop\n",
       "\n",
       "@SABCNews\n",
       "@IzindabaNews24\n",
       "@dailysunsa\n",
       "@eNCA\n",
       "@AliwalNorth\n",
       "@Ambitiouz\\_Ent\n",
       "@Official\\_SABC1… https://t.co/ReG8pwZoN7 & Twitter for Android\\\\\n",
       "\\end{tabular}\n"
      ],
      "text/markdown": [
       "\n",
       "A tibble: 5 × 4\n",
       "\n",
       "| user_location &lt;chr&gt; | date &lt;dttm&gt; | text &lt;chr&gt; | source &lt;chr&gt; |\n",
       "|---|---|---|---|\n",
       "| Ilorin, Nigeria            | 2020-08-29 19:44:21 | Thanks @IamOhmai for nominating me for the @WHO #WearAMask challenge.\n",
       "\n",
       "I nominate @abdlbaasit_ @hvbxxb,… https://t.co/IegQDkKudT                 | Twitter for Android |\n",
       "| Ontario                    | 2020-08-29 19:44:16 | 2020! The year of insanity! Lol! #COVID19 https://t.co/y48NP0yzgn                                                                                  | Twitter for Android |\n",
       "| 🇨🇦 Canada                  | 2020-08-29 19:44:15 | @CTVNews A powerful painting by Juan Lucena. It's a tribute to the grandparents who died of COVID 19 and the grandc… https://t.co/wnXbbyoCe2       | Twitter Web App     |\n",
       "| New York City              | 2020-08-29 19:44:14 | More than 1,200 students test positive for #COVID19 at major university - ABC News https://t.co/6aNhSiF5gh                                         | Twitter for iPhone  |\n",
       "| Aliwal North, South Africa | 2020-08-29 19:44:08 | I stop when I see a Stop\n",
       "\n",
       "@SABCNews\n",
       "@IzindabaNews24\n",
       "@dailysunsa\n",
       "@eNCA\n",
       "@AliwalNorth\n",
       "@Ambitiouz_Ent\n",
       "@Official_SABC1… https://t.co/ReG8pwZoN7 | Twitter for Android |\n",
       "\n"
      ],
      "text/plain": [
       "  user_location              date               \n",
       "1 Ilorin, Nigeria            2020-08-29 19:44:21\n",
       "2 Ontario                    2020-08-29 19:44:16\n",
       "3 🇨🇦 Canada                  2020-08-29 19:44:15\n",
       "4 New York City              2020-08-29 19:44:14\n",
       "5 Aliwal North, South Africa 2020-08-29 19:44:08\n",
       "  text                                                                                                                                              \n",
       "1 Thanks @IamOhmai for nominating me for the @WHO #WearAMask challenge.\\n\\nI nominate @abdlbaasit_ @hvbxxb,… https://t.co/IegQDkKudT                \n",
       "2 2020! The year of insanity! Lol! #COVID19 https://t.co/y48NP0yzgn                                                                                 \n",
       "3 @CTVNews A powerful painting by Juan Lucena. It's a tribute to the grandparents who died of COVID 19 and the grandc… https://t.co/wnXbbyoCe2      \n",
       "4 More than 1,200 students test positive for #COVID19 at major university - ABC News https://t.co/6aNhSiF5gh                                        \n",
       "5 I stop when I see a Stop\\n\\n@SABCNews\\n@IzindabaNews24\\n@dailysunsa\\n@eNCA\\n@AliwalNorth\\n@Ambitiouz_Ent\\n@Official_SABC1… https://t.co/ReG8pwZoN7\n",
       "  source             \n",
       "1 Twitter for Android\n",
       "2 Twitter for Android\n",
       "3 Twitter Web App    \n",
       "4 Twitter for iPhone \n",
       "5 Twitter for Android"
      ]
     },
     "metadata": {},
     "output_type": "display_data"
    }
   ],
   "source": [
    "tweets_covid%>%tail(5)"
   ]
  },
  {
   "cell_type": "code",
   "execution_count": 49,
   "metadata": {},
   "outputs": [],
   "source": [
    "# definindo a fonte texto tweets\n",
    "tweets_covid_source <- VectorSource(tweets_covid$text)\n",
    "# transformando em corpus texto tweets\n",
    "tweets_covid_corpus <- VCorpus(tweets_covid_source)"
   ]
  },
  {
   "cell_type": "code",
   "execution_count": 50,
   "metadata": {},
   "outputs": [
    {
     "name": "stdout",
     "output_type": "stream",
     "text": [
      "<<VCorpus>>\n",
      "Metadata:  corpus specific: 0, document level (indexed): 0\n",
      "Content:  documents: 179108\n"
     ]
    },
    {
     "data": {
      "text/plain": [
       "<<PlainTextDocument>>\n",
       "Metadata:  7\n",
       "Content:  chars: 140"
      ]
     },
     "metadata": {},
     "output_type": "display_data"
    },
    {
     "data": {
      "text/html": [
       "'If I smelled the scent of hand sanitizers today on someone in the past, I would think they were so intoxicated that… https://t.co/QZvYbrOgb0'"
      ],
      "text/latex": [
       "'If I smelled the scent of hand sanitizers today on someone in the past, I would think they were so intoxicated that… https://t.co/QZvYbrOgb0'"
      ],
      "text/markdown": [
       "'If I smelled the scent of hand sanitizers today on someone in the past, I would think they were so intoxicated that… https://t.co/QZvYbrOgb0'"
      ],
      "text/plain": [
       "[1] \"If I smelled the scent of hand sanitizers today on someone in the past, I would think they were so intoxicated that… https://t.co/QZvYbrOgb0\""
      ]
     },
     "metadata": {},
     "output_type": "display_data"
    }
   ],
   "source": [
    "print(tweets_covid_corpus)\n",
    "tweets_covid_corpus[[1]]\n",
    "tweets_covid_corpus[[1]]$content"
   ]
  },
  {
   "cell_type": "markdown",
   "metadata": {},
   "source": [
    "## Aplicando a limpeza e normalização dos dados em toda base Pub Med"
   ]
  },
  {
   "cell_type": "code",
   "execution_count": 61,
   "metadata": {},
   "outputs": [
    {
     "data": {
      "text/html": [
       "<span style=white-space:pre-wrap>'If I smelled  scent  hand sanitizers today  someone   past I  think    intoxicated … '</span>"
      ],
      "text/latex": [
       "'If I smelled  scent  hand sanitizers today  someone   past I  think    intoxicated … '"
      ],
      "text/markdown": [
       "<span style=white-space:pre-wrap>'If I smelled  scent  hand sanitizers today  someone   past I  think    intoxicated … '</span>"
      ],
      "text/plain": [
       "[1] \"If I smelled  scent  hand sanitizers today  someone   past I  think    intoxicated … \""
      ]
     },
     "metadata": {},
     "output_type": "display_data"
    }
   ],
   "source": [
    "remover_https_url <-function(texto)gsub(\"https.*\",\"\",  texto)\n",
    "remover_http_url <-function(texto)gsub(\"http.*\",\"\",  texto)\n",
    "remover_barra <-function(texto)gsub(\"/\", \"\", texto)\n",
    "remover_barras <-function(texto)gsub(\"\\\\|\", \"\", texto)\n",
    "remover_arroba <-function(texto)gsub(\"@\", \"\", texto)\n",
    "tweets_covid_corpus <-tm_map(tweets_covid_corpus, content_transformer(remover_https_url))\n",
    "tweets_covid_corpus <-tm_map(tweets_covid_corpus, content_transformer(remover_http_url))\n",
    "tweets_covid_corpus <-tm_map(tweets_covid_corpus, content_transformer(remover_barra))\n",
    "tweets_covid_corpus <-tm_map(tweets_covid_corpus, content_transformer(remover_barras))\n",
    "tweets_covid_corpus <-tm_map(tweets_covid_corpus, content_transformer(remover_arroba))                                                        \n",
    "tweets_covid_corpus <-tm_map(tweets_covid_corpus, content_transformer(removePunctuation))\n",
    "tweets_covid_corpus <-tm_map(tweets_covid_corpus, content_transformer(removeNumbers))\n",
    "tweets_covid_corpus <-tm_map(tweets_covid_corpus, content_transformer(stripWhitespace))\n",
    "tweets_covid_corpus <-tm_map(tweets_covid_corpus, removeWords, words = c(new_stops))\n",
    "tweets_covid_corpus[[1]]$content"
   ]
  },
  {
   "cell_type": "code",
   "execution_count": 65,
   "metadata": {},
   "outputs": [
    {
     "data": {
      "text/plain": [
       "<<DocumentTermMatrix (documents: 179108, terms: 157092)>>\n",
       "Non-/sparse entries: 1708840/28134725096\n",
       "Sparsity           : 100%\n",
       "Maximal term length: 78\n",
       "Weighting          : term frequency (tf)"
      ]
     },
     "metadata": {},
     "output_type": "display_data"
    }
   ],
   "source": [
    "#Term Frequency - Document Frequency matriz\n",
    "tweets_covid_dtm <- DocumentTermMatrix(tweets_covid_corpus)\n",
    "tweets_covid_dtm"
   ]
  },
  {
   "cell_type": "code",
   "execution_count": 67,
   "metadata": {},
   "outputs": [
    {
     "data": {
      "text/plain": [
       "<<TermDocumentMatrix (terms: 157092, documents: 179108)>>\n",
       "Non-/sparse entries: 1708840/28134725096\n",
       "Sparsity           : 100%\n",
       "Maximal term length: 78\n",
       "Weighting          : term frequency (tf)"
      ]
     },
     "metadata": {},
     "output_type": "display_data"
    }
   ],
   "source": [
    "tweets_covid_tdm <- TermDocumentMatrix(tweets_covid_corpus)\n",
    "tweets_covid_tdm"
   ]
  },
  {
   "cell_type": "code",
   "execution_count": null,
   "metadata": {},
   "outputs": [],
   "source": []
  }
 ],
 "metadata": {
  "kernelspec": {
   "display_name": "R",
   "language": "R",
   "name": "ir"
  },
  "language_info": {
   "codemirror_mode": "r",
   "file_extension": ".r",
   "mimetype": "text/x-r-source",
   "name": "R",
   "pygments_lexer": "r",
   "version": "3.6.2"
  }
 },
 "nbformat": 4,
 "nbformat_minor": 4
}
