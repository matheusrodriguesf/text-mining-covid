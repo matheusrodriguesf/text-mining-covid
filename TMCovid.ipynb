{
 "cells": [
  {
   "cell_type": "markdown",
   "metadata": {},
   "source": [
    "# Análise exploratória de dados Tweet Covid19"
   ]
  },
  {
   "cell_type": "markdown",
   "metadata": {},
   "source": [
    "## 1. Instalação dos pacotes necessários para EDA"
   ]
  },
  {
   "cell_type": "code",
   "execution_count": null,
   "metadata": {},
   "outputs": [],
   "source": [
    "# Executar esse bloco caso não tenha o pacote instalado\n",
    "# install.packages(\"tidyverse\")\n",
    "# install.packages(\"magrittr\")\n",
    "# install.packages(\"tm\")\n",
    "# install.packages(\"wordcloud\")"
   ]
  },
  {
   "cell_type": "markdown",
   "metadata": {},
   "source": [
    "## 2. Carregando os pacotes"
   ]
  },
  {
   "cell_type": "code",
   "execution_count": null,
   "metadata": {},
   "outputs": [],
   "source": [
    "library(wordcloud)\n",
    "library(magrittr)\n",
    "library(tm)\n",
    "library(tidyverse)\n",
    "library(tidyr)\n",
    "library(cluster)"
   ]
  },
  {
   "cell_type": "markdown",
   "metadata": {},
   "source": [
    "## 3. Leitura dos dados"
   ]
  },
  {
   "cell_type": "code",
   "execution_count": null,
   "metadata": {},
   "outputs": [],
   "source": [
    "# Leitura do arquivo por linha do PubMed\n",
    "covid <- readLines(\"PM-COVID-4064-TM.txt\")"
   ]
  },
  {
   "cell_type": "code",
   "execution_count": null,
   "metadata": {},
   "outputs": [],
   "source": [
    "# Leitura do arquivo por DF do PubMed\n",
    "covid_df <- read.delim(\"PM-COVID-4064-TM.txt\", header = FALSE, sep = \"\\n\")\n",
    "covid_df$doc_id <- seq.int(nrow(covid_df))\n",
    "covid_df <- covid_df[,c(2,1)]\n",
    "colnames(covid_df) <- c(\"doc_id\", \"text\")"
   ]
  },
  {
   "cell_type": "code",
   "execution_count": null,
   "metadata": {},
   "outputs": [],
   "source": [
    "# ler o arquivo Tweets\n",
    "tweets_covid <-read_csv('covid19_tweets.csv')"
   ]
  },
  {
   "cell_type": "code",
   "execution_count": null,
   "metadata": {},
   "outputs": [],
   "source": [
    "glimpse(tweets_covid)"
   ]
  },
  {
   "cell_type": "code",
   "execution_count": null,
   "metadata": {},
   "outputs": [],
   "source": [
    "tweets_covid<-tweets_covid %>%select(c(user_location, date, text, source))"
   ]
  },
  {
   "cell_type": "code",
   "execution_count": null,
   "metadata": {},
   "outputs": [],
   "source": [
    "tweets_covid<-tweets_covid%>%rename(\n",
    "    localizacao = user_location,\n",
    "    data_hora_publicacao = date,\n",
    "    texto = text,\n",
    "    origem = source \n",
    ")"
   ]
  },
  {
   "cell_type": "code",
   "execution_count": null,
   "metadata": {},
   "outputs": [],
   "source": [
    "tweets_covid%>%head(5)"
   ]
  },
  {
   "cell_type": "code",
   "execution_count": null,
   "metadata": {},
   "outputs": [],
   "source": [
    "tweets_covid%>%tail(5)"
   ]
  },
  {
   "cell_type": "code",
   "execution_count": null,
   "metadata": {},
   "outputs": [],
   "source": [
    "# definindo a fonte texto Pub Med\n",
    "covid_source <- VectorSource(covid)\n",
    "covid_df_source <- DataframeSource(covid_df)\n",
    "# transformando em corpus texto Pub Med\n",
    "covid_corpus <- VCorpus(covid_source)\n",
    "covid_df_corpus <- VCorpus(covid_df_source)"
   ]
  },
  {
   "cell_type": "code",
   "execution_count": null,
   "metadata": {},
   "outputs": [],
   "source": [
    "# definindo a fonte texto tweets\n",
    "tweets_covid_source <- VectorSource(tweets_covid$texto)\n",
    "# transformando em corpus texto tweets\n",
    "tweets_covid_corpus <- VCorpus(tweets_covid_source)"
   ]
  },
  {
   "cell_type": "code",
   "execution_count": null,
   "metadata": {},
   "outputs": [],
   "source": [
    "print(covid_corpus)\n",
    "print(covid_df_corpus)\n",
    "covid_corpus[[2]]\n",
    "covid_corpus[[2]]$content"
   ]
  },
  {
   "cell_type": "code",
   "execution_count": null,
   "metadata": {},
   "outputs": [],
   "source": [
    "print(tweets_covid_corpus)\n",
    "tweets_covid_corpus[[2]]\n",
    "tweets_covid_corpus[[5]]$content"
   ]
  },
  {
   "cell_type": "markdown",
   "metadata": {},
   "source": [
    "## 4. Limpeza dos Dados"
   ]
  },
  {
   "cell_type": "code",
   "execution_count": null,
   "metadata": {},
   "outputs": [],
   "source": [
    "#StopWords\n",
    "stopwords(\"en\")\n",
    "stopwords(\"pt\")\n",
    "stopwords(\"es\")"
   ]
  },
  {
   "cell_type": "code",
   "execution_count": null,
   "metadata": {},
   "outputs": [],
   "source": [
    "new_stops <- c(\"COVID\", \"the\", \"The\", stopwords(\"en\"))"
   ]
  },
  {
   "cell_type": "code",
   "execution_count": null,
   "metadata": {},
   "outputs": [],
   "source": [
    "# Normalizacao e limpeza dos texto Pub Med\n",
    "covid_clean <- tm_map(covid_corpus, removeWords, words = c(new_stops))\n",
    "covid_clean <- tm_map(covid_corpus, removePunctuation)\n",
    "covid_clean <- tm_map(covid_corpus, stripWhitespace)\n",
    "covid_clean[[2]]$content"
   ]
  },
  {
   "cell_type": "code",
   "execution_count": null,
   "metadata": {},
   "outputs": [],
   "source": [
    "# Normalizacao e limpeza dos Tweets\n",
    "removerURL <-function(texto)gsub(\"http[^[:space:]]*\", \"\", texto)\n",
    "tweets_covid_corpus <- tm_map(tweets_covid_corpus, removeWords, words = c(new_stops))\n",
    "tweets_covid_corpus <- tm_map(tweets_covid_corpus, content_transformer(removerURL))\n",
    "tweets_covid_corpus <- tm_map(tweets_covid_corpus, content_transformer(removePunctuation))\n",
    "tweets_covid_corpus <- tm_map(tweets_covid_corpus, content_transformer(removeNumbers))\n",
    "tweets_covid_corpus <- tm_map(tweets_covid_corpus, content_transformer(stripWhitespace))\n",
    "tweets_covid_corpus[[2]]$content"
   ]
  },
  {
   "cell_type": "code",
   "execution_count": null,
   "metadata": {},
   "outputs": [],
   "source": [
    "#Term Frequency - Document Frequency matriz\n",
    "covid_dtm <- DocumentTermMatrix(covid_clean)\n",
    "covid_dtm\n",
    "covid_m1 <- as.matrix(covid_dtm)"
   ]
  },
  {
   "cell_type": "code",
   "execution_count": null,
   "metadata": {},
   "outputs": [],
   "source": [
    "covid_tdm <- TermDocumentMatrix(covid_clean)\n",
    "covid_tdm\n",
    "covid_m2 <- as.matrix(covid_tdm)"
   ]
  },
  {
   "cell_type": "markdown",
   "metadata": {},
   "source": [
    "## Visualização dos Dados"
   ]
  },
  {
   "cell_type": "code",
   "execution_count": null,
   "metadata": {},
   "outputs": [],
   "source": [
    "term_frequency_covid <- rowSums(covid_m2)\n",
    "term_frequency_covid <- sort(term_frequency_covid, decreasing = TRUE)\n",
    "head(term_frequency_covid, 100) \n",
    "term_frequency_covid[100:200]"
   ]
  },
  {
   "cell_type": "code",
   "execution_count": null,
   "metadata": {},
   "outputs": [],
   "source": [
    "term <- names(term_frequency_covid)\n",
    "num <- term_frequency_covid\n",
    "word_freqs <- data.frame(term, num)\n",
    "wordcloud(word_freqs$term, word_freqs$num, max.words = 100, colors = \"red\")"
   ]
  },
  {
   "cell_type": "code",
   "execution_count": null,
   "metadata": {},
   "outputs": [],
   "source": [
    "freq <- sort(colSums(as.matrix(covid_dtm)), decreasing=TRUE)   \n",
    "barplot(freq[1:10],col=\"lightgreen\",las=2)"
   ]
  },
  {
   "cell_type": "code",
   "execution_count": null,
   "metadata": {},
   "outputs": [],
   "source": [
    "dtmss <- removeSparseTerms(covid_dtm, 0.80)   \n",
    "dtmss   \n",
    "d <- dist(t(dtmss), method=\"euclidian\")   \n",
    "fit <- hclust(d=d, method=\"complete\")\n",
    "fit \n",
    "plot(fit, hang=1) \n",
    "groups <- cutree(fit, k=6)   \n",
    "rect.hclust(fit, k=6, border=\"red\")"
   ]
  },
  {
   "cell_type": "code",
   "execution_count": null,
   "metadata": {},
   "outputs": [],
   "source": [
    "d <- dist(t(dtmss), method=\"euclidian\")   \n",
    "kfit <- kmeans(d, 2)   \n",
    "clusplot(as.matrix(d), kfit$cluster, color=T, shade=T, labels=2, lines=0)"
   ]
  },
  {
   "cell_type": "code",
   "execution_count": null,
   "metadata": {},
   "outputs": [],
   "source": [
    "set.seed(1234)\n",
    "wordcloud(words = word_freqs$term, freq = word_freqs$num, min.freq = 1,\n",
    "          max.words=200, random.order=FALSE, rot.per=0.35, \n",
    "          colors=brewer.pal(8, \"Dark2\"))"
   ]
  },
  {
   "cell_type": "code",
   "execution_count": null,
   "metadata": {},
   "outputs": [],
   "source": []
  }
 ],
 "metadata": {
  "kernelspec": {
   "display_name": "R",
   "language": "R",
   "name": "ir"
  },
  "language_info": {
   "codemirror_mode": "r",
   "file_extension": ".r",
   "mimetype": "text/x-r-source",
   "name": "R",
   "pygments_lexer": "r",
   "version": "3.6.2"
  }
 },
 "nbformat": 4,
 "nbformat_minor": 4
}
